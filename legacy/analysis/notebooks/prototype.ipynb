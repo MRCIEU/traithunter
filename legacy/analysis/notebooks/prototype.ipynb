{
 "cells": [
  {
   "cell_type": "code",
   "execution_count": 7,
   "id": "4d8de7c0-e5e8-4fea-8d94-bc3778f66ad6",
   "metadata": {
    "execution": {
     "iopub.execute_input": "2022-06-10T15:55:19.418443Z",
     "iopub.status.busy": "2022-06-10T15:55:19.417847Z",
     "iopub.status.idle": "2022-06-10T15:55:19.561923Z",
     "shell.execute_reply": "2022-06-10T15:55:19.561059Z",
     "shell.execute_reply.started": "2022-06-10T15:55:19.418391Z"
    },
    "tags": []
   },
   "outputs": [],
   "source": [
    "%load_ext autoreload\n",
    "%load_ext lab_black\n",
    "\n",
    "%autoreload 2"
   ]
  },
  {
   "cell_type": "code",
   "execution_count": 8,
   "id": "44fdb636-0904-4a1c-a6f7-a8ba40b1263f",
   "metadata": {
    "execution": {
     "iopub.execute_input": "2022-06-10T15:56:10.604731Z",
     "iopub.status.busy": "2022-06-10T15:56:10.604115Z",
     "iopub.status.idle": "2022-06-10T15:56:11.500378Z",
     "shell.execute_reply": "2022-06-10T15:56:11.499467Z",
     "shell.execute_reply.started": "2022-06-10T15:56:10.604676Z"
    },
    "tags": []
   },
   "outputs": [],
   "source": [
    "import pandas as pd\n",
    "from funcs import fn"
   ]
  },
  {
   "cell_type": "code",
   "execution_count": 5,
   "id": "78643f1c-119a-40c3-964b-b9198171e5f8",
   "metadata": {
    "execution": {
     "iopub.execute_input": "2022-06-10T15:54:22.710348Z",
     "iopub.status.busy": "2022-06-10T15:54:22.709601Z",
     "iopub.status.idle": "2022-06-10T15:54:22.718918Z",
     "shell.execute_reply": "2022-06-10T15:54:22.717440Z",
     "shell.execute_reply.started": "2022-06-10T15:54:22.710294Z"
    },
    "tags": []
   },
   "outputs": [
    {
     "name": "stdout",
     "output_type": "stream",
     "text": [
      "/data/ik18445_cache/projects/phenotype-mapping\n"
     ]
    }
   ],
   "source": [
    "from funcs.utils import find_project_root\n",
    "\n",
    "proj_root = find_project_root()\n",
    "print(proj_root)\n",
    "data_dir = proj_root / \"data\"\n",
    "assert data_dir.exists(), data_dir"
   ]
  },
  {
   "cell_type": "code",
   "execution_count": 6,
   "id": "a23a8f16-aac3-432b-a9ef-642cff3808d6",
   "metadata": {
    "execution": {
     "iopub.execute_input": "2022-06-10T15:54:33.495519Z",
     "iopub.status.busy": "2022-06-10T15:54:33.494407Z",
     "iopub.status.idle": "2022-06-10T15:54:33.501458Z",
     "shell.execute_reply": "2022-06-10T15:54:33.500074Z",
     "shell.execute_reply.started": "2022-06-10T15:54:33.495464Z"
    },
    "tags": []
   },
   "outputs": [],
   "source": [
    "output_path = proj_root / \"data\" / \"output\""
   ]
  },
  {
   "cell_type": "code",
   "execution_count": 4,
   "id": "2f7e8617-d1ce-430b-8254-8b6c6155f426",
   "metadata": {
    "execution": {
     "iopub.execute_input": "2022-06-10T15:52:21.678846Z",
     "iopub.status.busy": "2022-06-10T15:52:21.678247Z",
     "iopub.status.idle": "2022-06-10T15:52:21.686177Z",
     "shell.execute_reply": "2022-06-10T15:52:21.684518Z",
     "shell.execute_reply.started": "2022-06-10T15:52:21.678793Z"
    },
    "tags": []
   },
   "outputs": [],
   "source": [
    "df_path = proj_root / \"data\" / \"mvp\" / \"unmapped_to_EFO.csv\"\n",
    "assert df_path.exists(), df_path"
   ]
  }
 ],
 "metadata": {
  "kernelspec": {
   "display_name": "Python 3 (ipykernel)",
   "language": "python",
   "name": "python3"
  },
  "language_info": {
   "codemirror_mode": {
    "name": "ipython",
    "version": 3
   },
   "file_extension": ".py",
   "mimetype": "text/x-python",
   "name": "python",
   "nbconvert_exporter": "python",
   "pygments_lexer": "ipython3",
   "version": "3.8.13"
  }
 },
 "nbformat": 4,
 "nbformat_minor": 5
}
