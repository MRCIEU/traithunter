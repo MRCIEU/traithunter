{
 "cells": [
  {
   "cell_type": "markdown",
   "id": "f775daed-c760-4c21-b0c6-e58f828135ca",
   "metadata": {
    "tags": []
   },
   "source": [
    "# MVP phenotype terms, round 2, mapping terms"
   ]
  },
  {
   "cell_type": "code",
   "execution_count": 1,
   "id": "73665f5d-336b-4faa-92cf-c6ee5fd134b0",
   "metadata": {
    "execution": {
     "iopub.execute_input": "2022-11-07T12:16:09.606492Z",
     "iopub.status.busy": "2022-11-07T12:16:09.605812Z",
     "iopub.status.idle": "2022-11-07T12:16:10.064597Z",
     "shell.execute_reply": "2022-11-07T12:16:10.063563Z",
     "shell.execute_reply.started": "2022-11-07T12:16:09.606352Z"
    },
    "tags": []
   },
   "outputs": [],
   "source": [
    "%load_ext autoreload\n",
    "%autoreload 2\n",
    "\n",
    "%load_ext lab_black"
   ]
  },
  {
   "cell_type": "code",
   "execution_count": 2,
   "id": "d8c15e36-35ae-41d9-aaa7-0cef8acfc7b0",
   "metadata": {
    "execution": {
     "iopub.execute_input": "2022-11-07T12:16:10.427283Z",
     "iopub.status.busy": "2022-11-07T12:16:10.426538Z",
     "iopub.status.idle": "2022-11-07T12:16:10.445424Z",
     "shell.execute_reply": "2022-11-07T12:16:10.444482Z",
     "shell.execute_reply.started": "2022-11-07T12:16:10.427228Z"
    },
    "tags": []
   },
   "outputs": [],
   "source": [
    "import sys\n",
    "from pathlib import Path"
   ]
  },
  {
   "cell_type": "code",
   "execution_count": 3,
   "id": "d8ae7754-3f9c-47c2-90d1-1ef2e0182759",
   "metadata": {
    "execution": {
     "iopub.execute_input": "2022-11-07T12:16:11.247461Z",
     "iopub.status.busy": "2022-11-07T12:16:11.246723Z",
     "iopub.status.idle": "2022-11-07T12:16:11.268950Z",
     "shell.execute_reply": "2022-11-07T12:16:11.267998Z",
     "shell.execute_reply.started": "2022-11-07T12:16:11.247408Z"
    },
    "tags": []
   },
   "outputs": [
    {
     "name": "stdout",
     "output_type": "stream",
     "text": [
      "/data/ik18445_cache/projects/phenotype-mapping/analysis/notebooks/mvp_round_2\n"
     ]
    }
   ],
   "source": [
    "_pwd = Path(\".\").resolve()\n",
    "print(_pwd)\n",
    "sys.path.append(str(_pwd))"
   ]
  },
  {
   "cell_type": "code",
   "execution_count": 4,
   "id": "41c5e0db-20e5-4c5f-9400-3b11a494af84",
   "metadata": {
    "execution": {
     "iopub.execute_input": "2022-11-07T12:16:12.133689Z",
     "iopub.status.busy": "2022-11-07T12:16:12.133050Z",
     "iopub.status.idle": "2022-11-07T12:16:19.748664Z",
     "shell.execute_reply": "2022-11-07T12:16:19.747046Z",
     "shell.execute_reply.started": "2022-11-07T12:16:12.133634Z"
    },
    "tags": []
   },
   "outputs": [],
   "source": [
    "from typing import List\n",
    "import re\n",
    "import json\n",
    "import math\n",
    "\n",
    "import pandas as pd\n",
    "import janitor\n",
    "import numpy as np\n",
    "from pydash import py_\n",
    "\n",
    "import spacy\n",
    "import scispacy\n",
    "\n",
    "import ray\n",
    "\n",
    "from common_funcs import utils\n",
    "from analysis_funcs import paths\n",
    "import mvp_funcs, mvp_types"
   ]
  },
  {
   "cell_type": "code",
   "execution_count": 5,
   "id": "a0000c80-2851-4086-a44c-3385fc1a6319",
   "metadata": {
    "execution": {
     "iopub.execute_input": "2022-11-07T11:32:59.716864Z",
     "iopub.status.busy": "2022-11-07T11:32:59.715908Z",
     "iopub.status.idle": "2022-11-07T11:32:59.750124Z",
     "shell.execute_reply": "2022-11-07T11:32:59.749209Z",
     "shell.execute_reply.started": "2022-11-07T11:32:59.716805Z"
    },
    "tags": []
   },
   "outputs": [],
   "source": [
    "proj_root = utils.find_project_root(\"docker-compose.yml\")\n",
    "assert proj_root.exists(), proj_root\n",
    "\n",
    "data_path = proj_root / \"data\"\n",
    "\n",
    "input_path = data_path / \"output\" / \"mvp-mapping-round-2\"\n",
    "assert input_path.exists(), input_path"
   ]
  },
  {
   "cell_type": "markdown",
   "id": "f59096da-b709-45f1-a385-13dd30db93b2",
   "metadata": {},
   "source": [
    "# Load in "
   ]
  },
  {
   "cell_type": "code",
   "execution_count": 6,
   "id": "8ca0d304-d2c2-40bd-aa79-45825fde7114",
   "metadata": {
    "execution": {
     "iopub.execute_input": "2022-11-07T11:33:01.041033Z",
     "iopub.status.busy": "2022-11-07T11:33:01.040398Z",
     "iopub.status.idle": "2022-11-07T11:33:05.376845Z",
     "shell.execute_reply": "2022-11-07T11:33:05.375928Z",
     "shell.execute_reply.started": "2022-11-07T11:33:01.040980Z"
    },
    "tags": []
   },
   "outputs": [
    {
     "name": "stdout",
     "output_type": "stream",
     "text": [
      "5404\n"
     ]
    }
   ],
   "source": [
    "input_file = input_path / \"mvp-encode.json\"\n",
    "assert input_file.exists(), input_file\n",
    "\n",
    "with input_file.open() as f:\n",
    "    dat_encode = json.load(f)\n",
    "\n",
    "print(len(dat_encode))"
   ]
  },
  {
   "cell_type": "markdown",
   "id": "9c5febce-81aa-4b12-bca3-d72b4686e39e",
   "metadata": {},
   "source": [
    "# Util funcs"
   ]
  },
  {
   "cell_type": "markdown",
   "id": "aa90ec62-c5f5-4a0b-b12f-1f16f68e8a7f",
   "metadata": {
    "tags": []
   },
   "source": [
    "# sample test"
   ]
  },
  {
   "cell_type": "code",
   "execution_count": 7,
   "id": "7a9efc8d-1233-450e-bc48-b7b0aebdf884",
   "metadata": {
    "execution": {
     "iopub.execute_input": "2022-11-07T11:33:08.389151Z",
     "iopub.status.busy": "2022-11-07T11:33:08.388520Z",
     "iopub.status.idle": "2022-11-07T11:33:08.423808Z",
     "shell.execute_reply": "2022-11-07T11:33:08.423009Z",
     "shell.execute_reply.started": "2022-11-07T11:33:08.389097Z"
    },
    "tags": []
   },
   "outputs": [
    {
     "name": "stdout",
     "output_type": "stream",
     "text": [
      "0 UKBB+MVP-8-00 Intestinal infection\n",
      "1 UKBB+MVP-85-01 Bacterial enteritis\n",
      "2 MVP-851-02 Intestinal e.coli\n",
      "3 UKBB+MVP-852-03 Intestinal infection due to C. difficile\n",
      "4 UKBB+MVP-86-04 Viral Enteritis\n",
      "5 MVP-87-05 Intestinal infection due to protozoa\n",
      "6 UKBB+MVP-10-06 Tuberculosis\n",
      "7 MVP-31-07 Diseases due to other mycobacteria\n",
      "8 MVP-311-08 Leprosy\n",
      "9 UKBB+MVP-38-09 Septicemia\n",
      "10 UKBB+MVP-381-10 Gram negative septicemia\n",
      "11 UKBB+MVP-382-11 Gram positive septicemia\n",
      "12 MVP-383-12 Bacteremia\n",
      "13 UKBB+MVP-41-13 Bacterial infection\n",
      "14 UKBB+MVP-411-14 Staphylococcus infections\n"
     ]
    }
   ],
   "source": [
    "sample = dat_encode[:15]\n",
    "for idx, _ in enumerate(sample):\n",
    "    print(idx, _[\"trait_id\"], _[\"trait_term_encode\"][\"term\"])"
   ]
  },
  {
   "cell_type": "code",
   "execution_count": 8,
   "id": "4e755ea3-a087-4dfc-95e8-b7ca9adb1fa4",
   "metadata": {
    "execution": {
     "iopub.execute_input": "2022-11-07T11:33:09.694642Z",
     "iopub.status.busy": "2022-11-07T11:33:09.693903Z",
     "iopub.status.idle": "2022-11-07T11:33:11.764097Z",
     "shell.execute_reply": "2022-11-07T11:33:11.762635Z",
     "shell.execute_reply.started": "2022-11-07T11:33:09.694587Z"
    },
    "tags": []
   },
   "outputs": [],
   "source": [
    "sample_mapping = [mvp_funcs.get_mapping(_) for _ in sample]\n",
    "\n",
    "output_file = input_file.parent / \"mvp-mapping-sample.json\"\n",
    "with output_file.open(\"w\") as f:\n",
    "    json.dump(sample_mapping, f)"
   ]
  },
  {
   "cell_type": "markdown",
   "id": "6f769848-f1ae-4331-98c2-4028195fd907",
   "metadata": {},
   "source": [
    "# actual processing"
   ]
  },
  {
   "cell_type": "code",
   "execution_count": 11,
   "id": "29ce2d3e-7393-4ac7-a783-655af4ef9bf1",
   "metadata": {
    "execution": {
     "iopub.execute_input": "2022-11-07T11:42:06.621418Z",
     "iopub.status.busy": "2022-11-07T11:42:06.620762Z",
     "iopub.status.idle": "2022-11-07T11:42:09.389780Z",
     "shell.execute_reply": "2022-11-07T11:42:09.388709Z",
     "shell.execute_reply.started": "2022-11-07T11:42:06.621363Z"
    },
    "tags": []
   },
   "outputs": [
    {
     "name": "stderr",
     "output_type": "stream",
     "text": [
      "2022-11-07 11:42:08,718\tINFO worker.py:1518 -- Started a local Ray instance.\n"
     ]
    },
    {
     "data": {
      "text/html": [
       "<div>\n",
       "    <div style=\"margin-left: 50px;display: flex;flex-direction: row;align-items: center\">\n",
       "        <h3 style=\"color: var(--jp-ui-font-color0)\">Ray</h3>\n",
       "        <svg version=\"1.1\" id=\"ray\" width=\"3em\" viewBox=\"0 0 144.5 144.6\" style=\"margin-left: 3em;margin-right: 3em\">\n",
       "            <g id=\"layer-1\">\n",
       "                <path fill=\"#00a2e9\" class=\"st0\" d=\"M97.3,77.2c-3.8-1.1-6.2,0.9-8.3,5.1c-3.5,6.8-9.9,9.9-17.4,9.6S58,88.1,54.8,81.2c-1.4-3-3-4-6.3-4.1\n",
       "                    c-5.6-0.1-9.9,0.1-13.1,6.4c-3.8,7.6-13.6,10.2-21.8,7.6C5.2,88.4-0.4,80.5,0,71.7c0.1-8.4,5.7-15.8,13.8-18.2\n",
       "                    c8.4-2.6,17.5,0.7,22.3,8c1.3,1.9,1.3,5.2,3.6,5.6c3.9,0.6,8,0.2,12,0.2c1.8,0,1.9-1.6,2.4-2.8c3.5-7.8,9.7-11.8,18-11.9\n",
       "                    c8.2-0.1,14.4,3.9,17.8,11.4c1.3,2.8,2.9,3.6,5.7,3.3c1-0.1,2,0.1,3,0c2.8-0.5,6.4,1.7,8.1-2.7s-2.3-5.5-4.1-7.5\n",
       "                    c-5.1-5.7-10.9-10.8-16.1-16.3C84,38,81.9,37.1,78,38.3C66.7,42,56.2,35.7,53,24.1C50.3,14,57.3,2.8,67.7,0.5\n",
       "                    C78.4-2,89,4.7,91.5,15.3c0.1,0.3,0.1,0.5,0.2,0.8c0.7,3.4,0.7,6.9-0.8,9.8c-1.7,3.2-0.8,5,1.5,7.2c6.7,6.5,13.3,13,19.8,19.7\n",
       "                    c1.8,1.8,3,2.1,5.5,1.2c9.1-3.4,17.9-0.6,23.4,7c4.8,6.9,4.6,16.1-0.4,22.9c-5.4,7.2-14.2,9.9-23.1,6.5c-2.3-0.9-3.5-0.6-5.1,1.1\n",
       "                    c-6.7,6.9-13.6,13.7-20.5,20.4c-1.8,1.8-2.5,3.2-1.4,5.9c3.5,8.7,0.3,18.6-7.7,23.6c-7.9,5-18.2,3.8-24.8-2.9\n",
       "                    c-6.4-6.4-7.4-16.2-2.5-24.3c4.9-7.8,14.5-11,23.1-7.8c3,1.1,4.7,0.5,6.9-1.7C91.7,98.4,98,92.3,104.2,86c1.6-1.6,4.1-2.7,2.6-6.2\n",
       "                    c-1.4-3.3-3.8-2.5-6.2-2.6C99.8,77.2,98.9,77.2,97.3,77.2z M72.1,29.7c5.5,0.1,9.9-4.3,10-9.8c0-0.1,0-0.2,0-0.3\n",
       "                    C81.8,14,77,9.8,71.5,10.2c-5,0.3-9,4.2-9.3,9.2c-0.2,5.5,4,10.1,9.5,10.3C71.8,29.7,72,29.7,72.1,29.7z M72.3,62.3\n",
       "                    c-5.4-0.1-9.9,4.2-10.1,9.7c0,0.2,0,0.3,0,0.5c0.2,5.4,4.5,9.7,9.9,10c5.1,0.1,9.9-4.7,10.1-9.8c0.2-5.5-4-10-9.5-10.3\n",
       "                    C72.6,62.3,72.4,62.3,72.3,62.3z M115,72.5c0.1,5.4,4.5,9.7,9.8,9.9c5.6-0.2,10-4.8,10-10.4c-0.2-5.4-4.6-9.7-10-9.7\n",
       "                    c-5.3-0.1-9.8,4.2-9.9,9.5C115,72.1,115,72.3,115,72.5z M19.5,62.3c-5.4,0.1-9.8,4.4-10,9.8c-0.1,5.1,5.2,10.4,10.2,10.3\n",
       "                    c5.6-0.2,10-4.9,9.8-10.5c-0.1-5.4-4.5-9.7-9.9-9.6C19.6,62.3,19.5,62.3,19.5,62.3z M71.8,134.6c5.9,0.2,10.3-3.9,10.4-9.6\n",
       "                    c0.5-5.5-3.6-10.4-9.1-10.8c-5.5-0.5-10.4,3.6-10.8,9.1c0,0.5,0,0.9,0,1.4c-0.2,5.3,4,9.8,9.3,10\n",
       "                    C71.6,134.6,71.7,134.6,71.8,134.6z\"/>\n",
       "            </g>\n",
       "        </svg>\n",
       "        <table>\n",
       "            <tr>\n",
       "                <td style=\"text-align: left\"><b>Python version:</b></td>\n",
       "                <td style=\"text-align: left\"><b>3.8.13</b></td>\n",
       "            </tr>\n",
       "            <tr>\n",
       "                <td style=\"text-align: left\"><b>Ray version:</b></td>\n",
       "                <td style=\"text-align: left\"><b> 2.0.1</b></td>\n",
       "            </tr>\n",
       "            \n",
       "        </table>\n",
       "    </div>\n",
       "</div>\n"
      ],
      "text/plain": [
       "RayContext(dashboard_url='', python_version='3.8.13', ray_version='2.0.1', ray_commit='03b6bc7b5a305877501110ec04710a9c57011479', address_info={'node_ip_address': '137.222.4.102', 'raylet_ip_address': '137.222.4.102', 'redis_address': None, 'object_store_address': '/tmp/ray/session_2022-11-07_11-42-06_751658_57513/sockets/plasma_store', 'raylet_socket_name': '/tmp/ray/session_2022-11-07_11-42-06_751658_57513/sockets/raylet', 'webui_url': '', 'session_dir': '/tmp/ray/session_2022-11-07_11-42-06_751658_57513', 'metrics_export_port': 46835, 'gcs_address': '137.222.4.102:54540', 'address': '137.222.4.102:54540', 'dashboard_agent_listen_port': 52365, 'node_id': 'f91afd26ae088020218e6f4a4097ea36b734cbb9e9e8fadda871428e'})"
      ]
     },
     "execution_count": 11,
     "metadata": {},
     "output_type": "execute_result"
    }
   ],
   "source": [
    "NUM_WORKERS = 8\n",
    "\n",
    "if ray.is_initialized():\n",
    "    ray.shutdown()\n",
    "ray.init(num_cpus=NUM_WORKERS)"
   ]
  },
  {
   "cell_type": "code",
   "execution_count": null,
   "id": "7f192426-c152-4e1f-8062-69237b481def",
   "metadata": {},
   "outputs": [],
   "source": [
    "ray.shutdown()"
   ]
  },
  {
   "cell_type": "markdown",
   "id": "1ea94c30-29f0-4993-8539-5b70a203205f",
   "metadata": {},
   "source": [
    "# post processing diagnostics"
   ]
  },
  {
   "cell_type": "markdown",
   "id": "c870c828-e512-415f-a80f-917e900566a1",
   "metadata": {},
   "source": [
    "# wrap up"
   ]
  }
 ],
 "metadata": {
  "kernelspec": {
   "display_name": "Python 3 (ipykernel)",
   "language": "python",
   "name": "python3"
  },
  "language_info": {
   "codemirror_mode": {
    "name": "ipython",
    "version": 3
   },
   "file_extension": ".py",
   "mimetype": "text/x-python",
   "name": "python",
   "nbconvert_exporter": "python",
   "pygments_lexer": "ipython3",
   "version": "3.8.13"
  }
 },
 "nbformat": 4,
 "nbformat_minor": 5
}
