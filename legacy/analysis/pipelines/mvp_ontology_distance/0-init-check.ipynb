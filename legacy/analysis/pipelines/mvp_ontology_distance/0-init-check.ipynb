{
 "cells": [
  {
   "cell_type": "code",
   "execution_count": 1,
   "id": "2d6be9c8-470b-4203-8d18-ba1849bff5f8",
   "metadata": {
    "execution": {
     "iopub.execute_input": "2023-02-07T13:05:18.182701Z",
     "iopub.status.busy": "2023-02-07T13:05:18.181829Z",
     "iopub.status.idle": "2023-02-07T13:05:18.798553Z",
     "shell.execute_reply": "2023-02-07T13:05:18.797599Z",
     "shell.execute_reply.started": "2023-02-07T13:05:18.182553Z"
    },
    "tags": []
   },
   "outputs": [],
   "source": [
    "%load_ext autoreload\n",
    "%autoreload 2\n",
    "\n",
    "%load_ext lab_black"
   ]
  },
  {
   "cell_type": "code",
   "execution_count": 2,
   "id": "9c1244da-cfff-41b6-b872-dfa98345af44",
   "metadata": {
    "execution": {
     "iopub.execute_input": "2023-02-07T13:05:19.830386Z",
     "iopub.status.busy": "2023-02-07T13:05:19.829749Z",
     "iopub.status.idle": "2023-02-07T13:05:19.848618Z",
     "shell.execute_reply": "2023-02-07T13:05:19.847827Z",
     "shell.execute_reply.started": "2023-02-07T13:05:19.830335Z"
    },
    "tags": []
   },
   "outputs": [],
   "source": [
    "import sys\n",
    "from pathlib import Path"
   ]
  },
  {
   "cell_type": "code",
   "execution_count": 3,
   "id": "1e8e172c-9190-464d-b626-bb1c3104c06a",
   "metadata": {
    "execution": {
     "iopub.execute_input": "2023-02-07T13:05:20.972961Z",
     "iopub.status.busy": "2023-02-07T13:05:20.972533Z",
     "iopub.status.idle": "2023-02-07T13:05:20.988203Z",
     "shell.execute_reply": "2023-02-07T13:05:20.987192Z",
     "shell.execute_reply.started": "2023-02-07T13:05:20.972936Z"
    },
    "tags": []
   },
   "outputs": [
    {
     "name": "stdout",
     "output_type": "stream",
     "text": [
      "/data/ik18445_cache/projects/phenotype-mapping/analysis/pipelines/mvp_ontology_distance\n"
     ]
    }
   ],
   "source": [
    "_pwd = Path(\".\").resolve()\n",
    "print(_pwd)\n",
    "sys.path.append(str(_pwd))"
   ]
  },
  {
   "cell_type": "code",
   "execution_count": 4,
   "id": "9c2945dd-0cf3-4e15-aa3d-4f9a1027c10e",
   "metadata": {
    "execution": {
     "iopub.execute_input": "2023-02-07T13:05:22.019410Z",
     "iopub.status.busy": "2023-02-07T13:05:22.018757Z",
     "iopub.status.idle": "2023-02-07T13:05:26.936932Z",
     "shell.execute_reply": "2023-02-07T13:05:26.935997Z",
     "shell.execute_reply.started": "2023-02-07T13:05:22.019368Z"
    },
    "tags": []
   },
   "outputs": [],
   "source": [
    "import pandas as pd\n",
    "import janitor\n",
    "from pydash import py_"
   ]
  },
  {
   "cell_type": "code",
   "execution_count": 5,
   "id": "f64b622a-078b-4e09-a471-3c4f9e7edcd9",
   "metadata": {
    "execution": {
     "iopub.execute_input": "2023-02-07T13:05:28.298857Z",
     "iopub.status.busy": "2023-02-07T13:05:28.297825Z",
     "iopub.status.idle": "2023-02-07T13:05:28.353253Z",
     "shell.execute_reply": "2023-02-07T13:05:28.351970Z",
     "shell.execute_reply.started": "2023-02-07T13:05:28.298797Z"
    },
    "tags": []
   },
   "outputs": [],
   "source": [
    "from common_funcs import utils"
   ]
  },
  {
   "cell_type": "code",
   "execution_count": 9,
   "id": "bbe0ed15-a73d-4ece-aa6d-85b9e5f67ee1",
   "metadata": {
    "execution": {
     "iopub.execute_input": "2023-02-07T13:08:43.196461Z",
     "iopub.status.busy": "2023-02-07T13:08:43.195823Z",
     "iopub.status.idle": "2023-02-07T13:08:43.225623Z",
     "shell.execute_reply": "2023-02-07T13:08:43.224663Z",
     "shell.execute_reply.started": "2023-02-07T13:08:43.196407Z"
    },
    "tags": []
   },
   "outputs": [],
   "source": [
    "proj_root = utils.find_project_root(\"docker-compose.yml\")\n",
    "assert proj_root.exists(), proj_root\n",
    "data_dir = proj_root / \"data\"\n",
    "\n",
    "source_dir = data_dir / \"source\" / \"mvp-ontology-terms-2023-01\"\n",
    "assert source_dir.exists(), source_dir"
   ]
  },
  {
   "cell_type": "code",
   "execution_count": 14,
   "id": "72db1102-9ff5-48fd-82f0-56ffec101d3d",
   "metadata": {
    "execution": {
     "iopub.execute_input": "2023-02-07T13:10:33.336417Z",
     "iopub.status.busy": "2023-02-07T13:10:33.335372Z",
     "iopub.status.idle": "2023-02-07T13:10:33.396549Z",
     "shell.execute_reply": "2023-02-07T13:10:33.395853Z",
     "shell.execute_reply.started": "2023-02-07T13:10:33.336361Z"
    },
    "tags": []
   },
   "outputs": [
    {
     "name": "stdout",
     "output_type": "stream",
     "text": [
      "<class 'pandas.core.frame.DataFrame'>\n",
      "RangeIndex: 15377 entries, 0 to 15376\n",
      "Data columns (total 2 columns):\n",
      " #   Column    Non-Null Count  Dtype \n",
      "---  ------    --------------  ----- \n",
      " 0   EFO_ID    15377 non-null  object\n",
      " 1   EFO_Term  15377 non-null  object\n",
      "dtypes: object(2)\n",
      "memory usage: 240.4+ KB\n"
     ]
    },
    {
     "data": {
      "text/html": [
       "<div>\n",
       "<style scoped>\n",
       "    .dataframe tbody tr th:only-of-type {\n",
       "        vertical-align: middle;\n",
       "    }\n",
       "\n",
       "    .dataframe tbody tr th {\n",
       "        vertical-align: top;\n",
       "    }\n",
       "\n",
       "    .dataframe thead th {\n",
       "        text-align: right;\n",
       "    }\n",
       "</style>\n",
       "<table border=\"1\" class=\"dataframe\">\n",
       "  <thead>\n",
       "    <tr style=\"text-align: right;\">\n",
       "      <th></th>\n",
       "      <th>EFO_ID</th>\n",
       "      <th>EFO_Term</th>\n",
       "    </tr>\n",
       "  </thead>\n",
       "  <tbody>\n",
       "    <tr>\n",
       "      <th>0</th>\n",
       "      <td>CHEBI_16737</td>\n",
       "      <td>creatinine</td>\n",
       "    </tr>\n",
       "    <tr>\n",
       "      <th>1</th>\n",
       "      <td>CHEBI_16990</td>\n",
       "      <td>bilirubin IXalpha</td>\n",
       "    </tr>\n",
       "    <tr>\n",
       "      <th>2</th>\n",
       "      <td>CHEBI_17347</td>\n",
       "      <td>testosterone</td>\n",
       "    </tr>\n",
       "    <tr>\n",
       "      <th>3</th>\n",
       "      <td>CHEBI_23965</td>\n",
       "      <td>estradiol</td>\n",
       "    </tr>\n",
       "    <tr>\n",
       "      <th>4</th>\n",
       "      <td>CHEBI_26020</td>\n",
       "      <td>phosphate</td>\n",
       "    </tr>\n",
       "    <tr>\n",
       "      <th>...</th>\n",
       "      <td>...</td>\n",
       "      <td>...</td>\n",
       "    </tr>\n",
       "    <tr>\n",
       "      <th>15372</th>\n",
       "      <td>UBERON_0000947</td>\n",
       "      <td>aorta</td>\n",
       "    </tr>\n",
       "    <tr>\n",
       "      <th>15373</th>\n",
       "      <td>UBERON_0001467</td>\n",
       "      <td>shoulder</td>\n",
       "    </tr>\n",
       "    <tr>\n",
       "      <th>15374</th>\n",
       "      <td>UBERON_0002198</td>\n",
       "      <td>neurohypophysis</td>\n",
       "    </tr>\n",
       "    <tr>\n",
       "      <th>15375</th>\n",
       "      <td>UBERON_0002384</td>\n",
       "      <td>connective tissue</td>\n",
       "    </tr>\n",
       "    <tr>\n",
       "      <th>15376</th>\n",
       "      <td>UBERON_0010996</td>\n",
       "      <td>articular cartilage of joint</td>\n",
       "    </tr>\n",
       "  </tbody>\n",
       "</table>\n",
       "<p>15377 rows × 2 columns</p>\n",
       "</div>"
      ],
      "text/plain": [
       "               EFO_ID                      EFO_Term\n",
       "0         CHEBI_16737                    creatinine\n",
       "1         CHEBI_16990             bilirubin IXalpha\n",
       "2         CHEBI_17347                  testosterone\n",
       "3         CHEBI_23965                     estradiol\n",
       "4         CHEBI_26020                     phosphate\n",
       "...               ...                           ...\n",
       "15372  UBERON_0000947                         aorta\n",
       "15373  UBERON_0001467                      shoulder\n",
       "15374  UBERON_0002198               neurohypophysis\n",
       "15375  UBERON_0002384             connective tissue\n",
       "15376  UBERON_0010996  articular cartilage of joint\n",
       "\n",
       "[15377 rows x 2 columns]"
      ]
     },
     "execution_count": 14,
     "metadata": {},
     "output_type": "execute_result"
    }
   ],
   "source": [
    "input_file = source_dir / \"ontology_masterfile_for_Yi_31JAN2023.csv\"\n",
    "assert input_file.exists(), input_file\n",
    "\n",
    "raw_df = pd.read_csv(input_file)\n",
    "raw_df.info()\n",
    "raw_df"
   ]
  },
  {
   "cell_type": "code",
   "execution_count": 15,
   "id": "c8da55e1-5d77-4e00-ad2a-5b976e8500b1",
   "metadata": {
    "execution": {
     "iopub.execute_input": "2023-02-07T13:11:22.711606Z",
     "iopub.status.busy": "2023-02-07T13:11:22.710890Z",
     "iopub.status.idle": "2023-02-07T13:11:22.748708Z",
     "shell.execute_reply": "2023-02-07T13:11:22.747294Z",
     "shell.execute_reply.started": "2023-02-07T13:11:22.711551Z"
    },
    "tags": []
   },
   "outputs": [
    {
     "name": "stdout",
     "output_type": "stream",
     "text": [
      "15377\n",
      "15377\n"
     ]
    }
   ],
   "source": [
    "print(raw_df.__len__())\n",
    "print(raw_df[\"EFO_ID\"].drop_duplicates().__len__())"
   ]
  },
  {
   "cell_type": "code",
   "execution_count": 16,
   "id": "e99f4a9c-6f6d-45e6-ba7e-a587f2c8532b",
   "metadata": {
    "execution": {
     "iopub.execute_input": "2023-02-07T13:11:24.460594Z",
     "iopub.status.busy": "2023-02-07T13:11:24.459799Z",
     "iopub.status.idle": "2023-02-07T13:11:24.494077Z",
     "shell.execute_reply": "2023-02-07T13:11:24.493167Z",
     "shell.execute_reply.started": "2023-02-07T13:11:24.460539Z"
    },
    "tags": []
   },
   "outputs": [
    {
     "data": {
      "text/plain": [
       "15377"
      ]
     },
     "execution_count": 16,
     "metadata": {},
     "output_type": "execute_result"
    }
   ],
   "source": [
    "raw_df[\"EFO_Term\"].dropna().__len__()"
   ]
  }
 ],
 "metadata": {
  "kernelspec": {
   "display_name": "Python 3 (ipykernel)",
   "language": "python",
   "name": "python3"
  },
  "language_info": {
   "codemirror_mode": {
    "name": "ipython",
    "version": 3
   },
   "file_extension": ".py",
   "mimetype": "text/x-python",
   "name": "python",
   "nbconvert_exporter": "python",
   "pygments_lexer": "ipython3",
   "version": "3.8.13"
  }
 },
 "nbformat": 4,
 "nbformat_minor": 5
}
