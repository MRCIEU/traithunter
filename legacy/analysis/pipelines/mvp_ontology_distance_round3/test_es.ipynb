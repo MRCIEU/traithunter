{
 "cells": [
  {
   "cell_type": "code",
   "execution_count": 4,
   "id": "fef760f0-47df-40d1-84db-d7ad53046cac",
   "metadata": {
    "execution": {
     "iopub.execute_input": "2023-04-05T11:03:10.956995Z",
     "iopub.status.busy": "2023-04-05T11:03:10.956186Z",
     "iopub.status.idle": "2023-04-05T11:03:11.470410Z",
     "shell.execute_reply": "2023-04-05T11:03:11.469388Z",
     "shell.execute_reply.started": "2023-04-05T11:03:10.956940Z"
    },
    "tags": []
   },
   "outputs": [],
   "source": [
    "import pandas as pd\n",
    "import requests\n",
    "from analysis_funcs import settings"
   ]
  },
  {
   "cell_type": "code",
   "execution_count": 2,
   "id": "c25c5d89-5550-4914-9720-1c5b459436a5",
   "metadata": {
    "execution": {
     "iopub.execute_input": "2023-04-05T11:02:40.904627Z",
     "iopub.status.busy": "2023-04-05T11:02:40.904033Z",
     "iopub.status.idle": "2023-04-05T11:02:40.923998Z",
     "shell.execute_reply": "2023-04-05T11:02:40.923098Z",
     "shell.execute_reply.started": "2023-04-05T11:02:40.904575Z"
    },
    "tags": []
   },
   "outputs": [
    {
     "data": {
      "text/plain": [
       "'http://localhost:6350'"
      ]
     },
     "execution_count": 2,
     "metadata": {},
     "output_type": "execute_result"
    }
   ],
   "source": [
    "ES_URL = settings.es_url\n",
    "ES_URL"
   ]
  },
  {
   "cell_type": "code",
   "execution_count": 3,
   "id": "f6dc06c6-f3f8-4f53-ac8f-c770b77f01bb",
   "metadata": {
    "execution": {
     "iopub.execute_input": "2023-04-05T11:02:58.401109Z",
     "iopub.status.busy": "2023-04-05T11:02:58.400509Z",
     "iopub.status.idle": "2023-04-05T11:02:58.424158Z",
     "shell.execute_reply": "2023-04-05T11:02:58.422854Z",
     "shell.execute_reply.started": "2023-04-05T11:02:58.401056Z"
    },
    "tags": []
   },
   "outputs": [
    {
     "data": {
      "text/plain": [
       "{'name': 'd7754ca184ba',\n",
       " 'cluster_name': 'docker-cluster',\n",
       " 'cluster_uuid': 'mHNGvfrUQDeAEzzLpvwmYQ',\n",
       " 'version': {'number': '8.2.3',\n",
       "  'build_flavor': 'default',\n",
       "  'build_type': 'docker',\n",
       "  'build_hash': '9905bfb62a3f0b044948376b4f607f70a8a151b4',\n",
       "  'build_date': '2022-06-08T22:21:36.455508792Z',\n",
       "  'build_snapshot': False,\n",
       "  'lucene_version': '9.1.0',\n",
       "  'minimum_wire_compatibility_version': '7.17.0',\n",
       "  'minimum_index_compatibility_version': '7.0.0'},\n",
       " 'tagline': 'You Know, for Search'}"
      ]
     },
     "execution_count": 3,
     "metadata": {},
     "output_type": "execute_result"
    }
   ],
   "source": [
    "r = requests.get(ES_URL)\n",
    "assert r.ok\n",
    "r.json()"
   ]
  }
 ],
 "metadata": {
  "kernelspec": {
   "display_name": "Python 3 (ipykernel)",
   "language": "python",
   "name": "python3"
  },
  "language_info": {
   "codemirror_mode": {
    "name": "ipython",
    "version": 3
   },
   "file_extension": ".py",
   "mimetype": "text/x-python",
   "name": "python",
   "nbconvert_exporter": "python",
   "pygments_lexer": "ipython3",
   "version": "3.8.13"
  }
 },
 "nbformat": 4,
 "nbformat_minor": 5
}
