{
 "cells": [
  {
   "cell_type": "markdown",
   "id": "e0d3114f-66d0-452e-a60e-2998cca054f6",
   "metadata": {
    "tags": []
   },
   "source": [
    "# MVP phenotype terms, round 2, encode terms"
   ]
  },
  {
   "cell_type": "code",
   "execution_count": 1,
   "id": "5197dcd7-1400-4c62-9f36-3c5c8f1417bb",
   "metadata": {
    "execution": {
     "iopub.execute_input": "2022-11-07T12:11:23.971514Z",
     "iopub.status.busy": "2022-11-07T12:11:23.970719Z",
     "iopub.status.idle": "2022-11-07T12:11:24.071752Z",
     "shell.execute_reply": "2022-11-07T12:11:24.070934Z",
     "shell.execute_reply.started": "2022-11-07T12:11:23.971362Z"
    },
    "tags": []
   },
   "outputs": [],
   "source": [
    "%load_ext autoreload\n",
    "%autoreload 2\n",
    "\n",
    "%load_ext lab_black"
   ]
  },
  {
   "cell_type": "code",
   "execution_count": 2,
   "id": "5289955a-32b5-4476-ae67-3a57e35f4c21",
   "metadata": {
    "execution": {
     "iopub.execute_input": "2022-11-07T12:11:24.876765Z",
     "iopub.status.busy": "2022-11-07T12:11:24.876147Z",
     "iopub.status.idle": "2022-11-07T12:11:24.896000Z",
     "shell.execute_reply": "2022-11-07T12:11:24.895012Z",
     "shell.execute_reply.started": "2022-11-07T12:11:24.876711Z"
    },
    "tags": []
   },
   "outputs": [],
   "source": [
    "import sys\n",
    "from pathlib import Path"
   ]
  },
  {
   "cell_type": "code",
   "execution_count": 3,
   "id": "53588dd4-53d4-4622-aa49-93d655ab06fb",
   "metadata": {
    "execution": {
     "iopub.execute_input": "2022-11-07T12:11:25.654847Z",
     "iopub.status.busy": "2022-11-07T12:11:25.654246Z",
     "iopub.status.idle": "2022-11-07T12:11:25.676836Z",
     "shell.execute_reply": "2022-11-07T12:11:25.675792Z",
     "shell.execute_reply.started": "2022-11-07T12:11:25.654794Z"
    },
    "tags": []
   },
   "outputs": [
    {
     "name": "stdout",
     "output_type": "stream",
     "text": [
      "/data/ik18445_cache/projects/phenotype-mapping/analysis/notebooks/mvp_round_2\n"
     ]
    }
   ],
   "source": [
    "_pwd = Path(\".\").resolve()\n",
    "print(_pwd)\n",
    "sys.path.append(str(_pwd))"
   ]
  },
  {
   "cell_type": "code",
   "execution_count": 4,
   "id": "7289f8b2-7afc-45b2-9b51-13ba6b5d3ca7",
   "metadata": {
    "execution": {
     "iopub.execute_input": "2022-11-07T12:11:26.544377Z",
     "iopub.status.busy": "2022-11-07T12:11:26.543617Z",
     "iopub.status.idle": "2022-11-07T12:11:27.944208Z",
     "shell.execute_reply": "2022-11-07T12:11:27.943294Z",
     "shell.execute_reply.started": "2022-11-07T12:11:26.544324Z"
    },
    "tags": []
   },
   "outputs": [],
   "source": [
    "from typing import List\n",
    "import re\n",
    "import json\n",
    "import math\n",
    "\n",
    "import pandas as pd\n",
    "import janitor\n",
    "import numpy as np\n",
    "from pydash import py_\n",
    "\n",
    "import spacy\n",
    "import scispacy\n",
    "\n",
    "import ray\n",
    "\n",
    "from common_funcs import utils\n",
    "from analysis_funcs import paths\n",
    "import mvp_funcs"
   ]
  },
  {
   "cell_type": "code",
   "execution_count": 5,
   "id": "457e16b5-b900-4f03-a918-fef07cb8ff36",
   "metadata": {
    "execution": {
     "iopub.execute_input": "2022-11-07T12:11:27.945885Z",
     "iopub.status.busy": "2022-11-07T12:11:27.945401Z",
     "iopub.status.idle": "2022-11-07T12:11:27.970683Z",
     "shell.execute_reply": "2022-11-07T12:11:27.969767Z",
     "shell.execute_reply.started": "2022-11-07T12:11:27.945861Z"
    },
    "tags": []
   },
   "outputs": [],
   "source": [
    "proj_root = utils.find_project_root(\"docker-compose.yml\")\n",
    "assert proj_root.exists(), proj_root\n",
    "\n",
    "data_path = proj_root / \"data\"\n",
    "\n",
    "input_path = data_path / \"output\" / \"mvp-mapping-round-2\"\n",
    "assert input_path.exists(), input_path\n",
    "\n",
    "model_path = paths.models[\"scispacy_lg\"]\n",
    "assert model_path.exists(), model_path"
   ]
  },
  {
   "cell_type": "code",
   "execution_count": 6,
   "id": "ba07ac0e-9fba-4ab2-a846-3153037d6d0e",
   "metadata": {
    "execution": {
     "iopub.execute_input": "2022-11-07T12:11:28.722371Z",
     "iopub.status.busy": "2022-11-07T12:11:28.721603Z",
     "iopub.status.idle": "2022-11-07T12:11:28.751865Z",
     "shell.execute_reply": "2022-11-07T12:11:28.750872Z",
     "shell.execute_reply.started": "2022-11-07T12:11:28.722319Z"
    },
    "tags": []
   },
   "outputs": [],
   "source": [
    "NUM_WORKERS = 4"
   ]
  },
  {
   "cell_type": "markdown",
   "id": "68cc8d8d-db90-49bd-9299-1fac17914386",
   "metadata": {},
   "source": [
    "# Load in "
   ]
  },
  {
   "cell_type": "code",
   "execution_count": 7,
   "id": "e005ce6c-ca63-42cc-9a0b-b399f1ef3512",
   "metadata": {
    "execution": {
     "iopub.execute_input": "2022-11-07T12:11:30.018688Z",
     "iopub.status.busy": "2022-11-07T12:11:30.018039Z",
     "iopub.status.idle": "2022-11-07T12:11:30.118263Z",
     "shell.execute_reply": "2022-11-07T12:11:30.117428Z",
     "shell.execute_reply.started": "2022-11-07T12:11:30.018635Z"
    },
    "tags": []
   },
   "outputs": [
    {
     "data": {
      "text/html": [
       "<div>\n",
       "<style scoped>\n",
       "    .dataframe tbody tr th:only-of-type {\n",
       "        vertical-align: middle;\n",
       "    }\n",
       "\n",
       "    .dataframe tbody tr th {\n",
       "        vertical-align: top;\n",
       "    }\n",
       "\n",
       "    .dataframe thead th {\n",
       "        text-align: right;\n",
       "    }\n",
       "</style>\n",
       "<table border=\"1\" class=\"dataframe\">\n",
       "  <thead>\n",
       "    <tr style=\"text-align: right;\">\n",
       "      <th></th>\n",
       "      <th>trait_id</th>\n",
       "      <th>trait_term</th>\n",
       "      <th>trait_term_clean</th>\n",
       "      <th>trait_basic_info</th>\n",
       "      <th>regular_ents</th>\n",
       "      <th>kb_ents</th>\n",
       "      <th>ents</th>\n",
       "    </tr>\n",
       "  </thead>\n",
       "  <tbody>\n",
       "    <tr>\n",
       "      <th>0</th>\n",
       "      <td>UKBB+MVP-8-00</td>\n",
       "      <td>Intestinal infection</td>\n",
       "      <td>Intestinal infection</td>\n",
       "      <td>{'Phenotype': '8', 'description': 'Intestinal ...</td>\n",
       "      <td>[Intestinal infection]</td>\n",
       "      <td>[Intestinal infectious disease (disorder), Sma...</td>\n",
       "      <td>[Intestinal infection, Intestinal infectious d...</td>\n",
       "    </tr>\n",
       "    <tr>\n",
       "      <th>1</th>\n",
       "      <td>UKBB+MVP-85-01</td>\n",
       "      <td>Bacterial enteritis</td>\n",
       "      <td>Bacterial enteritis</td>\n",
       "      <td>{'Phenotype': '8.5', 'description': 'Bacterial...</td>\n",
       "      <td>[Bacterial enteritis]</td>\n",
       "      <td>[Bacterial enteritis, Enteritis, Bacterial gas...</td>\n",
       "      <td>[Bacterial enteritis, Enteritis, Bacterial gas...</td>\n",
       "    </tr>\n",
       "    <tr>\n",
       "      <th>2</th>\n",
       "      <td>MVP-851-02</td>\n",
       "      <td>Intestinal e.coli</td>\n",
       "      <td>Intestinal e.coli</td>\n",
       "      <td>{'Phenotype': '8.51', 'description': 'Intestin...</td>\n",
       "      <td>[Intestinal]</td>\n",
       "      <td>[Intestines, Intestinal route, Intestinal Neur...</td>\n",
       "      <td>[Intestinal, Intestines, Intestinal route, Int...</td>\n",
       "    </tr>\n",
       "    <tr>\n",
       "      <th>3</th>\n",
       "      <td>UKBB+MVP-852-03</td>\n",
       "      <td>Intestinal infection due to C. difficile</td>\n",
       "      <td>Intestinal infection due to C. difficile</td>\n",
       "      <td>{'Phenotype': '8.52', 'description': 'Intestin...</td>\n",
       "      <td>[Intestinal infection, C. difficile]</td>\n",
       "      <td>[Intestinal infectious disease (disorder), Sma...</td>\n",
       "      <td>[Intestinal infection, C. difficile, Intestina...</td>\n",
       "    </tr>\n",
       "    <tr>\n",
       "      <th>4</th>\n",
       "      <td>UKBB+MVP-86-04</td>\n",
       "      <td>Viral Enteritis</td>\n",
       "      <td>Viral Enteritis</td>\n",
       "      <td>{'Phenotype': '8.6', 'description': 'Viral Ent...</td>\n",
       "      <td>[Viral Enteritis]</td>\n",
       "      <td>[Viral enteritis, Mink Viral Enteritis, Enteri...</td>\n",
       "      <td>[Viral Enteritis, Mink Viral Enteritis, Enteri...</td>\n",
       "    </tr>\n",
       "    <tr>\n",
       "      <th>...</th>\n",
       "      <td>...</td>\n",
       "      <td>...</td>\n",
       "      <td>...</td>\n",
       "      <td>...</td>\n",
       "      <td>...</td>\n",
       "      <td>...</td>\n",
       "      <td>...</td>\n",
       "    </tr>\n",
       "    <tr>\n",
       "      <th>5399</th>\n",
       "      <td>Biobank_Japan-Spinal_canal_stenosis-3320</td>\n",
       "      <td>Spinal canal stenosis</td>\n",
       "      <td>Spinal canal stenosis</td>\n",
       "      <td>{'phenocode': 'Spinal_canal_stenosis', 'name':...</td>\n",
       "      <td>[Spinal canal stenosis]</td>\n",
       "      <td>[Spinal canal stenosis, Spinal Stenosis, Cervi...</td>\n",
       "      <td>[Spinal canal stenosis, Spinal Stenosis, Cervi...</td>\n",
       "    </tr>\n",
       "    <tr>\n",
       "      <th>5400</th>\n",
       "      <td>Biobank_Japan-Mastopathy-3321</td>\n",
       "      <td>Mastopathy</td>\n",
       "      <td>Mastopathy</td>\n",
       "      <td>{'phenocode': 'Mastopathy', 'name': 'Mastopath...</td>\n",
       "      <td>[Mastopathy]</td>\n",
       "      <td>[Breast Diseases]</td>\n",
       "      <td>[Mastopathy, Breast Diseases]</td>\n",
       "    </tr>\n",
       "    <tr>\n",
       "      <th>5401</th>\n",
       "      <td>Biobank_Japan-Schizophrenia-3322</td>\n",
       "      <td>Schizophrenia</td>\n",
       "      <td>Schizophrenia</td>\n",
       "      <td>{'phenocode': 'Schizophrenia', 'name': 'Schizo...</td>\n",
       "      <td>[Schizophrenia]</td>\n",
       "      <td>[Schizophrenia, SCHIZOPHRENIA 1 (disorder), SC...</td>\n",
       "      <td>[Schizophrenia, SCHIZOPHRENIA 1 (disorder), SC...</td>\n",
       "    </tr>\n",
       "    <tr>\n",
       "      <th>5402</th>\n",
       "      <td>Biobank_Japan-Tonsillitis-3323</td>\n",
       "      <td>Tonsillitis</td>\n",
       "      <td>Tonsillitis</td>\n",
       "      <td>{'phenocode': 'Tonsillitis', 'name': 'Tonsilli...</td>\n",
       "      <td>[Tonsillitis]</td>\n",
       "      <td>[Tonsillitis, Acute tonsillitis]</td>\n",
       "      <td>[Tonsillitis, Acute tonsillitis]</td>\n",
       "    </tr>\n",
       "    <tr>\n",
       "      <th>5403</th>\n",
       "      <td>Biobank_Japan-HAV_hepatitis-3324</td>\n",
       "      <td>Acute hepatitis by Hepatitis A virus</td>\n",
       "      <td>Acute hepatitis by Hepatitis A virus</td>\n",
       "      <td>{'phenocode': 'HAV_hepatitis', 'name': 'Acute ...</td>\n",
       "      <td>[Acute hepatitis, Hepatitis A virus]</td>\n",
       "      <td>[Acute hepatitis, Hepatitis A, hepatitis A vir...</td>\n",
       "      <td>[Acute hepatitis, Hepatitis A virus, Hepatitis...</td>\n",
       "    </tr>\n",
       "  </tbody>\n",
       "</table>\n",
       "<p>5404 rows × 7 columns</p>\n",
       "</div>"
      ],
      "text/plain": [
       "                                      trait_id  \\\n",
       "0                                UKBB+MVP-8-00   \n",
       "1                               UKBB+MVP-85-01   \n",
       "2                                   MVP-851-02   \n",
       "3                              UKBB+MVP-852-03   \n",
       "4                               UKBB+MVP-86-04   \n",
       "...                                        ...   \n",
       "5399  Biobank_Japan-Spinal_canal_stenosis-3320   \n",
       "5400             Biobank_Japan-Mastopathy-3321   \n",
       "5401          Biobank_Japan-Schizophrenia-3322   \n",
       "5402            Biobank_Japan-Tonsillitis-3323   \n",
       "5403          Biobank_Japan-HAV_hepatitis-3324   \n",
       "\n",
       "                                    trait_term  \\\n",
       "0                         Intestinal infection   \n",
       "1                          Bacterial enteritis   \n",
       "2                            Intestinal e.coli   \n",
       "3     Intestinal infection due to C. difficile   \n",
       "4                              Viral Enteritis   \n",
       "...                                        ...   \n",
       "5399                     Spinal canal stenosis   \n",
       "5400                                Mastopathy   \n",
       "5401                             Schizophrenia   \n",
       "5402                               Tonsillitis   \n",
       "5403      Acute hepatitis by Hepatitis A virus   \n",
       "\n",
       "                              trait_term_clean  \\\n",
       "0                         Intestinal infection   \n",
       "1                          Bacterial enteritis   \n",
       "2                            Intestinal e.coli   \n",
       "3     Intestinal infection due to C. difficile   \n",
       "4                              Viral Enteritis   \n",
       "...                                        ...   \n",
       "5399                     Spinal canal stenosis   \n",
       "5400                                Mastopathy   \n",
       "5401                             Schizophrenia   \n",
       "5402                               Tonsillitis   \n",
       "5403      Acute hepatitis by Hepatitis A virus   \n",
       "\n",
       "                                       trait_basic_info  \\\n",
       "0     {'Phenotype': '8', 'description': 'Intestinal ...   \n",
       "1     {'Phenotype': '8.5', 'description': 'Bacterial...   \n",
       "2     {'Phenotype': '8.51', 'description': 'Intestin...   \n",
       "3     {'Phenotype': '8.52', 'description': 'Intestin...   \n",
       "4     {'Phenotype': '8.6', 'description': 'Viral Ent...   \n",
       "...                                                 ...   \n",
       "5399  {'phenocode': 'Spinal_canal_stenosis', 'name':...   \n",
       "5400  {'phenocode': 'Mastopathy', 'name': 'Mastopath...   \n",
       "5401  {'phenocode': 'Schizophrenia', 'name': 'Schizo...   \n",
       "5402  {'phenocode': 'Tonsillitis', 'name': 'Tonsilli...   \n",
       "5403  {'phenocode': 'HAV_hepatitis', 'name': 'Acute ...   \n",
       "\n",
       "                              regular_ents  \\\n",
       "0                   [Intestinal infection]   \n",
       "1                    [Bacterial enteritis]   \n",
       "2                             [Intestinal]   \n",
       "3     [Intestinal infection, C. difficile]   \n",
       "4                        [Viral Enteritis]   \n",
       "...                                    ...   \n",
       "5399               [Spinal canal stenosis]   \n",
       "5400                          [Mastopathy]   \n",
       "5401                       [Schizophrenia]   \n",
       "5402                         [Tonsillitis]   \n",
       "5403  [Acute hepatitis, Hepatitis A virus]   \n",
       "\n",
       "                                                kb_ents  \\\n",
       "0     [Intestinal infectious disease (disorder), Sma...   \n",
       "1     [Bacterial enteritis, Enteritis, Bacterial gas...   \n",
       "2     [Intestines, Intestinal route, Intestinal Neur...   \n",
       "3     [Intestinal infectious disease (disorder), Sma...   \n",
       "4     [Viral enteritis, Mink Viral Enteritis, Enteri...   \n",
       "...                                                 ...   \n",
       "5399  [Spinal canal stenosis, Spinal Stenosis, Cervi...   \n",
       "5400                                  [Breast Diseases]   \n",
       "5401  [Schizophrenia, SCHIZOPHRENIA 1 (disorder), SC...   \n",
       "5402                   [Tonsillitis, Acute tonsillitis]   \n",
       "5403  [Acute hepatitis, Hepatitis A, hepatitis A vir...   \n",
       "\n",
       "                                                   ents  \n",
       "0     [Intestinal infection, Intestinal infectious d...  \n",
       "1     [Bacterial enteritis, Enteritis, Bacterial gas...  \n",
       "2     [Intestinal, Intestines, Intestinal route, Int...  \n",
       "3     [Intestinal infection, C. difficile, Intestina...  \n",
       "4     [Viral Enteritis, Mink Viral Enteritis, Enteri...  \n",
       "...                                                 ...  \n",
       "5399  [Spinal canal stenosis, Spinal Stenosis, Cervi...  \n",
       "5400                      [Mastopathy, Breast Diseases]  \n",
       "5401  [Schizophrenia, SCHIZOPHRENIA 1 (disorder), SC...  \n",
       "5402                   [Tonsillitis, Acute tonsillitis]  \n",
       "5403  [Acute hepatitis, Hepatitis A virus, Hepatitis...  \n",
       "\n",
       "[5404 rows x 7 columns]"
      ]
     },
     "execution_count": 7,
     "metadata": {},
     "output_type": "execute_result"
    }
   ],
   "source": [
    "input_file = input_path / \"mvp-terms-augmented.json\"\n",
    "assert input_file.exists(), input_file\n",
    "with input_file.open() as f:\n",
    "    df_init = pd.DataFrame(json.load(f))\n",
    "\n",
    "df_init"
   ]
  },
  {
   "cell_type": "markdown",
   "id": "a4a02bce-b896-4180-974a-021873a6eba5",
   "metadata": {
    "tags": []
   },
   "source": [
    "# Processing"
   ]
  },
  {
   "cell_type": "code",
   "execution_count": 8,
   "id": "460ab234-2cdc-4415-8dd3-35ec1851eaee",
   "metadata": {
    "execution": {
     "iopub.execute_input": "2022-11-07T12:11:33.264906Z",
     "iopub.status.busy": "2022-11-07T12:11:33.263918Z",
     "iopub.status.idle": "2022-11-07T12:11:33.329402Z",
     "shell.execute_reply": "2022-11-07T12:11:33.328510Z",
     "shell.execute_reply.started": "2022-11-07T12:11:33.264849Z"
    },
    "tags": []
   },
   "outputs": [
    {
     "name": "stdout",
     "output_type": "stream",
     "text": [
      "4\n",
      "1351\n"
     ]
    }
   ],
   "source": [
    "# SAMPLE_SIZE = 1000\n",
    "\n",
    "# sample = df_init[:SAMPLE_SIZE].to_dict(orient=\"records\")\n",
    "sample = df_init.to_dict(orient=\"records\")\n",
    "sample_chunks = py_.chunk(sample, size=math.floor(len(sample) / NUM_WORKERS))\n",
    "# sample_chunks = py_.chunk(sample, size=NUM_WORKERS)\n",
    "print(len(sample_chunks))\n",
    "print(len(sample_chunks[0]))"
   ]
  },
  {
   "cell_type": "code",
   "execution_count": 9,
   "id": "c4e27c0e-dcfa-4821-8bbf-50a23e4286a3",
   "metadata": {
    "execution": {
     "iopub.execute_input": "2022-11-07T12:11:41.534125Z",
     "iopub.status.busy": "2022-11-07T12:11:41.533446Z",
     "iopub.status.idle": "2022-11-07T12:11:45.599252Z",
     "shell.execute_reply": "2022-11-07T12:11:45.598259Z",
     "shell.execute_reply.started": "2022-11-07T12:11:41.534072Z"
    },
    "tags": []
   },
   "outputs": [
    {
     "name": "stderr",
     "output_type": "stream",
     "text": [
      "2022-11-07 12:11:43,521\tINFO worker.py:1518 -- Started a local Ray instance.\n"
     ]
    },
    {
     "name": "stdout",
     "output_type": "stream",
     "text": [
      "\u001b[2m\u001b[36m(ItemEncoder pid=21753)\u001b[0m Encoder 3: Init model\n",
      "\u001b[2m\u001b[36m(ItemEncoder pid=21750)\u001b[0m Encoder 0: Init model\n",
      "\u001b[2m\u001b[36m(ItemEncoder pid=21751)\u001b[0m Encoder 1: Init model\n",
      "\u001b[2m\u001b[36m(ItemEncoder pid=21752)\u001b[0m Encoder 2: Init model\n",
      "\u001b[2m\u001b[36m(ItemEncoder pid=21753)\u001b[0m Encoder 3: Model loaded\n",
      "\u001b[2m\u001b[36m(ItemEncoder pid=21750)\u001b[0m Encoder 0: Model loaded\n",
      "\u001b[2m\u001b[36m(ItemEncoder pid=21751)\u001b[0m Encoder 1: Model loaded\n",
      "\u001b[2m\u001b[36m(ItemEncoder pid=21752)\u001b[0m Encoder 2: Model loaded\n"
     ]
    }
   ],
   "source": [
    "encoders = [\n",
    "    mvp_funcs.ItemEncoder.remote(idx=idx, model_path=model_path)\n",
    "    for idx, _ in enumerate(range(NUM_WORKERS))\n",
    "]"
   ]
  },
  {
   "cell_type": "code",
   "execution_count": 10,
   "id": "cc3ef9f9-21c7-4551-8bbb-170148c75fd1",
   "metadata": {
    "execution": {
     "iopub.execute_input": "2022-11-07T12:12:21.191297Z",
     "iopub.status.busy": "2022-11-07T12:12:21.190614Z",
     "iopub.status.idle": "2022-11-07T12:14:29.594416Z",
     "shell.execute_reply": "2022-11-07T12:14:29.593383Z",
     "shell.execute_reply.started": "2022-11-07T12:12:21.191238Z"
    },
    "tags": []
   },
   "outputs": [
    {
     "name": "stdout",
     "output_type": "stream",
     "text": [
      "\u001b[2m\u001b[36m(ItemEncoder pid=21753)\u001b[0m Encoder 3: Start to process 1351 items\n",
      "\u001b[2m\u001b[36m(ItemEncoder pid=21753)\u001b[0m 12:12:21 Encoder 3: # 0\n",
      "\u001b[2m\u001b[36m(ItemEncoder pid=21750)\u001b[0m Encoder 0: Start to process 1351 items\n",
      "\u001b[2m\u001b[36m(ItemEncoder pid=21750)\u001b[0m 12:12:21 Encoder 0: # 0\n",
      "\u001b[2m\u001b[36m(ItemEncoder pid=21751)\u001b[0m Encoder 1: Start to process 1351 items\n",
      "\u001b[2m\u001b[36m(ItemEncoder pid=21751)\u001b[0m 12:12:21 Encoder 1: # 0\n",
      "\u001b[2m\u001b[36m(ItemEncoder pid=21752)\u001b[0m Encoder 2: Start to process 1351 items\n",
      "\u001b[2m\u001b[36m(ItemEncoder pid=21752)\u001b[0m 12:12:21 Encoder 2: # 0\n",
      "\u001b[2m\u001b[36m(ItemEncoder pid=21753)\u001b[0m 12:12:31 Encoder 3: # 200\n",
      "\u001b[2m\u001b[36m(ItemEncoder pid=21750)\u001b[0m 12:12:35 Encoder 0: # 200\n",
      "\u001b[2m\u001b[36m(ItemEncoder pid=21751)\u001b[0m 12:12:35 Encoder 1: # 200\n",
      "\u001b[2m\u001b[36m(ItemEncoder pid=21752)\u001b[0m 12:12:37 Encoder 2: # 200\n",
      "\u001b[2m\u001b[36m(ItemEncoder pid=21753)\u001b[0m 12:12:44 Encoder 3: # 400\n",
      "\u001b[2m\u001b[36m(ItemEncoder pid=21750)\u001b[0m 12:12:48 Encoder 0: # 400\n",
      "\u001b[2m\u001b[36m(ItemEncoder pid=21752)\u001b[0m 12:12:51 Encoder 2: # 400\n",
      "\u001b[2m\u001b[36m(ItemEncoder pid=21751)\u001b[0m 12:12:52 Encoder 1: # 400\n",
      "\u001b[2m\u001b[36m(ItemEncoder pid=21750)\u001b[0m 12:13:01 Encoder 0: # 600\n",
      "\u001b[2m\u001b[36m(ItemEncoder pid=21753)\u001b[0m 12:13:01 Encoder 3: # 600\n",
      "\u001b[2m\u001b[36m(ItemEncoder pid=21752)\u001b[0m 12:13:03 Encoder 2: # 600\n",
      "\u001b[2m\u001b[36m(ItemEncoder pid=21751)\u001b[0m 12:13:08 Encoder 1: # 600\n",
      "\u001b[2m\u001b[36m(ItemEncoder pid=21750)\u001b[0m 12:13:13 Encoder 0: # 800\n",
      "\u001b[2m\u001b[36m(ItemEncoder pid=21752)\u001b[0m 12:13:16 Encoder 2: # 800\n",
      "\u001b[2m\u001b[36m(ItemEncoder pid=21753)\u001b[0m 12:13:18 Encoder 3: # 800\n",
      "\u001b[2m\u001b[36m(ItemEncoder pid=21751)\u001b[0m 12:13:23 Encoder 1: # 800\n",
      "\u001b[2m\u001b[36m(ItemEncoder pid=21750)\u001b[0m 12:13:27 Encoder 0: # 1000\n",
      "\u001b[2m\u001b[36m(ItemEncoder pid=21752)\u001b[0m 12:13:30 Encoder 2: # 1000\n",
      "\u001b[2m\u001b[36m(ItemEncoder pid=21753)\u001b[0m 12:13:40 Encoder 3: # 1000\n",
      "\u001b[2m\u001b[36m(ItemEncoder pid=21750)\u001b[0m 12:13:42 Encoder 0: # 1200\n",
      "\u001b[2m\u001b[36m(ItemEncoder pid=21752)\u001b[0m 12:13:44 Encoder 2: # 1200\n",
      "\u001b[2m\u001b[36m(ItemEncoder pid=21751)\u001b[0m 12:13:44 Encoder 1: # 1000\n",
      "\u001b[2m\u001b[36m(ItemEncoder pid=21752)\u001b[0m Encoder 2: Finish process\n",
      "\u001b[2m\u001b[36m(ItemEncoder pid=21750)\u001b[0m Encoder 0: Finish process\n",
      "\u001b[2m\u001b[36m(ItemEncoder pid=21753)\u001b[0m 12:13:55 Encoder 3: # 1200\n",
      "\u001b[2m\u001b[36m(ItemEncoder pid=21753)\u001b[0m Encoder 3: Finish process\n",
      "\u001b[2m\u001b[36m(ItemEncoder pid=21751)\u001b[0m 12:14:11 Encoder 1: # 1200\n",
      "\u001b[2m\u001b[36m(ItemEncoder pid=21751)\u001b[0m Encoder 1: Finish process\n"
     ]
    }
   ],
   "source": [
    "sample_res = ray.get(\n",
    "    [\n",
    "        encoder.encode_chunk.remote(sample_chunks[idx])\n",
    "        for idx, encoder in enumerate(encoders)\n",
    "    ]\n",
    ")\n",
    "sample_res = py_.flatten(sample_res)"
   ]
  },
  {
   "cell_type": "code",
   "execution_count": 11,
   "id": "8c178a93-f882-4d06-9622-21130f8ddedf",
   "metadata": {
    "execution": {
     "iopub.execute_input": "2022-11-07T12:15:20.214315Z",
     "iopub.status.busy": "2022-11-07T12:15:20.213450Z",
     "iopub.status.idle": "2022-11-07T12:15:34.115066Z",
     "shell.execute_reply": "2022-11-07T12:15:34.113140Z",
     "shell.execute_reply.started": "2022-11-07T12:15:20.214260Z"
    },
    "tags": []
   },
   "outputs": [],
   "source": [
    "output_path = input_path / \"mvp-encode.json\"\n",
    "assert output_path.parent.exists()\n",
    "with output_path.open(\"w\") as f:\n",
    "    json.dump(sample_res, f)"
   ]
  },
  {
   "cell_type": "code",
   "execution_count": 12,
   "id": "8edf5e36-208a-4961-b136-491f0874fe15",
   "metadata": {
    "execution": {
     "iopub.execute_input": "2022-11-07T12:15:34.118236Z",
     "iopub.status.busy": "2022-11-07T12:15:34.117378Z",
     "iopub.status.idle": "2022-11-07T12:15:34.152972Z",
     "shell.execute_reply": "2022-11-07T12:15:34.152116Z",
     "shell.execute_reply.started": "2022-11-07T12:15:34.118211Z"
    },
    "tags": []
   },
   "outputs": [
    {
     "data": {
      "text/plain": [
       "[None, None, None, None]"
      ]
     },
     "execution_count": 12,
     "metadata": {},
     "output_type": "execute_result"
    }
   ],
   "source": [
    "# terminate actors\n",
    "[ray.kill(_) for _ in encoders]"
   ]
  },
  {
   "cell_type": "code",
   "execution_count": null,
   "id": "181800a7-484c-4782-a5eb-5f6e26183b36",
   "metadata": {},
   "outputs": [],
   "source": []
  }
 ],
 "metadata": {
  "kernelspec": {
   "display_name": "Python 3 (ipykernel)",
   "language": "python",
   "name": "python3"
  },
  "language_info": {
   "codemirror_mode": {
    "name": "ipython",
    "version": 3
   },
   "file_extension": ".py",
   "mimetype": "text/x-python",
   "name": "python",
   "nbconvert_exporter": "python",
   "pygments_lexer": "ipython3",
   "version": "3.8.13"
  }
 },
 "nbformat": 4,
 "nbformat_minor": 5
}
