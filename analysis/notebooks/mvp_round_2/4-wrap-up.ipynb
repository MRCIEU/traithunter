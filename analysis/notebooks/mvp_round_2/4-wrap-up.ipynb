{
 "cells": [
  {
   "cell_type": "markdown",
   "id": "7ef21d71-37fe-4809-a7f8-705adbcbc511",
   "metadata": {
    "tags": []
   },
   "source": [
    "# MVP phenotype terms, round 2, wrap up"
   ]
  },
  {
   "cell_type": "code",
   "execution_count": 1,
   "id": "73665f5d-336b-4faa-92cf-c6ee5fd134b0",
   "metadata": {
    "execution": {
     "iopub.execute_input": "2022-11-07T12:16:09.606492Z",
     "iopub.status.busy": "2022-11-07T12:16:09.605812Z",
     "iopub.status.idle": "2022-11-07T12:16:10.064597Z",
     "shell.execute_reply": "2022-11-07T12:16:10.063563Z",
     "shell.execute_reply.started": "2022-11-07T12:16:09.606352Z"
    },
    "tags": []
   },
   "outputs": [],
   "source": [
    "%load_ext autoreload\n",
    "%autoreload 2\n",
    "\n",
    "%load_ext lab_black"
   ]
  },
  {
   "cell_type": "code",
   "execution_count": 2,
   "id": "1248e570-f697-4cc6-b234-544787d730c5",
   "metadata": {
    "execution": {
     "iopub.execute_input": "2022-11-07T12:16:10.427283Z",
     "iopub.status.busy": "2022-11-07T12:16:10.426538Z",
     "iopub.status.idle": "2022-11-07T12:16:10.445424Z",
     "shell.execute_reply": "2022-11-07T12:16:10.444482Z",
     "shell.execute_reply.started": "2022-11-07T12:16:10.427228Z"
    },
    "tags": []
   },
   "outputs": [],
   "source": [
    "import sys\n",
    "from pathlib import Path"
   ]
  },
  {
   "cell_type": "code",
   "execution_count": 3,
   "id": "45f4aba6-c888-4586-8b6c-df25bfdc1ef2",
   "metadata": {
    "execution": {
     "iopub.execute_input": "2022-11-07T12:16:11.247461Z",
     "iopub.status.busy": "2022-11-07T12:16:11.246723Z",
     "iopub.status.idle": "2022-11-07T12:16:11.268950Z",
     "shell.execute_reply": "2022-11-07T12:16:11.267998Z",
     "shell.execute_reply.started": "2022-11-07T12:16:11.247408Z"
    },
    "tags": []
   },
   "outputs": [
    {
     "name": "stdout",
     "output_type": "stream",
     "text": [
      "/data/ik18445_cache/projects/phenotype-mapping/analysis/notebooks/mvp_round_2\n"
     ]
    }
   ],
   "source": [
    "_pwd = Path(\".\").resolve()\n",
    "print(_pwd)\n",
    "sys.path.append(str(_pwd))"
   ]
  },
  {
   "cell_type": "code",
   "execution_count": 30,
   "id": "1f18035b-4b53-48a6-9512-f41e1863ec89",
   "metadata": {
    "execution": {
     "iopub.execute_input": "2022-11-07T15:34:25.170800Z",
     "iopub.status.busy": "2022-11-07T15:34:25.170204Z",
     "iopub.status.idle": "2022-11-07T15:34:25.177743Z",
     "shell.execute_reply": "2022-11-07T15:34:25.176697Z",
     "shell.execute_reply.started": "2022-11-07T15:34:25.170763Z"
    },
    "tags": []
   },
   "outputs": [],
   "source": [
    "from typing import List\n",
    "import re\n",
    "import json\n",
    "import math\n",
    "\n",
    "import pandas as pd\n",
    "import janitor\n",
    "import numpy as np\n",
    "from pydash import py_\n",
    "from Levenshtein import distance\n",
    "\n",
    "from common_funcs import utils\n",
    "from analysis_funcs import paths\n",
    "import mvp_funcs, mvp_types"
   ]
  },
  {
   "cell_type": "code",
   "execution_count": 2,
   "id": "cb1cfda9-8a97-4f4b-b3e2-a3963e680e33",
   "metadata": {
    "execution": {
     "iopub.execute_input": "2022-11-07T14:00:42.358988Z",
     "iopub.status.busy": "2022-11-07T14:00:42.358086Z",
     "iopub.status.idle": "2022-11-07T14:00:42.367450Z",
     "shell.execute_reply": "2022-11-07T14:00:42.366344Z",
     "shell.execute_reply.started": "2022-11-07T14:00:42.358930Z"
    },
    "tags": []
   },
   "outputs": [],
   "source": [
    "proj_root = utils.find_project_root(\"docker-compose.yml\")\n",
    "assert proj_root.exists(), proj_root\n",
    "\n",
    "data_path = proj_root / \"data\"\n",
    "\n",
    "input_path = data_path / \"output\" / \"mvp-mapping-round-2\"\n",
    "assert input_path.exists(), input_path"
   ]
  },
  {
   "cell_type": "markdown",
   "id": "07f176a5-5ad8-40bd-9d93-cc5b00a06744",
   "metadata": {},
   "source": [
    "# Load in"
   ]
  },
  {
   "cell_type": "code",
   "execution_count": 4,
   "id": "7cebc28f-c24c-40dd-98e7-c69145ad9727",
   "metadata": {
    "execution": {
     "iopub.execute_input": "2022-11-07T14:03:23.465126Z",
     "iopub.status.busy": "2022-11-07T14:03:23.464512Z",
     "iopub.status.idle": "2022-11-07T14:03:23.521042Z",
     "shell.execute_reply": "2022-11-07T14:03:23.520053Z",
     "shell.execute_reply.started": "2022-11-07T14:03:23.465074Z"
    },
    "tags": []
   },
   "outputs": [
    {
     "name": "stdout",
     "output_type": "stream",
     "text": [
      "5404\n"
     ]
    }
   ],
   "source": [
    "input_file = input_path / \"mvp-terms-augmented.json\"\n",
    "assert input_file.exists(), input_file\n",
    "\n",
    "with input_file.open() as f:\n",
    "    mvp_terms = json.load(f)\n",
    "\n",
    "print(len(mvp_terms))"
   ]
  },
  {
   "cell_type": "code",
   "execution_count": 6,
   "id": "141dc7a0-3307-4574-b747-aa5571347b1e",
   "metadata": {
    "execution": {
     "iopub.execute_input": "2022-11-07T14:04:22.929502Z",
     "iopub.status.busy": "2022-11-07T14:04:22.928899Z",
     "iopub.status.idle": "2022-11-07T14:04:22.935659Z",
     "shell.execute_reply": "2022-11-07T14:04:22.934518Z",
     "shell.execute_reply.started": "2022-11-07T14:04:22.929470Z"
    },
    "tags": []
   },
   "outputs": [
    {
     "name": "stdout",
     "output_type": "stream",
     "text": [
      "{'trait_id': 'UKBB+MVP-8-00', 'trait_term': 'Intestinal infection', 'trait_term_clean': 'Intestinal infection', 'trait_basic_info': {'Phenotype': '8', 'description': 'Intestinal infection', 'dataset': 'UKBB+MVP'}, 'regular_ents': ['Intestinal infection'], 'kb_ents': ['Intestinal infectious disease (disorder)', 'Small Intestinal Infection', 'Intestinal Diseases, Parasitic', 'Infection of digestive system', 'Gastrointestinal infection'], 'ents': ['Intestinal infection', 'Intestinal infectious disease (disorder)', 'Small Intestinal Infection', 'Intestinal Diseases, Parasitic', 'Infection of digestive system', 'Gastrointestinal infection']}\n"
     ]
    }
   ],
   "source": [
    "print(mvp_terms[0])"
   ]
  },
  {
   "cell_type": "code",
   "execution_count": 5,
   "id": "e40f519d-c56d-4d03-86dc-8120cd229307",
   "metadata": {
    "execution": {
     "iopub.execute_input": "2022-11-07T14:03:59.895768Z",
     "iopub.status.busy": "2022-11-07T14:03:59.895106Z",
     "iopub.status.idle": "2022-11-07T14:04:01.727195Z",
     "shell.execute_reply": "2022-11-07T14:04:01.726436Z",
     "shell.execute_reply.started": "2022-11-07T14:03:59.895714Z"
    },
    "tags": []
   },
   "outputs": [
    {
     "name": "stdout",
     "output_type": "stream",
     "text": [
      "5404\n"
     ]
    }
   ],
   "source": [
    "input_file = input_path / \"mvp-mapping.json\"\n",
    "assert input_file.exists(), input_file\n",
    "\n",
    "with input_file.open() as f:\n",
    "    mvp_mappings = json.load(f)\n",
    "\n",
    "print(len(mvp_mappings))"
   ]
  },
  {
   "cell_type": "code",
   "execution_count": 7,
   "id": "3b0c739c-2743-4a41-845d-63558b9e59d6",
   "metadata": {
    "execution": {
     "iopub.execute_input": "2022-11-07T14:05:09.551770Z",
     "iopub.status.busy": "2022-11-07T14:05:09.551343Z",
     "iopub.status.idle": "2022-11-07T14:05:09.558319Z",
     "shell.execute_reply": "2022-11-07T14:05:09.556936Z",
     "shell.execute_reply.started": "2022-11-07T14:05:09.551744Z"
    },
    "tags": []
   },
   "outputs": [
    {
     "name": "stdout",
     "output_type": "stream",
     "text": [
      "{'trait_id': 'UKBB+MVP-8-00', 'trait_term_mapping': {'term': 'Intestinal infection', 'cands_embeddings': [], 'cands_fulltext': [{'ent_id': 'http://www.ebi.ac.uk/efo/EFO_0007231', 'ent_term': 'cysticercosis', 'vector_term': 'intestinal taenia solium infection', 'primary_term': False}, {'ent_id': 'http://www.ebi.ac.uk/efo/EFO_0007231', 'ent_term': 'cysticercosis', 'vector_term': 'tapeworm infection: intestinal taenia solum', 'primary_term': False}, {'ent_id': 'http://www.ebi.ac.uk/efo/EFO_0007230', 'ent_term': 'cyclosporiasis', 'vector_term': 'intestinal infection caused by Cyclospora cayetanensis', 'primary_term': False}]}, 'trait_ents_mapping': [{'term': 'Intestinal infection', 'cands_embeddings': [], 'cands_fulltext': [{'ent_id': 'http://www.ebi.ac.uk/efo/EFO_0007231', 'ent_term': 'cysticercosis', 'vector_term': 'intestinal taenia solium infection', 'primary_term': False}, {'ent_id': 'http://www.ebi.ac.uk/efo/EFO_0007231', 'ent_term': 'cysticercosis', 'vector_term': 'tapeworm infection: intestinal taenia solum', 'primary_term': False}, {'ent_id': 'http://www.ebi.ac.uk/efo/EFO_0007230', 'ent_term': 'cyclosporiasis', 'vector_term': 'intestinal infection caused by Cyclospora cayetanensis', 'primary_term': False}]}, {'term': 'Intestinal infectious disease (disorder)', 'cands_embeddings': [{'ent_id': 'http://www.ebi.ac.uk/efo/EFO_0000772', 'ent_term': 'pneumococcal infection', 'vector_term': 'Pneumococcal infectious disease (disorder)', 'primary_term': False}, {'ent_id': 'http://www.ebi.ac.uk/efo/EFO_0007480', 'ent_term': 'scrub typhus', 'vector_term': 'Tsutsugamushi disease (disorder)', 'primary_term': False}, {'ent_id': 'http://purl.obolibrary.org/obo/MONDO_0100336', 'ent_term': 'infectious disease or post-infectious disorder', 'vector_term': 'infectious disease or post-infectious disorder', 'primary_term': True}], 'cands_fulltext': [{'ent_id': 'http://purl.obolibrary.org/obo/MONDO_0000916', 'ent_term': 'intestinal infectious disease', 'vector_term': 'intestinal infectious disease', 'primary_term': True}, {'ent_id': 'http://www.ebi.ac.uk/efo/EFO_0001067', 'ent_term': 'parasitic infection', 'vector_term': 'parasitic intestinal infectious disease', 'primary_term': False}, {'ent_id': 'http://www.ebi.ac.uk/efo/EFO_0009431', 'ent_term': 'intestinal disease', 'vector_term': 'intestinal disorder', 'primary_term': False}]}, {'term': 'Small Intestinal Infection', 'cands_embeddings': [{'ent_id': 'http://www.ebi.ac.uk/efo/EFO_1000988', 'ent_term': 'intestinal pseudo-obstruction', 'vector_term': 'Intestinal Pseudo-Obstruction', 'primary_term': False}, {'ent_id': 'http://www.ebi.ac.uk/efo/EFO_1000538', 'ent_term': 'Small Intestinal Tubular Adenoma', 'vector_term': 'Small Intestinal Tubular Adenoma', 'primary_term': True}], 'cands_fulltext': [{'ent_id': 'http://purl.obolibrary.org/obo/UBERON_0001902', 'ent_term': 'epithelium of small intestine', 'vector_term': 'small intestinal epithelium', 'primary_term': False}, {'ent_id': 'http://purl.obolibrary.org/obo/MONDO_0009476', 'ent_term': 'atresia of small intestine', 'vector_term': 'small intestinal atresia', 'primary_term': False}, {'ent_id': 'http://purl.obolibrary.org/obo/MONDO_0021303', 'ent_term': 'adenoma of small intestine', 'vector_term': 'small intestinal adenoma', 'primary_term': False}]}, {'term': 'Intestinal Diseases, Parasitic', 'cands_embeddings': [{'ent_id': 'http://www.ebi.ac.uk/efo/EFO_0001067', 'ent_term': 'parasitic infection', 'vector_term': 'Parasitic Diseases', 'primary_term': False}, {'ent_id': 'http://www.ebi.ac.uk/efo/EFO_0001067', 'ent_term': 'parasitic infection', 'vector_term': 'Diseases, Parasitic', 'primary_term': False}, {'ent_id': 'http://www.ebi.ac.uk/efo/EFO_0007278', 'ent_term': 'fungal lung infectious disease', 'vector_term': 'Lung Diseases, Fungal', 'primary_term': False}], 'cands_fulltext': [{'ent_id': 'http://www.ebi.ac.uk/efo/EFO_0001067', 'ent_term': 'parasitic infection', 'vector_term': 'Parasitic Diseases', 'primary_term': False}, {'ent_id': 'http://www.ebi.ac.uk/efo/EFO_0001067', 'ent_term': 'parasitic infection', 'vector_term': 'Diseases, Parasitic', 'primary_term': False}, {'ent_id': 'http://www.ebi.ac.uk/efo/EFO_0009561', 'ent_term': 'parasitic intestinal disease', 'vector_term': 'parasitic intestinal disease', 'primary_term': True}]}, {'term': 'Infection of digestive system', 'cands_embeddings': [{'ent_id': 'http://purl.obolibrary.org/obo/MONDO_0043424', 'ent_term': 'digestive system infectious disorder', 'vector_term': 'digestive system infection', 'primary_term': False}, {'ent_id': 'http://purl.obolibrary.org/obo/MONDO_0043424', 'ent_term': 'digestive system infectious disorder', 'vector_term': 'gastrointestinal system infection', 'primary_term': False}, {'ent_id': 'http://purl.obolibrary.org/obo/UBERON_0001007', 'ent_term': 'digestive system', 'vector_term': 'digestive system', 'primary_term': True}], 'cands_fulltext': [{'ent_id': 'http://purl.obolibrary.org/obo/MONDO_0043424', 'ent_term': 'digestive system infectious disorder', 'vector_term': 'digestive system infection', 'primary_term': False}, {'ent_id': 'http://purl.obolibrary.org/obo/UBERON_0001007', 'ent_term': 'digestive system', 'vector_term': 'digestive system', 'primary_term': True}, {'ent_id': 'http://www.ebi.ac.uk/efo/EFO_0000793', 'ent_term': 'obsolete_digestive system component', 'vector_term': 'Digestive system', 'primary_term': False}]}, {'term': 'Gastrointestinal infection', 'cands_embeddings': [{'ent_id': 'http://purl.obolibrary.org/obo/HP_0004386', 'ent_term': 'Gastrointestinal inflammation', 'vector_term': 'Gastrointestinal inflammation', 'primary_term': True}, {'ent_id': 'http://purl.obolibrary.org/obo/MONDO_0043424', 'ent_term': 'digestive system infectious disorder', 'vector_term': 'gastrointestinal infection', 'primary_term': False}, {'ent_id': 'http://purl.obolibrary.org/obo/HP_0002239', 'ent_term': 'Gastrointestinal hemorrhage', 'vector_term': 'Gastrointestinal bleeding', 'primary_term': False}], 'cands_fulltext': [{'ent_id': 'http://purl.obolibrary.org/obo/MONDO_0043424', 'ent_term': 'digestive system infectious disorder', 'vector_term': 'gastrointestinal infection', 'primary_term': False}, {'ent_id': 'http://purl.obolibrary.org/obo/MONDO_0043424', 'ent_term': 'digestive system infectious disorder', 'vector_term': 'gastrointestinal system infection', 'primary_term': False}, {'ent_id': 'http://purl.obolibrary.org/obo/HP_0004798', 'ent_term': 'Recurrent infection of the gastrointestinal tract', 'vector_term': 'Recurrent infection of the gastrointestinal tract', 'primary_term': True}]}], 'high_confidence_terms': ['gastrointestinal infection'], 'candidates_full': [{'ent_id': 'http://purl.obolibrary.org/obo/MONDO_0043424', 'ent_term': 'digestive system infectious disorder', 'synonyms': ['gastrointestinal system infection', 'gastrointestinal infection', 'digestive system infection'], 'matched_terms': ['Gastrointestinal infection', 'Infection of digestive system'], 'frequency': 6}, {'ent_id': 'http://www.ebi.ac.uk/efo/EFO_0001067', 'ent_term': 'parasitic infection', 'synonyms': ['Parasitic Diseases', 'parasitic intestinal infectious disease', 'Diseases, Parasitic'], 'matched_terms': ['Intestinal Diseases, Parasitic', 'Intestinal infectious disease (disorder)'], 'frequency': 5}, {'ent_id': 'http://www.ebi.ac.uk/efo/EFO_0007231', 'ent_term': 'cysticercosis', 'synonyms': ['tapeworm infection: intestinal taenia solum', 'intestinal taenia solium infection'], 'matched_terms': ['Intestinal infection'], 'frequency': 4}, {'ent_id': 'http://www.ebi.ac.uk/efo/EFO_0007230', 'ent_term': 'cyclosporiasis', 'synonyms': ['intestinal infection caused by Cyclospora cayetanensis'], 'matched_terms': ['Intestinal infection'], 'frequency': 2}, {'ent_id': 'http://purl.obolibrary.org/obo/UBERON_0001007', 'ent_term': 'digestive system', 'synonyms': ['digestive system'], 'matched_terms': ['Infection of digestive system'], 'frequency': 2}, {'ent_id': 'http://www.ebi.ac.uk/efo/EFO_0000772', 'ent_term': 'pneumococcal infection', 'synonyms': ['Pneumococcal infectious disease (disorder)'], 'matched_terms': ['Intestinal infectious disease (disorder)'], 'frequency': 1}, {'ent_id': 'http://www.ebi.ac.uk/efo/EFO_0007480', 'ent_term': 'scrub typhus', 'synonyms': ['Tsutsugamushi disease (disorder)'], 'matched_terms': ['Intestinal infectious disease (disorder)'], 'frequency': 1}, {'ent_id': 'http://purl.obolibrary.org/obo/MONDO_0100336', 'ent_term': 'infectious disease or post-infectious disorder', 'synonyms': ['infectious disease or post-infectious disorder'], 'matched_terms': ['Intestinal infectious disease (disorder)'], 'frequency': 1}, {'ent_id': 'http://purl.obolibrary.org/obo/MONDO_0000916', 'ent_term': 'intestinal infectious disease', 'synonyms': ['intestinal infectious disease'], 'matched_terms': ['Intestinal infectious disease (disorder)'], 'frequency': 1}, {'ent_id': 'http://www.ebi.ac.uk/efo/EFO_0009431', 'ent_term': 'intestinal disease', 'synonyms': ['intestinal disorder'], 'matched_terms': ['Intestinal infectious disease (disorder)'], 'frequency': 1}, {'ent_id': 'http://www.ebi.ac.uk/efo/EFO_1000988', 'ent_term': 'intestinal pseudo-obstruction', 'synonyms': ['Intestinal Pseudo-Obstruction'], 'matched_terms': ['Small Intestinal Infection'], 'frequency': 1}, {'ent_id': 'http://www.ebi.ac.uk/efo/EFO_1000538', 'ent_term': 'Small Intestinal Tubular Adenoma', 'synonyms': ['Small Intestinal Tubular Adenoma'], 'matched_terms': ['Small Intestinal Infection'], 'frequency': 1}, {'ent_id': 'http://purl.obolibrary.org/obo/UBERON_0001902', 'ent_term': 'epithelium of small intestine', 'synonyms': ['small intestinal epithelium'], 'matched_terms': ['Small Intestinal Infection'], 'frequency': 1}, {'ent_id': 'http://purl.obolibrary.org/obo/MONDO_0009476', 'ent_term': 'atresia of small intestine', 'synonyms': ['small intestinal atresia'], 'matched_terms': ['Small Intestinal Infection'], 'frequency': 1}, {'ent_id': 'http://purl.obolibrary.org/obo/MONDO_0021303', 'ent_term': 'adenoma of small intestine', 'synonyms': ['small intestinal adenoma'], 'matched_terms': ['Small Intestinal Infection'], 'frequency': 1}, {'ent_id': 'http://www.ebi.ac.uk/efo/EFO_0007278', 'ent_term': 'fungal lung infectious disease', 'synonyms': ['Lung Diseases, Fungal'], 'matched_terms': ['Intestinal Diseases, Parasitic'], 'frequency': 1}, {'ent_id': 'http://www.ebi.ac.uk/efo/EFO_0009561', 'ent_term': 'parasitic intestinal disease', 'synonyms': ['parasitic intestinal disease'], 'matched_terms': ['Intestinal Diseases, Parasitic'], 'frequency': 1}, {'ent_id': 'http://www.ebi.ac.uk/efo/EFO_0000793', 'ent_term': 'obsolete_digestive system component', 'synonyms': ['Digestive system'], 'matched_terms': ['Infection of digestive system'], 'frequency': 1}, {'ent_id': 'http://purl.obolibrary.org/obo/HP_0004386', 'ent_term': 'Gastrointestinal inflammation', 'synonyms': ['Gastrointestinal inflammation'], 'matched_terms': ['Gastrointestinal infection'], 'frequency': 1}, {'ent_id': 'http://purl.obolibrary.org/obo/HP_0002239', 'ent_term': 'Gastrointestinal hemorrhage', 'synonyms': ['Gastrointestinal bleeding'], 'matched_terms': ['Gastrointestinal infection'], 'frequency': 1}, {'ent_id': 'http://purl.obolibrary.org/obo/HP_0004798', 'ent_term': 'Recurrent infection of the gastrointestinal tract', 'synonyms': ['Recurrent infection of the gastrointestinal tract'], 'matched_terms': ['Gastrointestinal infection'], 'frequency': 1}], 'candidates_subset': [{'ent_id': 'http://purl.obolibrary.org/obo/MONDO_0043424', 'ent_term': 'digestive system infectious disorder', 'synonyms': ['gastrointestinal system infection', 'gastrointestinal infection', 'digestive system infection'], 'matched_terms': ['Gastrointestinal infection', 'Infection of digestive system'], 'frequency': 6}, {'ent_id': 'http://www.ebi.ac.uk/efo/EFO_0001067', 'ent_term': 'parasitic infection', 'synonyms': ['Parasitic Diseases', 'parasitic intestinal infectious disease', 'Diseases, Parasitic'], 'matched_terms': ['Intestinal Diseases, Parasitic', 'Intestinal infectious disease (disorder)'], 'frequency': 5}, {'ent_id': 'http://www.ebi.ac.uk/efo/EFO_0007231', 'ent_term': 'cysticercosis', 'synonyms': ['tapeworm infection: intestinal taenia solum', 'intestinal taenia solium infection'], 'matched_terms': ['Intestinal infection'], 'frequency': 4}, {'ent_id': 'http://www.ebi.ac.uk/efo/EFO_0007230', 'ent_term': 'cyclosporiasis', 'synonyms': ['intestinal infection caused by Cyclospora cayetanensis'], 'matched_terms': ['Intestinal infection'], 'frequency': 2}, {'ent_id': 'http://purl.obolibrary.org/obo/UBERON_0001007', 'ent_term': 'digestive system', 'synonyms': ['digestive system'], 'matched_terms': ['Infection of digestive system'], 'frequency': 2}, {'ent_id': 'http://www.ebi.ac.uk/efo/EFO_0000772', 'ent_term': 'pneumococcal infection', 'synonyms': ['Pneumococcal infectious disease (disorder)'], 'matched_terms': ['Intestinal infectious disease (disorder)'], 'frequency': 1}, {'ent_id': 'http://www.ebi.ac.uk/efo/EFO_0007480', 'ent_term': 'scrub typhus', 'synonyms': ['Tsutsugamushi disease (disorder)'], 'matched_terms': ['Intestinal infectious disease (disorder)'], 'frequency': 1}, {'ent_id': 'http://purl.obolibrary.org/obo/MONDO_0100336', 'ent_term': 'infectious disease or post-infectious disorder', 'synonyms': ['infectious disease or post-infectious disorder'], 'matched_terms': ['Intestinal infectious disease (disorder)'], 'frequency': 1}, {'ent_id': 'http://purl.obolibrary.org/obo/MONDO_0000916', 'ent_term': 'intestinal infectious disease', 'synonyms': ['intestinal infectious disease'], 'matched_terms': ['Intestinal infectious disease (disorder)'], 'frequency': 1}, {'ent_id': 'http://www.ebi.ac.uk/efo/EFO_0009431', 'ent_term': 'intestinal disease', 'synonyms': ['intestinal disorder'], 'matched_terms': ['Intestinal infectious disease (disorder)'], 'frequency': 1}, {'ent_id': 'http://www.ebi.ac.uk/efo/EFO_1000988', 'ent_term': 'intestinal pseudo-obstruction', 'synonyms': ['Intestinal Pseudo-Obstruction'], 'matched_terms': ['Small Intestinal Infection'], 'frequency': 1}, {'ent_id': 'http://www.ebi.ac.uk/efo/EFO_1000538', 'ent_term': 'Small Intestinal Tubular Adenoma', 'synonyms': ['Small Intestinal Tubular Adenoma'], 'matched_terms': ['Small Intestinal Infection'], 'frequency': 1}, {'ent_id': 'http://purl.obolibrary.org/obo/UBERON_0001902', 'ent_term': 'epithelium of small intestine', 'synonyms': ['small intestinal epithelium'], 'matched_terms': ['Small Intestinal Infection'], 'frequency': 1}, {'ent_id': 'http://purl.obolibrary.org/obo/MONDO_0009476', 'ent_term': 'atresia of small intestine', 'synonyms': ['small intestinal atresia'], 'matched_terms': ['Small Intestinal Infection'], 'frequency': 1}, {'ent_id': 'http://purl.obolibrary.org/obo/MONDO_0021303', 'ent_term': 'adenoma of small intestine', 'synonyms': ['small intestinal adenoma'], 'matched_terms': ['Small Intestinal Infection'], 'frequency': 1}], 'default_picks': ['http://purl.obolibrary.org/obo/MONDO_0043424']}\n"
     ]
    }
   ],
   "source": [
    "print(mvp_mappings[0])"
   ]
  },
  {
   "cell_type": "markdown",
   "id": "76794c7f-3ca2-4faa-b318-ee1f3d1f2e30",
   "metadata": {},
   "source": [
    "# Processing"
   ]
  },
  {
   "cell_type": "code",
   "execution_count": 22,
   "id": "64fcd462-aaa6-492a-89cc-353262cc3d8f",
   "metadata": {
    "execution": {
     "iopub.execute_input": "2022-11-07T14:37:57.847165Z",
     "iopub.status.busy": "2022-11-07T14:37:57.846300Z",
     "iopub.status.idle": "2022-11-07T14:37:57.857478Z",
     "shell.execute_reply": "2022-11-07T14:37:57.855797Z",
     "shell.execute_reply.started": "2022-11-07T14:37:57.847111Z"
    },
    "tags": []
   },
   "outputs": [],
   "source": [
    "flags = [\n",
    "  {\n",
    "    \"name\": \"good\",\n",
    "    \"desc\": \"Results for this item are good\",\n",
    "  },\n",
    "  {\n",
    "    \"name\": \"poor\",\n",
    "    \"desc\": \"Results for this item are very poor\",\n",
    "  },\n",
    "  {\n",
    "    \"name\": \"review\",\n",
    "    \"desc\": \"Require further review for the results to make a decision\",\n",
    "  },\n",
    "  {\n",
    "    \"name\": \"unmappable\",\n",
    "    \"desc\": \"This item is not mappable in its current state (i.e. need to use an alternative query term)\",\n",
    "  },\n",
    "    {\n",
    "        \"name\": \"UKBB+MVP\",\n",
    "        \"desc\": \"UKBB+MVP dataset\"\n",
    "    },\n",
    "    {\n",
    "        \"name\": \"MVP\",\n",
    "        \"desc\": \"MVP dataset\"\n",
    "    },\n",
    "    {\n",
    "        \"name\": \"UKBB\",\n",
    "        \"desc\": \"UKBB dataset\"\n",
    "    },\n",
    "    {\n",
    "        \"name\": \"FinnGen\",\n",
    "        \"desc\": \"FinnGen dataset\"\n",
    "    },\n",
    "    {\n",
    "        \"name\": \"Biobank_Japan\",\n",
    "        \"desc\": \"Biobank_Japan dataset\"\n",
    "    },\n",
    "]"
   ]
  },
  {
   "cell_type": "code",
   "execution_count": 10,
   "id": "493f3472-b126-4109-8ff2-d22667b5c8e5",
   "metadata": {
    "execution": {
     "iopub.execute_input": "2022-11-07T14:15:12.354982Z",
     "iopub.status.busy": "2022-11-07T14:15:12.354361Z",
     "iopub.status.idle": "2022-11-07T14:15:12.383125Z",
     "shell.execute_reply": "2022-11-07T14:15:12.382242Z",
     "shell.execute_reply.started": "2022-11-07T14:15:12.354930Z"
    },
    "tags": []
   },
   "outputs": [],
   "source": [
    "cols = [\"trait_id\", \"trait_term_mapping\", \"trait_ents_mapping\", \"candidates_subset\", \"default_picks\"]\n",
    "cols_rename = {\n",
    "    \"candidates_subset\": \"candidates\",\n",
    "    \"default_picks\": \"selection\"\n",
    "}\n",
    "df_mappings = (\n",
    "    pd.DataFrame(mvp_mappings)\n",
    "    [cols]\n",
    "    .rename(columns=cols_rename)\n",
    ")"
   ]
  },
  {
   "cell_type": "code",
   "execution_count": 23,
   "id": "e8bb8d6c-2bb0-4d52-ba16-c886fb7ce633",
   "metadata": {
    "execution": {
     "iopub.execute_input": "2022-11-07T14:40:21.159011Z",
     "iopub.status.busy": "2022-11-07T14:40:21.158217Z",
     "iopub.status.idle": "2022-11-07T14:40:21.322736Z",
     "shell.execute_reply": "2022-11-07T14:40:21.321747Z",
     "shell.execute_reply.started": "2022-11-07T14:40:21.158959Z"
    },
    "tags": []
   },
   "outputs": [
    {
     "name": "stdout",
     "output_type": "stream",
     "text": [
      "5404\n"
     ]
    }
   ],
   "source": [
    "cols = [\"trait_id\", \"trait_term\", \"trait_term_clean\", \"trait_basic_info\", \"ents\"]\n",
    "df_main = (\n",
    "    pd.DataFrame(mvp_terms)[cols]\n",
    "    .assign(category=lambda df: df[\"trait_basic_info\"].apply(lambda e: e[\"dataset\"] if \"dataset\" in e.keys() else e[\"source\"]))\n",
    "    .assign(\n",
    "        augmentation_info=lambda df: df.apply(\n",
    "            lambda row: {\n",
    "                \"trait_term_clean\": row[\"trait_term_clean\"],\n",
    "                \"ents\": row[\"ents\"],\n",
    "            }\n",
    "            , axis=1\n",
    "        )\n",
    "    )\n",
    "    .drop(columns=[\"ents\", \"trait_term_clean\"])\n",
    "    .merge(\n",
    "        df_mappings, on=[\"trait_id\"]\n",
    "    )\n",
    "    .assign(\n",
    "        external_selection=lambda df: df.apply(lambda row: [], axis=1),\n",
    "        trait_flags=lambda df: df.apply(lambda row: [], axis=1),\n",
    "        cand_flags=lambda df: df.apply(lambda row: [], axis=1),\n",
    "        notes=lambda df: df.apply(lambda row: None, axis=1),\n",
    "    )\n",
    ")\n",
    "print(len(df_main))"
   ]
  },
  {
   "cell_type": "code",
   "execution_count": 24,
   "id": "f972410c-f1ad-4617-9f41-4ec195cf14b8",
   "metadata": {
    "execution": {
     "iopub.execute_input": "2022-11-07T14:40:22.232201Z",
     "iopub.status.busy": "2022-11-07T14:40:22.231562Z",
     "iopub.status.idle": "2022-11-07T14:40:22.322667Z",
     "shell.execute_reply": "2022-11-07T14:40:22.321606Z",
     "shell.execute_reply.started": "2022-11-07T14:40:22.232136Z"
    },
    "tags": []
   },
   "outputs": [
    {
     "data": {
      "text/html": [
       "<div>\n",
       "<style scoped>\n",
       "    .dataframe tbody tr th:only-of-type {\n",
       "        vertical-align: middle;\n",
       "    }\n",
       "\n",
       "    .dataframe tbody tr th {\n",
       "        vertical-align: top;\n",
       "    }\n",
       "\n",
       "    .dataframe thead th {\n",
       "        text-align: right;\n",
       "    }\n",
       "</style>\n",
       "<table border=\"1\" class=\"dataframe\">\n",
       "  <thead>\n",
       "    <tr style=\"text-align: right;\">\n",
       "      <th></th>\n",
       "      <th>trait_id</th>\n",
       "      <th>trait_term</th>\n",
       "      <th>trait_basic_info</th>\n",
       "      <th>category</th>\n",
       "      <th>augmentation_info</th>\n",
       "      <th>trait_term_mapping</th>\n",
       "      <th>trait_ents_mapping</th>\n",
       "      <th>candidates</th>\n",
       "      <th>selection</th>\n",
       "      <th>external_selection</th>\n",
       "      <th>trait_flags</th>\n",
       "      <th>cand_flags</th>\n",
       "      <th>notes</th>\n",
       "    </tr>\n",
       "  </thead>\n",
       "  <tbody>\n",
       "    <tr>\n",
       "      <th>0</th>\n",
       "      <td>UKBB+MVP-8-00</td>\n",
       "      <td>Intestinal infection</td>\n",
       "      <td>{'Phenotype': '8', 'description': 'Intestinal ...</td>\n",
       "      <td>UKBB+MVP</td>\n",
       "      <td>{'trait_term_clean': 'Intestinal infection', '...</td>\n",
       "      <td>{'term': 'Intestinal infection', 'cands_embedd...</td>\n",
       "      <td>[{'term': 'Intestinal infection', 'cands_embed...</td>\n",
       "      <td>[{'ent_id': 'http://purl.obolibrary.org/obo/MO...</td>\n",
       "      <td>[http://purl.obolibrary.org/obo/MONDO_0043424]</td>\n",
       "      <td>[]</td>\n",
       "      <td>[]</td>\n",
       "      <td>[]</td>\n",
       "      <td>None</td>\n",
       "    </tr>\n",
       "    <tr>\n",
       "      <th>1</th>\n",
       "      <td>UKBB+MVP-85-01</td>\n",
       "      <td>Bacterial enteritis</td>\n",
       "      <td>{'Phenotype': '8.5', 'description': 'Bacterial...</td>\n",
       "      <td>UKBB+MVP</td>\n",
       "      <td>{'trait_term_clean': 'Bacterial enteritis', 'e...</td>\n",
       "      <td>{'term': 'Bacterial enteritis', 'cands_embeddi...</td>\n",
       "      <td>[{'term': 'Bacterial enteritis', 'cands_embedd...</td>\n",
       "      <td>[{'ent_id': 'http://purl.obolibrary.org/obo/MO...</td>\n",
       "      <td>[http://purl.obolibrary.org/obo/MONDO_0000916]</td>\n",
       "      <td>[]</td>\n",
       "      <td>[]</td>\n",
       "      <td>[]</td>\n",
       "      <td>None</td>\n",
       "    </tr>\n",
       "    <tr>\n",
       "      <th>2</th>\n",
       "      <td>MVP-851-02</td>\n",
       "      <td>Intestinal e.coli</td>\n",
       "      <td>{'Phenotype': '8.51', 'description': 'Intestin...</td>\n",
       "      <td>MVP</td>\n",
       "      <td>{'trait_term_clean': 'Intestinal e.coli', 'ent...</td>\n",
       "      <td>{'term': 'Intestinal e.coli', 'cands_embedding...</td>\n",
       "      <td>[{'term': 'Intestinal', 'cands_embeddings': [{...</td>\n",
       "      <td>[{'ent_id': 'http://www.ebi.ac.uk/efo/EFO_0000...</td>\n",
       "      <td>[http://www.ebi.ac.uk/efo/EFO_0000834]</td>\n",
       "      <td>[]</td>\n",
       "      <td>[]</td>\n",
       "      <td>[]</td>\n",
       "      <td>None</td>\n",
       "    </tr>\n",
       "    <tr>\n",
       "      <th>3</th>\n",
       "      <td>UKBB+MVP-852-03</td>\n",
       "      <td>Intestinal infection due to C. difficile</td>\n",
       "      <td>{'Phenotype': '8.52', 'description': 'Intestin...</td>\n",
       "      <td>UKBB+MVP</td>\n",
       "      <td>{'trait_term_clean': 'Intestinal infection due...</td>\n",
       "      <td>{'term': 'Intestinal infection due to C. diffi...</td>\n",
       "      <td>[{'term': 'Intestinal infection', 'cands_embed...</td>\n",
       "      <td>[{'ent_id': 'http://purl.obolibrary.org/obo/MO...</td>\n",
       "      <td>[http://purl.obolibrary.org/obo/MONDO_0043424]</td>\n",
       "      <td>[]</td>\n",
       "      <td>[]</td>\n",
       "      <td>[]</td>\n",
       "      <td>None</td>\n",
       "    </tr>\n",
       "    <tr>\n",
       "      <th>4</th>\n",
       "      <td>UKBB+MVP-86-04</td>\n",
       "      <td>Viral Enteritis</td>\n",
       "      <td>{'Phenotype': '8.6', 'description': 'Viral Ent...</td>\n",
       "      <td>UKBB+MVP</td>\n",
       "      <td>{'trait_term_clean': 'Viral Enteritis', 'ents'...</td>\n",
       "      <td>{'term': 'Viral Enteritis', 'cands_embeddings'...</td>\n",
       "      <td>[{'term': 'Viral Enteritis', 'cands_embeddings...</td>\n",
       "      <td>[{'ent_id': 'http://purl.obolibrary.org/obo/MO...</td>\n",
       "      <td>[http://purl.obolibrary.org/obo/MONDO_0043579]</td>\n",
       "      <td>[]</td>\n",
       "      <td>[]</td>\n",
       "      <td>[]</td>\n",
       "      <td>None</td>\n",
       "    </tr>\n",
       "  </tbody>\n",
       "</table>\n",
       "</div>"
      ],
      "text/plain": [
       "          trait_id                                trait_term  \\\n",
       "0    UKBB+MVP-8-00                      Intestinal infection   \n",
       "1   UKBB+MVP-85-01                       Bacterial enteritis   \n",
       "2       MVP-851-02                         Intestinal e.coli   \n",
       "3  UKBB+MVP-852-03  Intestinal infection due to C. difficile   \n",
       "4   UKBB+MVP-86-04                           Viral Enteritis   \n",
       "\n",
       "                                    trait_basic_info  category  \\\n",
       "0  {'Phenotype': '8', 'description': 'Intestinal ...  UKBB+MVP   \n",
       "1  {'Phenotype': '8.5', 'description': 'Bacterial...  UKBB+MVP   \n",
       "2  {'Phenotype': '8.51', 'description': 'Intestin...       MVP   \n",
       "3  {'Phenotype': '8.52', 'description': 'Intestin...  UKBB+MVP   \n",
       "4  {'Phenotype': '8.6', 'description': 'Viral Ent...  UKBB+MVP   \n",
       "\n",
       "                                   augmentation_info  \\\n",
       "0  {'trait_term_clean': 'Intestinal infection', '...   \n",
       "1  {'trait_term_clean': 'Bacterial enteritis', 'e...   \n",
       "2  {'trait_term_clean': 'Intestinal e.coli', 'ent...   \n",
       "3  {'trait_term_clean': 'Intestinal infection due...   \n",
       "4  {'trait_term_clean': 'Viral Enteritis', 'ents'...   \n",
       "\n",
       "                                  trait_term_mapping  \\\n",
       "0  {'term': 'Intestinal infection', 'cands_embedd...   \n",
       "1  {'term': 'Bacterial enteritis', 'cands_embeddi...   \n",
       "2  {'term': 'Intestinal e.coli', 'cands_embedding...   \n",
       "3  {'term': 'Intestinal infection due to C. diffi...   \n",
       "4  {'term': 'Viral Enteritis', 'cands_embeddings'...   \n",
       "\n",
       "                                  trait_ents_mapping  \\\n",
       "0  [{'term': 'Intestinal infection', 'cands_embed...   \n",
       "1  [{'term': 'Bacterial enteritis', 'cands_embedd...   \n",
       "2  [{'term': 'Intestinal', 'cands_embeddings': [{...   \n",
       "3  [{'term': 'Intestinal infection', 'cands_embed...   \n",
       "4  [{'term': 'Viral Enteritis', 'cands_embeddings...   \n",
       "\n",
       "                                          candidates  \\\n",
       "0  [{'ent_id': 'http://purl.obolibrary.org/obo/MO...   \n",
       "1  [{'ent_id': 'http://purl.obolibrary.org/obo/MO...   \n",
       "2  [{'ent_id': 'http://www.ebi.ac.uk/efo/EFO_0000...   \n",
       "3  [{'ent_id': 'http://purl.obolibrary.org/obo/MO...   \n",
       "4  [{'ent_id': 'http://purl.obolibrary.org/obo/MO...   \n",
       "\n",
       "                                        selection external_selection  \\\n",
       "0  [http://purl.obolibrary.org/obo/MONDO_0043424]                 []   \n",
       "1  [http://purl.obolibrary.org/obo/MONDO_0000916]                 []   \n",
       "2          [http://www.ebi.ac.uk/efo/EFO_0000834]                 []   \n",
       "3  [http://purl.obolibrary.org/obo/MONDO_0043424]                 []   \n",
       "4  [http://purl.obolibrary.org/obo/MONDO_0043579]                 []   \n",
       "\n",
       "  trait_flags cand_flags notes  \n",
       "0          []         []  None  \n",
       "1          []         []  None  \n",
       "2          []         []  None  \n",
       "3          []         []  None  \n",
       "4          []         []  None  "
      ]
     },
     "execution_count": 24,
     "metadata": {},
     "output_type": "execute_result"
    }
   ],
   "source": [
    "df_main.head()"
   ]
  },
  {
   "cell_type": "code",
   "execution_count": 32,
   "id": "7150fed0-2d83-4130-a06f-c210c525ff2f",
   "metadata": {
    "execution": {
     "iopub.execute_input": "2022-11-07T15:40:04.250042Z",
     "iopub.status.busy": "2022-11-07T15:40:04.249390Z",
     "iopub.status.idle": "2022-11-07T15:40:04.922123Z",
     "shell.execute_reply": "2022-11-07T15:40:04.921227Z",
     "shell.execute_reply.started": "2022-11-07T15:40:04.249989Z"
    },
    "tags": []
   },
   "outputs": [
    {
     "data": {
      "text/html": [
       "<div>\n",
       "<style scoped>\n",
       "    .dataframe tbody tr th:only-of-type {\n",
       "        vertical-align: middle;\n",
       "    }\n",
       "\n",
       "    .dataframe tbody tr th {\n",
       "        vertical-align: top;\n",
       "    }\n",
       "\n",
       "    .dataframe thead th {\n",
       "        text-align: right;\n",
       "    }\n",
       "</style>\n",
       "<table border=\"1\" class=\"dataframe\">\n",
       "  <thead>\n",
       "    <tr style=\"text-align: right;\">\n",
       "      <th></th>\n",
       "      <th>trait_id</th>\n",
       "      <th>trait_term</th>\n",
       "      <th>trait_basic_info</th>\n",
       "      <th>category</th>\n",
       "      <th>augmentation_info</th>\n",
       "      <th>trait_term_mapping</th>\n",
       "      <th>trait_ents_mapping</th>\n",
       "      <th>candidates</th>\n",
       "      <th>selection</th>\n",
       "      <th>external_selection</th>\n",
       "      <th>trait_flags</th>\n",
       "      <th>cand_flags</th>\n",
       "      <th>notes</th>\n",
       "    </tr>\n",
       "  </thead>\n",
       "  <tbody>\n",
       "    <tr>\n",
       "      <th>0</th>\n",
       "      <td>UKBB+MVP-8-00</td>\n",
       "      <td>Intestinal infection</td>\n",
       "      <td>{'Phenotype': '8', 'description': 'Intestinal ...</td>\n",
       "      <td>UKBB+MVP</td>\n",
       "      <td>{'trait_term_clean': 'Intestinal infection', '...</td>\n",
       "      <td>{'term': 'Intestinal infection', 'cands_embedd...</td>\n",
       "      <td>[{'term': 'Intestinal infection', 'cands_embed...</td>\n",
       "      <td>[{'ent_id': 'http://purl.obolibrary.org/obo/MO...</td>\n",
       "      <td>[http://purl.obolibrary.org/obo/MONDO_0043424]</td>\n",
       "      <td>[]</td>\n",
       "      <td>[UKBB+MVP, review]</td>\n",
       "      <td>[]</td>\n",
       "      <td>None</td>\n",
       "    </tr>\n",
       "    <tr>\n",
       "      <th>1</th>\n",
       "      <td>UKBB+MVP-85-01</td>\n",
       "      <td>Bacterial enteritis</td>\n",
       "      <td>{'Phenotype': '8.5', 'description': 'Bacterial...</td>\n",
       "      <td>UKBB+MVP</td>\n",
       "      <td>{'trait_term_clean': 'Bacterial enteritis', 'e...</td>\n",
       "      <td>{'term': 'Bacterial enteritis', 'cands_embeddi...</td>\n",
       "      <td>[{'term': 'Bacterial enteritis', 'cands_embedd...</td>\n",
       "      <td>[{'ent_id': 'http://purl.obolibrary.org/obo/MO...</td>\n",
       "      <td>[http://purl.obolibrary.org/obo/MONDO_0000916]</td>\n",
       "      <td>[]</td>\n",
       "      <td>[UKBB+MVP, good, review]</td>\n",
       "      <td>[]</td>\n",
       "      <td>None</td>\n",
       "    </tr>\n",
       "    <tr>\n",
       "      <th>2</th>\n",
       "      <td>MVP-851-02</td>\n",
       "      <td>Intestinal e.coli</td>\n",
       "      <td>{'Phenotype': '8.51', 'description': 'Intestin...</td>\n",
       "      <td>MVP</td>\n",
       "      <td>{'trait_term_clean': 'Intestinal e.coli', 'ent...</td>\n",
       "      <td>{'term': 'Intestinal e.coli', 'cands_embedding...</td>\n",
       "      <td>[{'term': 'Intestinal', 'cands_embeddings': [{...</td>\n",
       "      <td>[{'ent_id': 'http://www.ebi.ac.uk/efo/EFO_0000...</td>\n",
       "      <td>[http://www.ebi.ac.uk/efo/EFO_0000834]</td>\n",
       "      <td>[]</td>\n",
       "      <td>[MVP, review]</td>\n",
       "      <td>[]</td>\n",
       "      <td>None</td>\n",
       "    </tr>\n",
       "    <tr>\n",
       "      <th>3</th>\n",
       "      <td>UKBB+MVP-852-03</td>\n",
       "      <td>Intestinal infection due to C. difficile</td>\n",
       "      <td>{'Phenotype': '8.52', 'description': 'Intestin...</td>\n",
       "      <td>UKBB+MVP</td>\n",
       "      <td>{'trait_term_clean': 'Intestinal infection due...</td>\n",
       "      <td>{'term': 'Intestinal infection due to C. diffi...</td>\n",
       "      <td>[{'term': 'Intestinal infection', 'cands_embed...</td>\n",
       "      <td>[{'ent_id': 'http://purl.obolibrary.org/obo/MO...</td>\n",
       "      <td>[http://purl.obolibrary.org/obo/MONDO_0043424]</td>\n",
       "      <td>[]</td>\n",
       "      <td>[UKBB+MVP, review]</td>\n",
       "      <td>[]</td>\n",
       "      <td>None</td>\n",
       "    </tr>\n",
       "    <tr>\n",
       "      <th>4</th>\n",
       "      <td>UKBB+MVP-86-04</td>\n",
       "      <td>Viral Enteritis</td>\n",
       "      <td>{'Phenotype': '8.6', 'description': 'Viral Ent...</td>\n",
       "      <td>UKBB+MVP</td>\n",
       "      <td>{'trait_term_clean': 'Viral Enteritis', 'ents'...</td>\n",
       "      <td>{'term': 'Viral Enteritis', 'cands_embeddings'...</td>\n",
       "      <td>[{'term': 'Viral Enteritis', 'cands_embeddings...</td>\n",
       "      <td>[{'ent_id': 'http://purl.obolibrary.org/obo/MO...</td>\n",
       "      <td>[http://purl.obolibrary.org/obo/MONDO_0043579]</td>\n",
       "      <td>[]</td>\n",
       "      <td>[UKBB+MVP, review]</td>\n",
       "      <td>[]</td>\n",
       "      <td>None</td>\n",
       "    </tr>\n",
       "    <tr>\n",
       "      <th>...</th>\n",
       "      <td>...</td>\n",
       "      <td>...</td>\n",
       "      <td>...</td>\n",
       "      <td>...</td>\n",
       "      <td>...</td>\n",
       "      <td>...</td>\n",
       "      <td>...</td>\n",
       "      <td>...</td>\n",
       "      <td>...</td>\n",
       "      <td>...</td>\n",
       "      <td>...</td>\n",
       "      <td>...</td>\n",
       "      <td>...</td>\n",
       "    </tr>\n",
       "    <tr>\n",
       "      <th>5399</th>\n",
       "      <td>Biobank_Japan-Spinal_canal_stenosis-3320</td>\n",
       "      <td>Spinal canal stenosis</td>\n",
       "      <td>{'phenocode': 'Spinal_canal_stenosis', 'name':...</td>\n",
       "      <td>Biobank_Japan</td>\n",
       "      <td>{'trait_term_clean': 'Spinal canal stenosis', ...</td>\n",
       "      <td>{'term': 'Spinal canal stenosis', 'cands_embed...</td>\n",
       "      <td>[{'term': 'Spinal canal stenosis', 'cands_embe...</td>\n",
       "      <td>[{'ent_id': 'http://www.ebi.ac.uk/efo/EFO_0007...</td>\n",
       "      <td>[http://www.ebi.ac.uk/efo/EFO_0007490]</td>\n",
       "      <td>[]</td>\n",
       "      <td>[Biobank_Japan, review]</td>\n",
       "      <td>[]</td>\n",
       "      <td>None</td>\n",
       "    </tr>\n",
       "    <tr>\n",
       "      <th>5400</th>\n",
       "      <td>Biobank_Japan-Mastopathy-3321</td>\n",
       "      <td>Mastopathy</td>\n",
       "      <td>{'phenocode': 'Mastopathy', 'name': 'Mastopath...</td>\n",
       "      <td>Biobank_Japan</td>\n",
       "      <td>{'trait_term_clean': 'Mastopathy', 'ents': ['M...</td>\n",
       "      <td>{'term': 'Mastopathy', 'cands_embeddings': [],...</td>\n",
       "      <td>[{'term': 'Mastopathy', 'cands_embeddings': []...</td>\n",
       "      <td>[{'ent_id': 'http://www.ebi.ac.uk/efo/EFO_0009...</td>\n",
       "      <td>[http://www.ebi.ac.uk/efo/EFO_0009483]</td>\n",
       "      <td>[]</td>\n",
       "      <td>[Biobank_Japan, review]</td>\n",
       "      <td>[]</td>\n",
       "      <td>None</td>\n",
       "    </tr>\n",
       "    <tr>\n",
       "      <th>5401</th>\n",
       "      <td>Biobank_Japan-Schizophrenia-3322</td>\n",
       "      <td>Schizophrenia</td>\n",
       "      <td>{'phenocode': 'Schizophrenia', 'name': 'Schizo...</td>\n",
       "      <td>Biobank_Japan</td>\n",
       "      <td>{'trait_term_clean': 'Schizophrenia', 'ents': ...</td>\n",
       "      <td>{'term': 'Schizophrenia', 'cands_embeddings': ...</td>\n",
       "      <td>[{'term': 'Schizophrenia', 'cands_embeddings':...</td>\n",
       "      <td>[{'ent_id': 'http://www.ebi.ac.uk/efo/EFO_0000...</td>\n",
       "      <td>[http://www.ebi.ac.uk/efo/EFO_0000692, http://...</td>\n",
       "      <td>[]</td>\n",
       "      <td>[Biobank_Japan, good, review]</td>\n",
       "      <td>[]</td>\n",
       "      <td>None</td>\n",
       "    </tr>\n",
       "    <tr>\n",
       "      <th>5402</th>\n",
       "      <td>Biobank_Japan-Tonsillitis-3323</td>\n",
       "      <td>Tonsillitis</td>\n",
       "      <td>{'phenocode': 'Tonsillitis', 'name': 'Tonsilli...</td>\n",
       "      <td>Biobank_Japan</td>\n",
       "      <td>{'trait_term_clean': 'Tonsillitis', 'ents': ['...</td>\n",
       "      <td>{'term': 'Tonsillitis', 'cands_embeddings': []...</td>\n",
       "      <td>[{'term': 'Tonsillitis', 'cands_embeddings': [...</td>\n",
       "      <td>[{'ent_id': 'http://purl.obolibrary.org/obo/HP...</td>\n",
       "      <td>[]</td>\n",
       "      <td>[]</td>\n",
       "      <td>[Biobank_Japan, unmappable]</td>\n",
       "      <td>[]</td>\n",
       "      <td>None</td>\n",
       "    </tr>\n",
       "    <tr>\n",
       "      <th>5403</th>\n",
       "      <td>Biobank_Japan-HAV_hepatitis-3324</td>\n",
       "      <td>Acute hepatitis by Hepatitis A virus</td>\n",
       "      <td>{'phenocode': 'HAV_hepatitis', 'name': 'Acute ...</td>\n",
       "      <td>Biobank_Japan</td>\n",
       "      <td>{'trait_term_clean': 'Acute hepatitis by Hepat...</td>\n",
       "      <td>{'term': 'Acute hepatitis by Hepatitis A virus...</td>\n",
       "      <td>[{'term': 'Acute hepatitis', 'cands_embeddings...</td>\n",
       "      <td>[{'ent_id': 'http://www.ebi.ac.uk/efo/EFO_0004...</td>\n",
       "      <td>[http://www.ebi.ac.uk/efo/EFO_0004197, http://...</td>\n",
       "      <td>[]</td>\n",
       "      <td>[Biobank_Japan, review]</td>\n",
       "      <td>[]</td>\n",
       "      <td>None</td>\n",
       "    </tr>\n",
       "  </tbody>\n",
       "</table>\n",
       "<p>5404 rows × 13 columns</p>\n",
       "</div>"
      ],
      "text/plain": [
       "                                      trait_id  \\\n",
       "0                                UKBB+MVP-8-00   \n",
       "1                               UKBB+MVP-85-01   \n",
       "2                                   MVP-851-02   \n",
       "3                              UKBB+MVP-852-03   \n",
       "4                               UKBB+MVP-86-04   \n",
       "...                                        ...   \n",
       "5399  Biobank_Japan-Spinal_canal_stenosis-3320   \n",
       "5400             Biobank_Japan-Mastopathy-3321   \n",
       "5401          Biobank_Japan-Schizophrenia-3322   \n",
       "5402            Biobank_Japan-Tonsillitis-3323   \n",
       "5403          Biobank_Japan-HAV_hepatitis-3324   \n",
       "\n",
       "                                    trait_term  \\\n",
       "0                         Intestinal infection   \n",
       "1                          Bacterial enteritis   \n",
       "2                            Intestinal e.coli   \n",
       "3     Intestinal infection due to C. difficile   \n",
       "4                              Viral Enteritis   \n",
       "...                                        ...   \n",
       "5399                     Spinal canal stenosis   \n",
       "5400                                Mastopathy   \n",
       "5401                             Schizophrenia   \n",
       "5402                               Tonsillitis   \n",
       "5403      Acute hepatitis by Hepatitis A virus   \n",
       "\n",
       "                                       trait_basic_info       category  \\\n",
       "0     {'Phenotype': '8', 'description': 'Intestinal ...       UKBB+MVP   \n",
       "1     {'Phenotype': '8.5', 'description': 'Bacterial...       UKBB+MVP   \n",
       "2     {'Phenotype': '8.51', 'description': 'Intestin...            MVP   \n",
       "3     {'Phenotype': '8.52', 'description': 'Intestin...       UKBB+MVP   \n",
       "4     {'Phenotype': '8.6', 'description': 'Viral Ent...       UKBB+MVP   \n",
       "...                                                 ...            ...   \n",
       "5399  {'phenocode': 'Spinal_canal_stenosis', 'name':...  Biobank_Japan   \n",
       "5400  {'phenocode': 'Mastopathy', 'name': 'Mastopath...  Biobank_Japan   \n",
       "5401  {'phenocode': 'Schizophrenia', 'name': 'Schizo...  Biobank_Japan   \n",
       "5402  {'phenocode': 'Tonsillitis', 'name': 'Tonsilli...  Biobank_Japan   \n",
       "5403  {'phenocode': 'HAV_hepatitis', 'name': 'Acute ...  Biobank_Japan   \n",
       "\n",
       "                                      augmentation_info  \\\n",
       "0     {'trait_term_clean': 'Intestinal infection', '...   \n",
       "1     {'trait_term_clean': 'Bacterial enteritis', 'e...   \n",
       "2     {'trait_term_clean': 'Intestinal e.coli', 'ent...   \n",
       "3     {'trait_term_clean': 'Intestinal infection due...   \n",
       "4     {'trait_term_clean': 'Viral Enteritis', 'ents'...   \n",
       "...                                                 ...   \n",
       "5399  {'trait_term_clean': 'Spinal canal stenosis', ...   \n",
       "5400  {'trait_term_clean': 'Mastopathy', 'ents': ['M...   \n",
       "5401  {'trait_term_clean': 'Schizophrenia', 'ents': ...   \n",
       "5402  {'trait_term_clean': 'Tonsillitis', 'ents': ['...   \n",
       "5403  {'trait_term_clean': 'Acute hepatitis by Hepat...   \n",
       "\n",
       "                                     trait_term_mapping  \\\n",
       "0     {'term': 'Intestinal infection', 'cands_embedd...   \n",
       "1     {'term': 'Bacterial enteritis', 'cands_embeddi...   \n",
       "2     {'term': 'Intestinal e.coli', 'cands_embedding...   \n",
       "3     {'term': 'Intestinal infection due to C. diffi...   \n",
       "4     {'term': 'Viral Enteritis', 'cands_embeddings'...   \n",
       "...                                                 ...   \n",
       "5399  {'term': 'Spinal canal stenosis', 'cands_embed...   \n",
       "5400  {'term': 'Mastopathy', 'cands_embeddings': [],...   \n",
       "5401  {'term': 'Schizophrenia', 'cands_embeddings': ...   \n",
       "5402  {'term': 'Tonsillitis', 'cands_embeddings': []...   \n",
       "5403  {'term': 'Acute hepatitis by Hepatitis A virus...   \n",
       "\n",
       "                                     trait_ents_mapping  \\\n",
       "0     [{'term': 'Intestinal infection', 'cands_embed...   \n",
       "1     [{'term': 'Bacterial enteritis', 'cands_embedd...   \n",
       "2     [{'term': 'Intestinal', 'cands_embeddings': [{...   \n",
       "3     [{'term': 'Intestinal infection', 'cands_embed...   \n",
       "4     [{'term': 'Viral Enteritis', 'cands_embeddings...   \n",
       "...                                                 ...   \n",
       "5399  [{'term': 'Spinal canal stenosis', 'cands_embe...   \n",
       "5400  [{'term': 'Mastopathy', 'cands_embeddings': []...   \n",
       "5401  [{'term': 'Schizophrenia', 'cands_embeddings':...   \n",
       "5402  [{'term': 'Tonsillitis', 'cands_embeddings': [...   \n",
       "5403  [{'term': 'Acute hepatitis', 'cands_embeddings...   \n",
       "\n",
       "                                             candidates  \\\n",
       "0     [{'ent_id': 'http://purl.obolibrary.org/obo/MO...   \n",
       "1     [{'ent_id': 'http://purl.obolibrary.org/obo/MO...   \n",
       "2     [{'ent_id': 'http://www.ebi.ac.uk/efo/EFO_0000...   \n",
       "3     [{'ent_id': 'http://purl.obolibrary.org/obo/MO...   \n",
       "4     [{'ent_id': 'http://purl.obolibrary.org/obo/MO...   \n",
       "...                                                 ...   \n",
       "5399  [{'ent_id': 'http://www.ebi.ac.uk/efo/EFO_0007...   \n",
       "5400  [{'ent_id': 'http://www.ebi.ac.uk/efo/EFO_0009...   \n",
       "5401  [{'ent_id': 'http://www.ebi.ac.uk/efo/EFO_0000...   \n",
       "5402  [{'ent_id': 'http://purl.obolibrary.org/obo/HP...   \n",
       "5403  [{'ent_id': 'http://www.ebi.ac.uk/efo/EFO_0004...   \n",
       "\n",
       "                                              selection external_selection  \\\n",
       "0        [http://purl.obolibrary.org/obo/MONDO_0043424]                 []   \n",
       "1        [http://purl.obolibrary.org/obo/MONDO_0000916]                 []   \n",
       "2                [http://www.ebi.ac.uk/efo/EFO_0000834]                 []   \n",
       "3        [http://purl.obolibrary.org/obo/MONDO_0043424]                 []   \n",
       "4        [http://purl.obolibrary.org/obo/MONDO_0043579]                 []   \n",
       "...                                                 ...                ...   \n",
       "5399             [http://www.ebi.ac.uk/efo/EFO_0007490]                 []   \n",
       "5400             [http://www.ebi.ac.uk/efo/EFO_0009483]                 []   \n",
       "5401  [http://www.ebi.ac.uk/efo/EFO_0000692, http://...                 []   \n",
       "5402                                                 []                 []   \n",
       "5403  [http://www.ebi.ac.uk/efo/EFO_0004197, http://...                 []   \n",
       "\n",
       "                        trait_flags cand_flags notes  \n",
       "0                [UKBB+MVP, review]         []  None  \n",
       "1          [UKBB+MVP, good, review]         []  None  \n",
       "2                     [MVP, review]         []  None  \n",
       "3                [UKBB+MVP, review]         []  None  \n",
       "4                [UKBB+MVP, review]         []  None  \n",
       "...                             ...        ...   ...  \n",
       "5399        [Biobank_Japan, review]         []  None  \n",
       "5400        [Biobank_Japan, review]         []  None  \n",
       "5401  [Biobank_Japan, good, review]         []  None  \n",
       "5402    [Biobank_Japan, unmappable]         []  None  \n",
       "5403        [Biobank_Japan, review]         []  None  \n",
       "\n",
       "[5404 rows x 13 columns]"
      ]
     },
     "execution_count": 32,
     "metadata": {},
     "output_type": "execute_result"
    }
   ],
   "source": [
    "def create_flags(item):\n",
    "    flags = []\n",
    "    flags.append(item[\"category\"])\n",
    "    picked_terms = py_.chain([\n",
    "        [_[\"ent_term\"]]+_[\"synonyms\"] for _ in item[\"candidates\"]\n",
    "        if _[\"ent_id\"] in item[\"selection\"]\n",
    "    ]).flatten().uniq().value()\n",
    "    dist = [\n",
    "        distance(item[\"augmentation_info\"][\"trait_term_clean\"].lower(),\n",
    "                 _.lower()\n",
    "                )\n",
    "        for _ in picked_terms\n",
    "    ]\n",
    "    threshold = 2\n",
    "    dist_filter = [_ for _ in dist if _ <= threshold]\n",
    "    if len(dist_filter) > 0:\n",
    "        flags.append(\"good\")\n",
    "    if len(item[\"selection\"]) > 0:\n",
    "        flags.append(\"review\")\n",
    "    else:\n",
    "        flags.append(\"unmappable\")\n",
    "    return flags\n",
    "\n",
    "df_main_stage1 = (\n",
    "    df_main.assign(\n",
    "        trait_flags=lambda df: df.apply(\n",
    "            lambda row: create_flags(row),\n",
    "            axis=1\n",
    "        )\n",
    "    )\n",
    ")\n",
    "\n",
    "df_main_stage1"
   ]
  },
  {
   "cell_type": "markdown",
   "id": "9f6944a8-17ed-4f94-8b48-2aca760fb9ac",
   "metadata": {},
   "source": [
    "# Post processing diagnostics"
   ]
  },
  {
   "cell_type": "code",
   "execution_count": 27,
   "id": "acdf4b47-8b37-46f8-bcce-e7a629006aed",
   "metadata": {
    "execution": {
     "iopub.execute_input": "2022-11-07T14:41:11.422841Z",
     "iopub.status.busy": "2022-11-07T14:41:11.422221Z",
     "iopub.status.idle": "2022-11-07T14:41:11.440013Z",
     "shell.execute_reply": "2022-11-07T14:41:11.438931Z",
     "shell.execute_reply.started": "2022-11-07T14:41:11.422789Z"
    },
    "tags": []
   },
   "outputs": [
    {
     "data": {
      "text/plain": [
       "FinnGen          3095\n",
       "UKBB+MVP         1490\n",
       "MVP               575\n",
       "Biobank_Japan     230\n",
       "UKBB               14\n",
       "Name: category, dtype: int64"
      ]
     },
     "execution_count": 27,
     "metadata": {},
     "output_type": "execute_result"
    }
   ],
   "source": [
    "df_main_stage1[\"category\"].value_counts()"
   ]
  },
  {
   "cell_type": "code",
   "execution_count": 33,
   "id": "e3abbe22-578d-46d7-b5cf-b6ebe3b3a5bf",
   "metadata": {
    "execution": {
     "iopub.execute_input": "2022-11-07T15:40:14.073305Z",
     "iopub.status.busy": "2022-11-07T15:40:14.072702Z",
     "iopub.status.idle": "2022-11-07T15:40:14.092350Z",
     "shell.execute_reply": "2022-11-07T15:40:14.091449Z",
     "shell.execute_reply.started": "2022-11-07T15:40:14.073252Z"
    },
    "tags": []
   },
   "outputs": [
    {
     "data": {
      "text/plain": [
       "[FinnGen, review]                2194\n",
       "[UKBB+MVP, review]                867\n",
       "[FinnGen, good, review]           632\n",
       "[UKBB+MVP, good, review]          534\n",
       "[MVP, review]                     352\n",
       "[FinnGen, unmappable]             269\n",
       "[MVP, good, review]               172\n",
       "[Biobank_Japan, good, review]     158\n",
       "[UKBB+MVP, unmappable]             89\n",
       "[MVP, unmappable]                  51\n",
       "[Biobank_Japan, review]            47\n",
       "[Biobank_Japan, unmappable]        25\n",
       "[UKBB, good, review]                6\n",
       "[UKBB, review]                      5\n",
       "[UKBB, unmappable]                  3\n",
       "Name: trait_flags, dtype: int64"
      ]
     },
     "execution_count": 33,
     "metadata": {},
     "output_type": "execute_result"
    }
   ],
   "source": [
    "df_main_stage1[\"trait_flags\"].value_counts()"
   ]
  },
  {
   "cell_type": "markdown",
   "id": "227a12eb-d468-45e2-8413-c717e5db4f8e",
   "metadata": {},
   "source": [
    "# Wrap up"
   ]
  },
  {
   "cell_type": "code",
   "execution_count": 35,
   "id": "e17c5114-e1a1-4424-ab2a-5f3ea874dd37",
   "metadata": {
    "execution": {
     "iopub.execute_input": "2022-11-07T19:47:28.198090Z",
     "iopub.status.busy": "2022-11-07T19:47:28.197446Z",
     "iopub.status.idle": "2022-11-07T19:47:31.167878Z",
     "shell.execute_reply": "2022-11-07T19:47:31.166787Z",
     "shell.execute_reply.started": "2022-11-07T19:47:28.198028Z"
    },
    "tags": []
   },
   "outputs": [],
   "source": [
    "metadata = {\"flags\": flags}\n",
    "annotation_data = {\n",
    "    _[\"trait_id\"]: _\n",
    "    for _ in df_main_stage1.to_dict(orient=\"records\")\n",
    "}\n",
    "\n",
    "annotation_res = {\n",
    "    \"metadata\": metadata,\n",
    "    \"data\": annotation_data,\n",
    "}\n",
    "\n",
    "output_file = input_file.parent / \"mvp-annotation-round-2.json\"\n",
    "with output_file.open(\"w\") as f:\n",
    "    json.dump(annotation_res, f)"
   ]
  }
 ],
 "metadata": {
  "kernelspec": {
   "display_name": "Python 3 (ipykernel)",
   "language": "python",
   "name": "python3"
  },
  "language_info": {
   "codemirror_mode": {
    "name": "ipython",
    "version": 3
   },
   "file_extension": ".py",
   "mimetype": "text/x-python",
   "name": "python",
   "nbconvert_exporter": "python",
   "pygments_lexer": "ipython3",
   "version": "3.8.13"
  }
 },
 "nbformat": 4,
 "nbformat_minor": 5
}
