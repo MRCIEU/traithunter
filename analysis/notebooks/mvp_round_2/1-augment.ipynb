{
 "cells": [
  {
   "cell_type": "markdown",
   "id": "ff8e00bb-e3d0-4269-a15e-5767e7bd2c04",
   "metadata": {},
   "source": [
    "# MVP phenotype terms, round 2, augmentation"
   ]
  },
  {
   "cell_type": "markdown",
   "id": "332b043e-5605-40b3-98b0-8804e10114f1",
   "metadata": {},
   "source": [
    "# Init"
   ]
  },
  {
   "cell_type": "code",
   "execution_count": 1,
   "id": "8ce5b925-03d7-474b-ad92-71726fb39c82",
   "metadata": {
    "execution": {
     "iopub.execute_input": "2022-11-07T12:06:53.586858Z",
     "iopub.status.busy": "2022-11-07T12:06:53.586009Z",
     "iopub.status.idle": "2022-11-07T12:06:53.652622Z",
     "shell.execute_reply": "2022-11-07T12:06:53.651168Z",
     "shell.execute_reply.started": "2022-11-07T12:06:53.586714Z"
    },
    "tags": []
   },
   "outputs": [],
   "source": [
    "%load_ext autoreload\n",
    "%autoreload 2\n",
    "\n",
    "%load_ext lab_black"
   ]
  },
  {
   "cell_type": "code",
   "execution_count": 2,
   "id": "c37c7662-5511-417e-bedd-0a77c7f2eac7",
   "metadata": {
    "execution": {
     "iopub.execute_input": "2022-11-07T12:06:54.370977Z",
     "iopub.status.busy": "2022-11-07T12:06:54.370379Z",
     "iopub.status.idle": "2022-11-07T12:06:54.389703Z",
     "shell.execute_reply": "2022-11-07T12:06:54.388565Z",
     "shell.execute_reply.started": "2022-11-07T12:06:54.370925Z"
    },
    "tags": []
   },
   "outputs": [],
   "source": [
    "import sys\n",
    "from pathlib import Path"
   ]
  },
  {
   "cell_type": "code",
   "execution_count": 3,
   "id": "72be4898-cace-4616-9ba3-9441dd413002",
   "metadata": {
    "execution": {
     "iopub.execute_input": "2022-11-07T12:06:55.091975Z",
     "iopub.status.busy": "2022-11-07T12:06:55.091392Z",
     "iopub.status.idle": "2022-11-07T12:06:55.113481Z",
     "shell.execute_reply": "2022-11-07T12:06:55.112660Z",
     "shell.execute_reply.started": "2022-11-07T12:06:55.091925Z"
    },
    "tags": []
   },
   "outputs": [
    {
     "name": "stdout",
     "output_type": "stream",
     "text": [
      "/data/ik18445_cache/projects/phenotype-mapping/analysis/notebooks/mvp_round_2\n"
     ]
    }
   ],
   "source": [
    "_pwd = Path(\".\").resolve()\n",
    "print(_pwd)\n",
    "sys.path.append(str(_pwd))"
   ]
  },
  {
   "cell_type": "code",
   "execution_count": 4,
   "id": "afb6d252-20ab-4469-9785-79f441db7417",
   "metadata": {
    "execution": {
     "iopub.execute_input": "2022-11-07T12:06:55.809515Z",
     "iopub.status.busy": "2022-11-07T12:06:55.808957Z",
     "iopub.status.idle": "2022-11-07T12:06:57.802366Z",
     "shell.execute_reply": "2022-11-07T12:06:57.801473Z",
     "shell.execute_reply.started": "2022-11-07T12:06:55.809465Z"
    },
    "tags": []
   },
   "outputs": [
    {
     "name": "stderr",
     "output_type": "stream",
     "text": [
      "Your CPU supports instructions that this binary was not compiled to use: SSE3 SSE4.1 SSE4.2 AVX AVX2\n",
      "For maximum performance, you can install NMSLIB from sources \n",
      "pip install --no-binary :all: nmslib\n"
     ]
    }
   ],
   "source": [
    "from typing import List\n",
    "import re\n",
    "import json\n",
    "\n",
    "import pandas as pd\n",
    "import janitor\n",
    "import numpy as np\n",
    "from pydash import py_\n",
    "\n",
    "import spacy\n",
    "import scispacy\n",
    "\n",
    "# abbrevs not useful in this dataset\n",
    "# from scispacy.abbreviation import AbbreviationDetector\n",
    "from scispacy.linking import EntityLinker\n",
    "\n",
    "import ray\n",
    "\n",
    "from common_funcs import utils\n",
    "from analysis_funcs import paths\n",
    "import mvp_funcs, mvp_types"
   ]
  },
  {
   "cell_type": "code",
   "execution_count": 5,
   "id": "457e16b5-b900-4f03-a918-fef07cb8ff36",
   "metadata": {
    "execution": {
     "iopub.execute_input": "2022-11-07T12:06:57.803933Z",
     "iopub.status.busy": "2022-11-07T12:06:57.803480Z",
     "iopub.status.idle": "2022-11-07T12:06:57.829785Z",
     "shell.execute_reply": "2022-11-07T12:06:57.828899Z",
     "shell.execute_reply.started": "2022-11-07T12:06:57.803913Z"
    },
    "tags": []
   },
   "outputs": [],
   "source": [
    "proj_root = utils.find_project_root(\"docker-compose.yml\")\n",
    "assert proj_root.exists(), proj_root\n",
    "\n",
    "data_path = proj_root / \"data\"\n",
    "\n",
    "input_path = data_path / \"output\" / \"mvp-mapping-round-2\"\n",
    "assert input_path.exists(), input_path\n",
    "\n",
    "model_path = paths.models[\"scispacy_lg\"]\n",
    "assert model_path.exists(), model_path"
   ]
  },
  {
   "cell_type": "markdown",
   "id": "32b5fcfb-7314-4406-b96f-4585334c0472",
   "metadata": {},
   "source": [
    "# Load in"
   ]
  },
  {
   "cell_type": "code",
   "execution_count": 6,
   "id": "7914b2ef-1e0f-4875-a21a-acb15b92a079",
   "metadata": {
    "execution": {
     "iopub.execute_input": "2022-11-07T12:07:01.550230Z",
     "iopub.status.busy": "2022-11-07T12:07:01.549596Z",
     "iopub.status.idle": "2022-11-07T12:08:40.482549Z",
     "shell.execute_reply": "2022-11-07T12:08:40.481598Z",
     "shell.execute_reply.started": "2022-11-07T12:07:01.550176Z"
    },
    "tags": []
   },
   "outputs": [
    {
     "name": "stderr",
     "output_type": "stream",
     "text": [
      "/home/ik18445/miniconda3/envs/phenotype-mapping/lib/python3.8/site-packages/sklearn/base.py:329: UserWarning: Trying to unpickle estimator TfidfTransformer from version 0.20.3 when using version 1.1.1. This might lead to breaking code or invalid results. Use at your own risk. For more info please refer to:\n",
      "https://scikit-learn.org/stable/model_persistence.html#security-maintainability-limitations\n",
      "  warnings.warn(\n",
      "/home/ik18445/miniconda3/envs/phenotype-mapping/lib/python3.8/site-packages/sklearn/base.py:329: UserWarning: Trying to unpickle estimator TfidfVectorizer from version 0.20.3 when using version 1.1.1. This might lead to breaking code or invalid results. Use at your own risk. For more info please refer to:\n",
      "https://scikit-learn.org/stable/model_persistence.html#security-maintainability-limitations\n",
      "  warnings.warn(\n"
     ]
    },
    {
     "data": {
      "text/plain": [
       "<scispacy.linking.EntityLinker at 0x7ff458463c40>"
      ]
     },
     "execution_count": 6,
     "metadata": {},
     "output_type": "execute_result"
    }
   ],
   "source": [
    "scispacy_model = spacy.load(model_path)\n",
    "# scispacy_model.add_pipe(\"abbreviation_detector\")\n",
    "scispacy_model.add_pipe(\n",
    "    \"scispacy_linker\", config={\"resolve_abbreviations\": True, \"linker_name\": \"umls\"}\n",
    ")"
   ]
  },
  {
   "cell_type": "code",
   "execution_count": 7,
   "id": "f9fcd509-84d4-463e-b95e-1ce19c9340fe",
   "metadata": {
    "execution": {
     "iopub.execute_input": "2022-11-07T12:08:40.484237Z",
     "iopub.status.busy": "2022-11-07T12:08:40.484002Z",
     "iopub.status.idle": "2022-11-07T12:08:40.510073Z",
     "shell.execute_reply": "2022-11-07T12:08:40.509319Z",
     "shell.execute_reply.started": "2022-11-07T12:08:40.484218Z"
    },
    "tags": []
   },
   "outputs": [],
   "source": [
    "linker = scispacy_model.get_pipe(\"scispacy_linker\")"
   ]
  },
  {
   "cell_type": "code",
   "execution_count": 8,
   "id": "e005ce6c-ca63-42cc-9a0b-b399f1ef3512",
   "metadata": {
    "execution": {
     "iopub.execute_input": "2022-11-07T12:08:46.038237Z",
     "iopub.status.busy": "2022-11-07T12:08:46.037552Z",
     "iopub.status.idle": "2022-11-07T12:08:46.356917Z",
     "shell.execute_reply": "2022-11-07T12:08:46.356107Z",
     "shell.execute_reply.started": "2022-11-07T12:08:46.038182Z"
    },
    "tags": []
   },
   "outputs": [
    {
     "data": {
      "text/html": [
       "<div>\n",
       "<style scoped>\n",
       "    .dataframe tbody tr th:only-of-type {\n",
       "        vertical-align: middle;\n",
       "    }\n",
       "\n",
       "    .dataframe tbody tr th {\n",
       "        vertical-align: top;\n",
       "    }\n",
       "\n",
       "    .dataframe thead th {\n",
       "        text-align: right;\n",
       "    }\n",
       "</style>\n",
       "<table border=\"1\" class=\"dataframe\">\n",
       "  <thead>\n",
       "    <tr style=\"text-align: right;\">\n",
       "      <th></th>\n",
       "      <th>trait_id</th>\n",
       "      <th>trait_term</th>\n",
       "      <th>trait_term_clean</th>\n",
       "      <th>trait_basic_info</th>\n",
       "    </tr>\n",
       "  </thead>\n",
       "  <tbody>\n",
       "    <tr>\n",
       "      <th>0</th>\n",
       "      <td>UKBB+MVP-8-00</td>\n",
       "      <td>Intestinal infection</td>\n",
       "      <td>Intestinal infection</td>\n",
       "      <td>{'Phenotype': '8', 'description': 'Intestinal ...</td>\n",
       "    </tr>\n",
       "    <tr>\n",
       "      <th>1</th>\n",
       "      <td>UKBB+MVP-85-01</td>\n",
       "      <td>Bacterial enteritis</td>\n",
       "      <td>Bacterial enteritis</td>\n",
       "      <td>{'Phenotype': '8.5', 'description': 'Bacterial...</td>\n",
       "    </tr>\n",
       "    <tr>\n",
       "      <th>2</th>\n",
       "      <td>MVP-851-02</td>\n",
       "      <td>Intestinal e.coli</td>\n",
       "      <td>Intestinal e.coli</td>\n",
       "      <td>{'Phenotype': '8.51', 'description': 'Intestin...</td>\n",
       "    </tr>\n",
       "    <tr>\n",
       "      <th>3</th>\n",
       "      <td>UKBB+MVP-852-03</td>\n",
       "      <td>Intestinal infection due to C. difficile</td>\n",
       "      <td>Intestinal infection due to C. difficile</td>\n",
       "      <td>{'Phenotype': '8.52', 'description': 'Intestin...</td>\n",
       "    </tr>\n",
       "    <tr>\n",
       "      <th>4</th>\n",
       "      <td>UKBB+MVP-86-04</td>\n",
       "      <td>Viral Enteritis</td>\n",
       "      <td>Viral Enteritis</td>\n",
       "      <td>{'Phenotype': '8.6', 'description': 'Viral Ent...</td>\n",
       "    </tr>\n",
       "    <tr>\n",
       "      <th>...</th>\n",
       "      <td>...</td>\n",
       "      <td>...</td>\n",
       "      <td>...</td>\n",
       "      <td>...</td>\n",
       "    </tr>\n",
       "    <tr>\n",
       "      <th>5399</th>\n",
       "      <td>Biobank_Japan-Spinal_canal_stenosis-3320</td>\n",
       "      <td>Spinal canal stenosis</td>\n",
       "      <td>Spinal canal stenosis</td>\n",
       "      <td>{'phenocode': 'Spinal_canal_stenosis', 'name':...</td>\n",
       "    </tr>\n",
       "    <tr>\n",
       "      <th>5400</th>\n",
       "      <td>Biobank_Japan-Mastopathy-3321</td>\n",
       "      <td>Mastopathy</td>\n",
       "      <td>Mastopathy</td>\n",
       "      <td>{'phenocode': 'Mastopathy', 'name': 'Mastopath...</td>\n",
       "    </tr>\n",
       "    <tr>\n",
       "      <th>5401</th>\n",
       "      <td>Biobank_Japan-Schizophrenia-3322</td>\n",
       "      <td>Schizophrenia</td>\n",
       "      <td>Schizophrenia</td>\n",
       "      <td>{'phenocode': 'Schizophrenia', 'name': 'Schizo...</td>\n",
       "    </tr>\n",
       "    <tr>\n",
       "      <th>5402</th>\n",
       "      <td>Biobank_Japan-Tonsillitis-3323</td>\n",
       "      <td>Tonsillitis</td>\n",
       "      <td>Tonsillitis</td>\n",
       "      <td>{'phenocode': 'Tonsillitis', 'name': 'Tonsilli...</td>\n",
       "    </tr>\n",
       "    <tr>\n",
       "      <th>5403</th>\n",
       "      <td>Biobank_Japan-HAV_hepatitis-3324</td>\n",
       "      <td>Acute hepatitis by Hepatitis A virus</td>\n",
       "      <td>Acute hepatitis by Hepatitis A virus</td>\n",
       "      <td>{'phenocode': 'HAV_hepatitis', 'name': 'Acute ...</td>\n",
       "    </tr>\n",
       "  </tbody>\n",
       "</table>\n",
       "<p>5404 rows × 4 columns</p>\n",
       "</div>"
      ],
      "text/plain": [
       "                                      trait_id  \\\n",
       "0                                UKBB+MVP-8-00   \n",
       "1                               UKBB+MVP-85-01   \n",
       "2                                   MVP-851-02   \n",
       "3                              UKBB+MVP-852-03   \n",
       "4                               UKBB+MVP-86-04   \n",
       "...                                        ...   \n",
       "5399  Biobank_Japan-Spinal_canal_stenosis-3320   \n",
       "5400             Biobank_Japan-Mastopathy-3321   \n",
       "5401          Biobank_Japan-Schizophrenia-3322   \n",
       "5402            Biobank_Japan-Tonsillitis-3323   \n",
       "5403          Biobank_Japan-HAV_hepatitis-3324   \n",
       "\n",
       "                                    trait_term  \\\n",
       "0                         Intestinal infection   \n",
       "1                          Bacterial enteritis   \n",
       "2                            Intestinal e.coli   \n",
       "3     Intestinal infection due to C. difficile   \n",
       "4                              Viral Enteritis   \n",
       "...                                        ...   \n",
       "5399                     Spinal canal stenosis   \n",
       "5400                                Mastopathy   \n",
       "5401                             Schizophrenia   \n",
       "5402                               Tonsillitis   \n",
       "5403      Acute hepatitis by Hepatitis A virus   \n",
       "\n",
       "                              trait_term_clean  \\\n",
       "0                         Intestinal infection   \n",
       "1                          Bacterial enteritis   \n",
       "2                            Intestinal e.coli   \n",
       "3     Intestinal infection due to C. difficile   \n",
       "4                              Viral Enteritis   \n",
       "...                                        ...   \n",
       "5399                     Spinal canal stenosis   \n",
       "5400                                Mastopathy   \n",
       "5401                             Schizophrenia   \n",
       "5402                               Tonsillitis   \n",
       "5403      Acute hepatitis by Hepatitis A virus   \n",
       "\n",
       "                                       trait_basic_info  \n",
       "0     {'Phenotype': '8', 'description': 'Intestinal ...  \n",
       "1     {'Phenotype': '8.5', 'description': 'Bacterial...  \n",
       "2     {'Phenotype': '8.51', 'description': 'Intestin...  \n",
       "3     {'Phenotype': '8.52', 'description': 'Intestin...  \n",
       "4     {'Phenotype': '8.6', 'description': 'Viral Ent...  \n",
       "...                                                 ...  \n",
       "5399  {'phenocode': 'Spinal_canal_stenosis', 'name':...  \n",
       "5400  {'phenocode': 'Mastopathy', 'name': 'Mastopath...  \n",
       "5401  {'phenocode': 'Schizophrenia', 'name': 'Schizo...  \n",
       "5402  {'phenocode': 'Tonsillitis', 'name': 'Tonsilli...  \n",
       "5403  {'phenocode': 'HAV_hepatitis', 'name': 'Acute ...  \n",
       "\n",
       "[5404 rows x 4 columns]"
      ]
     },
     "execution_count": 8,
     "metadata": {},
     "output_type": "execute_result"
    }
   ],
   "source": [
    "input_file = input_path / \"mvp-terms-clean.json\"\n",
    "assert input_file.exists(), input_file\n",
    "with input_file.open() as f:\n",
    "    df_init = pd.DataFrame(json.load(f))\n",
    "\n",
    "mvp_types.CleanedDf.validate(df_init)\n",
    "\n",
    "df_init"
   ]
  },
  {
   "cell_type": "markdown",
   "id": "e47de637-f0d8-4c85-9557-bc67d6cf38c7",
   "metadata": {
    "tags": []
   },
   "source": [
    "# Processing"
   ]
  },
  {
   "cell_type": "code",
   "execution_count": 9,
   "id": "a5870bf6-e423-4b12-9432-28f2498ec524",
   "metadata": {
    "execution": {
     "iopub.execute_input": "2022-11-07T12:08:48.363199Z",
     "iopub.status.busy": "2022-11-07T12:08:48.362381Z",
     "iopub.status.idle": "2022-11-07T12:08:48.396667Z",
     "shell.execute_reply": "2022-11-07T12:08:48.395727Z",
     "shell.execute_reply.started": "2022-11-07T12:08:48.363144Z"
    },
    "tags": []
   },
   "outputs": [],
   "source": [
    "def annotate_terms(item, scispacy_model, linker):\n",
    "    term = item[\"trait_term_clean\"]\n",
    "    doc = scispacy_model(term)\n",
    "    regular_ents = doc.ents\n",
    "    kb_ents = mvp_funcs.get_kb_ents(ents=regular_ents, linker=linker)\n",
    "    res = {\n",
    "        \"trait_id\": item[\"trait_id\"],\n",
    "        \"regular_ents\": [str(_) for _ in regular_ents],\n",
    "        \"kb_ents\": kb_ents,\n",
    "    }\n",
    "    return res"
   ]
  },
  {
   "cell_type": "code",
   "execution_count": 10,
   "id": "5ddbbaaa-1aa8-4b41-9b65-8e31fee6ef5f",
   "metadata": {
    "execution": {
     "iopub.execute_input": "2022-11-07T12:08:50.056277Z",
     "iopub.status.busy": "2022-11-07T12:08:50.055621Z",
     "iopub.status.idle": "2022-11-07T12:10:42.438288Z",
     "shell.execute_reply": "2022-11-07T12:10:42.436838Z",
     "shell.execute_reply.started": "2022-11-07T12:08:50.056222Z"
    },
    "tags": []
   },
   "outputs": [
    {
     "name": "stderr",
     "output_type": "stream",
     "text": [
      "/home/ik18445/miniconda3/envs/phenotype-mapping/lib/python3.8/site-packages/scispacy/candidate_generation.py:284: VisibleDeprecationWarning: Creating an ndarray from ragged nested sequences (which is a list-or-tuple of lists-or-tuples-or ndarrays with different lengths or shapes) is deprecated. If you meant to do this, you must specify 'dtype=object' when creating the ndarray.\n",
      "  extended_neighbors[empty_vectors_boolean_flags] = numpy.array(neighbors)[:-1]\n",
      "/home/ik18445/miniconda3/envs/phenotype-mapping/lib/python3.8/site-packages/scispacy/candidate_generation.py:285: VisibleDeprecationWarning: Creating an ndarray from ragged nested sequences (which is a list-or-tuple of lists-or-tuples-or ndarrays with different lengths or shapes) is deprecated. If you meant to do this, you must specify 'dtype=object' when creating the ndarray.\n",
      "  extended_distances[empty_vectors_boolean_flags] = numpy.array(distances)[:-1]\n"
     ]
    },
    {
     "name": "stdout",
     "output_type": "stream",
     "text": [
      "5404\n",
      "5404\n",
      "CPU times: user 2min 7s, sys: 58.9 s, total: 3min 6s\n",
      "Wall time: 1min 52s\n"
     ]
    }
   ],
   "source": [
    "%%time\n",
    "input_items = df_init[[\"trait_id\", \"trait_term_clean\"]].to_dict(orient=\"records\")\n",
    "\n",
    "annotated_items = [annotate_terms(item=_, \n",
    "                                        scispacy_model=scispacy_model, linker=linker\n",
    "                                        ) for _ in input_items]\n",
    "\n",
    "print(len(input_items))\n",
    "print(len(annotated_items))"
   ]
  },
  {
   "cell_type": "code",
   "execution_count": 11,
   "id": "bbab0ebd-f6ca-406c-aac4-f25d5ab0e53d",
   "metadata": {
    "execution": {
     "iopub.execute_input": "2022-11-07T12:10:42.440366Z",
     "iopub.status.busy": "2022-11-07T12:10:42.440105Z",
     "iopub.status.idle": "2022-11-07T12:10:42.722975Z",
     "shell.execute_reply": "2022-11-07T12:10:42.722233Z",
     "shell.execute_reply.started": "2022-11-07T12:10:42.440345Z"
    },
    "tags": []
   },
   "outputs": [],
   "source": [
    "df_annotated = pd.DataFrame(annotated_items)\n",
    "\n",
    "df_augment = df_init.merge(df_annotated, on=[\"trait_id\"]).assign(\n",
    "    ents=lambda df: df.apply(\n",
    "        lambda row: py_.chain(row[\"regular_ents\"] + row[\"kb_ents\"])\n",
    "        .uniq_by(lambda e: e.lower())\n",
    "        .value(),\n",
    "        axis=1,\n",
    "    )\n",
    ")"
   ]
  },
  {
   "cell_type": "code",
   "execution_count": 12,
   "id": "d75232ac-f85e-4e74-a4a2-2a7212834723",
   "metadata": {
    "execution": {
     "iopub.execute_input": "2022-11-07T12:10:42.724058Z",
     "iopub.status.busy": "2022-11-07T12:10:42.723844Z",
     "iopub.status.idle": "2022-11-07T12:10:42.919223Z",
     "shell.execute_reply": "2022-11-07T12:10:42.918661Z",
     "shell.execute_reply.started": "2022-11-07T12:10:42.724039Z"
    },
    "tags": []
   },
   "outputs": [],
   "source": [
    "output_file = input_file.parent / \"mvp-terms-augmented.json\"\n",
    "with output_file.open(\"w\") as f:\n",
    "    json.dump(df_augment.to_dict(orient=\"records\"), f)"
   ]
  },
  {
   "cell_type": "code",
   "execution_count": 13,
   "id": "676b0ade-a527-4887-bf9b-5176bb422f47",
   "metadata": {
    "execution": {
     "iopub.execute_input": "2022-11-07T12:10:42.920591Z",
     "iopub.status.busy": "2022-11-07T12:10:42.920332Z",
     "iopub.status.idle": "2022-11-07T12:10:42.997924Z",
     "shell.execute_reply": "2022-11-07T12:10:42.997013Z",
     "shell.execute_reply.started": "2022-11-07T12:10:42.920573Z"
    },
    "tags": []
   },
   "outputs": [],
   "source": [
    "output_file = input_file.parent / \"mvp-terms-augmented-flat.csv\"\n",
    "cols = [\"trait_id\", \"trait_term\", \"trait_term_clean\", \"regular_ents\", \"kb_ents\"]\n",
    "df_augment[cols].to_csv(output_file, index=False)"
   ]
  },
  {
   "cell_type": "markdown",
   "id": "299fc1b9-d214-4b69-9c0b-a43975797899",
   "metadata": {},
   "source": [
    "# Post processing diagnostics"
   ]
  },
  {
   "cell_type": "markdown",
   "id": "b981b459-b989-48b9-a723-fcd9c2a3a623",
   "metadata": {},
   "source": [
    "# Wrap up"
   ]
  }
 ],
 "metadata": {
  "kernelspec": {
   "display_name": "Python 3 (ipykernel)",
   "language": "python",
   "name": "python3"
  },
  "language_info": {
   "codemirror_mode": {
    "name": "ipython",
    "version": 3
   },
   "file_extension": ".py",
   "mimetype": "text/x-python",
   "name": "python",
   "nbconvert_exporter": "python",
   "pygments_lexer": "ipython3",
   "version": "3.8.13"
  }
 },
 "nbformat": 4,
 "nbformat_minor": 5
}
