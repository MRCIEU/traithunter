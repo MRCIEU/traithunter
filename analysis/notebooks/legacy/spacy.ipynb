{
 "cells": [
  {
   "cell_type": "code",
   "execution_count": 1,
   "id": "c8366b88-92a7-45f8-9a71-14b5bb5d855d",
   "metadata": {
    "execution": {
     "iopub.execute_input": "2022-06-08T13:47:39.976416Z",
     "iopub.status.busy": "2022-06-08T13:47:39.975833Z",
     "iopub.status.idle": "2022-06-08T13:47:40.008658Z",
     "shell.execute_reply": "2022-06-08T13:47:40.008064Z",
     "shell.execute_reply.started": "2022-06-08T13:47:39.976280Z"
    },
    "tags": []
   },
   "outputs": [],
   "source": [
    "%load_ext autoreload\n",
    "%autoreload 2"
   ]
  },
  {
   "cell_type": "code",
   "execution_count": 2,
   "id": "59ac4de1-3bb9-455c-a447-88a3ad735bd1",
   "metadata": {
    "execution": {
     "iopub.execute_input": "2022-06-08T13:47:40.009696Z",
     "iopub.status.busy": "2022-06-08T13:47:40.009441Z",
     "iopub.status.idle": "2022-06-08T13:47:41.013838Z",
     "shell.execute_reply": "2022-06-08T13:47:41.013073Z",
     "shell.execute_reply.started": "2022-06-08T13:47:40.009672Z"
    },
    "tags": []
   },
   "outputs": [],
   "source": [
    "import re\n",
    "import json\n",
    "from pathlib import Path\n",
    "from typing import Any, Dict, List\n",
    "\n",
    "import scispacy\n",
    "import spacy\n",
    "\n",
    "import requests\n",
    "import pandas as pd\n",
    "import janitor\n",
    "import numpy as np\n",
    "from loguru import logger"
   ]
  },
  {
   "cell_type": "code",
   "execution_count": 3,
   "id": "2d898135-4ae0-4af1-bad8-d85d60d965e7",
   "metadata": {
    "execution": {
     "iopub.execute_input": "2022-06-08T13:47:41.014919Z",
     "iopub.status.busy": "2022-06-08T13:47:41.014773Z",
     "iopub.status.idle": "2022-06-08T13:47:41.032474Z",
     "shell.execute_reply": "2022-06-08T13:47:41.031686Z",
     "shell.execute_reply.started": "2022-06-08T13:47:41.014902Z"
    },
    "tags": []
   },
   "outputs": [],
   "source": [
    "import sys\n",
    "sys.path.append(\".\")\n",
    "\n",
    "import fn"
   ]
  },
  {
   "cell_type": "code",
   "execution_count": 4,
   "id": "8fbe9134-24fb-42ac-9c8d-51892069999d",
   "metadata": {
    "execution": {
     "iopub.execute_input": "2022-06-08T13:47:41.034061Z",
     "iopub.status.busy": "2022-06-08T13:47:41.033829Z",
     "iopub.status.idle": "2022-06-08T13:47:41.049101Z",
     "shell.execute_reply": "2022-06-08T13:47:41.048485Z",
     "shell.execute_reply.started": "2022-06-08T13:47:41.034044Z"
    },
    "tags": []
   },
   "outputs": [],
   "source": [
    "model_path = Path(\".\") / \"models\" /  \"en_core_sci_md-0.5.0\" / \"en_core_sci_md\" / \"en_core_sci_md-0.5.0\"\n",
    "assert model_path.exists(), model_path"
   ]
  },
  {
   "cell_type": "code",
   "execution_count": 5,
   "id": "12a3aaa5-6a02-487b-bf47-256db2491ed1",
   "metadata": {
    "execution": {
     "iopub.execute_input": "2022-06-08T13:47:41.049857Z",
     "iopub.status.busy": "2022-06-08T13:47:41.049738Z",
     "iopub.status.idle": "2022-06-08T13:47:51.796879Z",
     "shell.execute_reply": "2022-06-08T13:47:51.795791Z",
     "shell.execute_reply.started": "2022-06-08T13:47:41.049842Z"
    },
    "tags": []
   },
   "outputs": [],
   "source": [
    "nlp = spacy.load(model_path)"
   ]
  },
  {
   "cell_type": "code",
   "execution_count": 6,
   "id": "0ab5ed3b-2d64-4441-a2c3-fd22df5c09d9",
   "metadata": {
    "execution": {
     "iopub.execute_input": "2022-06-08T13:47:51.798325Z",
     "iopub.status.busy": "2022-06-08T13:47:51.798172Z",
     "iopub.status.idle": "2022-06-08T13:47:51.837894Z",
     "shell.execute_reply": "2022-06-08T13:47:51.837108Z",
     "shell.execute_reply.started": "2022-06-08T13:47:51.798309Z"
    },
    "tags": []
   },
   "outputs": [
    {
     "name": "stdout",
     "output_type": "stream",
     "text": [
      "0\n",
      "(misadventures,)\n",
      "1\n",
      "(Dieseases, mycobacteria)\n"
     ]
    }
   ],
   "source": [
    "TERMS = [\"Y65 Other misadventures\", \"Dieseases due to other mycobacteria\"]\n",
    "\n",
    "for idx, _ in enumerate(TERMS):\n",
    "    doc = nlp(_)\n",
    "    print(idx)\n",
    "    print(doc.ents)"
   ]
  },
  {
   "cell_type": "code",
   "execution_count": 7,
   "id": "b677bec1-eea2-4061-a753-7e41c3350165",
   "metadata": {
    "execution": {
     "iopub.execute_input": "2022-06-08T13:47:51.838864Z",
     "iopub.status.busy": "2022-06-08T13:47:51.838731Z",
     "iopub.status.idle": "2022-06-08T13:47:51.856102Z",
     "shell.execute_reply": "2022-06-08T13:47:51.855470Z",
     "shell.execute_reply.started": "2022-06-08T13:47:51.838849Z"
    },
    "tags": []
   },
   "outputs": [],
   "source": [
    "foo = doc.ents"
   ]
  },
  {
   "cell_type": "code",
   "execution_count": 8,
   "id": "2c36e4c9-4311-4ef3-9594-7b98009491a4",
   "metadata": {
    "execution": {
     "iopub.execute_input": "2022-06-08T13:47:51.857045Z",
     "iopub.status.busy": "2022-06-08T13:47:51.856917Z",
     "iopub.status.idle": "2022-06-08T13:47:51.879276Z",
     "shell.execute_reply": "2022-06-08T13:47:51.878648Z",
     "shell.execute_reply.started": "2022-06-08T13:47:51.857030Z"
    },
    "tags": []
   },
   "outputs": [
    {
     "data": {
      "text/plain": [
       "'Dieseases'"
      ]
     },
     "execution_count": 8,
     "metadata": {},
     "output_type": "execute_result"
    }
   ],
   "source": [
    "str(list(foo)[0])"
   ]
  },
  {
   "cell_type": "code",
   "execution_count": 9,
   "id": "9fdd9914-2d70-4315-b725-fe2cd7de7e1f",
   "metadata": {
    "execution": {
     "iopub.execute_input": "2022-06-08T13:47:51.880419Z",
     "iopub.status.busy": "2022-06-08T13:47:51.880289Z",
     "iopub.status.idle": "2022-06-08T13:47:51.924590Z",
     "shell.execute_reply": "2022-06-08T13:47:51.923913Z",
     "shell.execute_reply.started": "2022-06-08T13:47:51.880404Z"
    },
    "tags": []
   },
   "outputs": [
    {
     "name": "stdout",
     "output_type": "stream",
     "text": [
      "<class 'pandas.core.frame.DataFrame'>\n",
      "RangeIndex: 596 entries, 0 to 595\n",
      "Data columns (total 4 columns):\n",
      " #   Column      Non-Null Count  Dtype  \n",
      "---  ------      --------------  -----  \n",
      " 0   id          596 non-null    float64\n",
      " 1   label       596 non-null    object \n",
      " 2   clean_text  596 non-null    object \n",
      " 3   efo_cands   596 non-null    object \n",
      "dtypes: float64(1), object(3)\n",
      "memory usage: 18.8+ KB\n",
      "None\n"
     ]
    },
    {
     "data": {
      "text/html": [
       "<div>\n",
       "<style scoped>\n",
       "    .dataframe tbody tr th:only-of-type {\n",
       "        vertical-align: middle;\n",
       "    }\n",
       "\n",
       "    .dataframe tbody tr th {\n",
       "        vertical-align: top;\n",
       "    }\n",
       "\n",
       "    .dataframe thead th {\n",
       "        text-align: right;\n",
       "    }\n",
       "</style>\n",
       "<table border=\"1\" class=\"dataframe\">\n",
       "  <thead>\n",
       "    <tr style=\"text-align: right;\">\n",
       "      <th></th>\n",
       "      <th>id</th>\n",
       "      <th>label</th>\n",
       "      <th>clean_text</th>\n",
       "      <th>efo_cands</th>\n",
       "    </tr>\n",
       "  </thead>\n",
       "  <tbody>\n",
       "    <tr>\n",
       "      <th>0</th>\n",
       "      <td>8.51</td>\n",
       "      <td>Intestinal e.coli</td>\n",
       "      <td>intestinal e coli</td>\n",
       "      <td>[{'id': 'http://purl.obolibrary.org/obo/NCBITa...</td>\n",
       "    </tr>\n",
       "    <tr>\n",
       "      <th>1</th>\n",
       "      <td>31.00</td>\n",
       "      <td>Diseases due to other mycobacteria</td>\n",
       "      <td>diseases due to other mycobacteria</td>\n",
       "      <td>[{'id': 'http://www.orpha.net/ORDO/Orphanet_18...</td>\n",
       "    </tr>\n",
       "    <tr>\n",
       "      <th>2</th>\n",
       "      <td>41.11</td>\n",
       "      <td>Methicillin sensitive Staphylococcus aureus</td>\n",
       "      <td>methicillin sensitive staphylococcus aureus</td>\n",
       "      <td>[{'id': 'http://purl.obolibrary.org/obo/NCBITa...</td>\n",
       "    </tr>\n",
       "    <tr>\n",
       "      <th>3</th>\n",
       "      <td>41.12</td>\n",
       "      <td>Methicillin resistant Staphylococcus aureus</td>\n",
       "      <td>methicillin resistant staphylococcus aureus</td>\n",
       "      <td>[{'id': 'http://purl.obolibrary.org/obo/NCBITa...</td>\n",
       "    </tr>\n",
       "    <tr>\n",
       "      <th>4</th>\n",
       "      <td>41.80</td>\n",
       "      <td>H. pylori</td>\n",
       "      <td>h  pylori</td>\n",
       "      <td>[{'id': 'http://purl.obolibrary.org/obo/NCBITa...</td>\n",
       "    </tr>\n",
       "    <tr>\n",
       "      <th>...</th>\n",
       "      <td>...</td>\n",
       "      <td>...</td>\n",
       "      <td>...</td>\n",
       "      <td>...</td>\n",
       "    </tr>\n",
       "    <tr>\n",
       "      <th>591</th>\n",
       "      <td>704.12</td>\n",
       "      <td>L65 Other nonscarring hair loss</td>\n",
       "      <td>other nonscarring hair loss</td>\n",
       "      <td>[{'id': 'http://purl.obolibrary.org/obo/HP_000...</td>\n",
       "    </tr>\n",
       "    <tr>\n",
       "      <th>592</th>\n",
       "      <td>620.00</td>\n",
       "      <td>N89 Other noninflammatory disorders of vagina</td>\n",
       "      <td>other noninflammatory disorders of vagina</td>\n",
       "      <td>[{'id': 'http://purl.obolibrary.org/obo/MONDO_...</td>\n",
       "    </tr>\n",
       "    <tr>\n",
       "      <th>593</th>\n",
       "      <td>620.00</td>\n",
       "      <td>N90 Other noninflammatory disorders of vulva a...</td>\n",
       "      <td>other noninflammatory disorders of vulva and p...</td>\n",
       "      <td>[{'id': 'http://purl.obolibrary.org/obo/MONDO_...</td>\n",
       "    </tr>\n",
       "    <tr>\n",
       "      <th>594</th>\n",
       "      <td>790.10</td>\n",
       "      <td>R70 Elevated erythrocyte sedimentation rate an...</td>\n",
       "      <td>elevated erythrocyte sedimentation rate and ab...</td>\n",
       "      <td>[{'id': 'http://www.ebi.ac.uk/efo/EFO_0005047'...</td>\n",
       "    </tr>\n",
       "    <tr>\n",
       "      <th>595</th>\n",
       "      <td>942.00</td>\n",
       "      <td>Y65 Other misadventures during surgical and me...</td>\n",
       "      <td>other misadventures during surgical and medica...</td>\n",
       "      <td>[{'id': 'http://www.ebi.ac.uk/efo/EFO_0002571'...</td>\n",
       "    </tr>\n",
       "  </tbody>\n",
       "</table>\n",
       "<p>596 rows × 4 columns</p>\n",
       "</div>"
      ],
      "text/plain": [
       "         id                                              label  \\\n",
       "0      8.51                                  Intestinal e.coli   \n",
       "1     31.00                 Diseases due to other mycobacteria   \n",
       "2     41.11        Methicillin sensitive Staphylococcus aureus   \n",
       "3     41.12        Methicillin resistant Staphylococcus aureus   \n",
       "4     41.80                                          H. pylori   \n",
       "..      ...                                                ...   \n",
       "591  704.12                    L65 Other nonscarring hair loss   \n",
       "592  620.00      N89 Other noninflammatory disorders of vagina   \n",
       "593  620.00  N90 Other noninflammatory disorders of vulva a...   \n",
       "594  790.10  R70 Elevated erythrocyte sedimentation rate an...   \n",
       "595  942.00  Y65 Other misadventures during surgical and me...   \n",
       "\n",
       "                                            clean_text  \\\n",
       "0                                    intestinal e coli   \n",
       "1                   diseases due to other mycobacteria   \n",
       "2          methicillin sensitive staphylococcus aureus   \n",
       "3          methicillin resistant staphylococcus aureus   \n",
       "4                                            h  pylori   \n",
       "..                                                 ...   \n",
       "591                        other nonscarring hair loss   \n",
       "592          other noninflammatory disorders of vagina   \n",
       "593  other noninflammatory disorders of vulva and p...   \n",
       "594  elevated erythrocyte sedimentation rate and ab...   \n",
       "595  other misadventures during surgical and medica...   \n",
       "\n",
       "                                             efo_cands  \n",
       "0    [{'id': 'http://purl.obolibrary.org/obo/NCBITa...  \n",
       "1    [{'id': 'http://www.orpha.net/ORDO/Orphanet_18...  \n",
       "2    [{'id': 'http://purl.obolibrary.org/obo/NCBITa...  \n",
       "3    [{'id': 'http://purl.obolibrary.org/obo/NCBITa...  \n",
       "4    [{'id': 'http://purl.obolibrary.org/obo/NCBITa...  \n",
       "..                                                 ...  \n",
       "591  [{'id': 'http://purl.obolibrary.org/obo/HP_000...  \n",
       "592  [{'id': 'http://purl.obolibrary.org/obo/MONDO_...  \n",
       "593  [{'id': 'http://purl.obolibrary.org/obo/MONDO_...  \n",
       "594  [{'id': 'http://www.ebi.ac.uk/efo/EFO_0005047'...  \n",
       "595  [{'id': 'http://www.ebi.ac.uk/efo/EFO_0002571'...  \n",
       "\n",
       "[596 rows x 4 columns]"
      ]
     },
     "execution_count": 9,
     "metadata": {},
     "output_type": "execute_result"
    }
   ],
   "source": [
    "mapping_df_path = Path(\".\") / \"mapping_results.json\"\n",
    "assert mapping_df_path.exists(), mapping_df_path\n",
    "\n",
    "with mapping_df_path.open() as f:\n",
    "    mapping_df = pd.json_normalize(json.load(f))\n",
    "\n",
    "print(mapping_df.info())\n",
    "mapping_df"
   ]
  },
  {
   "cell_type": "code",
   "execution_count": 10,
   "id": "ff695159-2ed5-4fab-a488-f1aa1cf03730",
   "metadata": {
    "execution": {
     "iopub.execute_input": "2022-06-08T13:47:51.925546Z",
     "iopub.status.busy": "2022-06-08T13:47:51.925388Z",
     "iopub.status.idle": "2022-06-08T13:47:55.514848Z",
     "shell.execute_reply": "2022-06-08T13:47:55.514104Z",
     "shell.execute_reply.started": "2022-06-08T13:47:51.925526Z"
    },
    "tags": []
   },
   "outputs": [
    {
     "name": "stderr",
     "output_type": "stream",
     "text": [
      "2022-06-08 14:47:51.943 | INFO     | __main__:get_ner:7 - #0/596\n",
      "2022-06-08 14:47:53.135 | INFO     | __main__:get_ner:7 - #200/596\n",
      "2022-06-08 14:47:54.362 | INFO     | __main__:get_ner:7 - #400/596\n"
     ]
    },
    {
     "name": "stdout",
     "output_type": "stream",
     "text": [
      "<class 'pandas.core.frame.DataFrame'>\n",
      "RangeIndex: 596 entries, 0 to 595\n",
      "Data columns (total 5 columns):\n",
      " #   Column      Non-Null Count  Dtype  \n",
      "---  ------      --------------  -----  \n",
      " 0   id          596 non-null    float64\n",
      " 1   label       596 non-null    object \n",
      " 2   clean_text  596 non-null    object \n",
      " 3   efo_cands   596 non-null    object \n",
      " 4   ents        596 non-null    object \n",
      "dtypes: float64(1), object(4)\n",
      "memory usage: 23.4+ KB\n",
      "None\n",
      "      id                                        label  \\\n",
      "0   8.51                            Intestinal e.coli   \n",
      "1  31.00           Diseases due to other mycobacteria   \n",
      "2  41.11  Methicillin sensitive Staphylococcus aureus   \n",
      "3  41.12  Methicillin resistant Staphylococcus aureus   \n",
      "4  41.80                                    H. pylori   \n",
      "\n",
      "                                    clean_text  \\\n",
      "0                            intestinal e coli   \n",
      "1           diseases due to other mycobacteria   \n",
      "2  methicillin sensitive staphylococcus aureus   \n",
      "3  methicillin resistant staphylococcus aureus   \n",
      "4                                    h  pylori   \n",
      "\n",
      "                                           efo_cands  \\\n",
      "0  [{'id': 'http://purl.obolibrary.org/obo/NCBITa...   \n",
      "1  [{'id': 'http://www.orpha.net/ORDO/Orphanet_18...   \n",
      "2  [{'id': 'http://purl.obolibrary.org/obo/NCBITa...   \n",
      "3  [{'id': 'http://purl.obolibrary.org/obo/NCBITa...   \n",
      "4  [{'id': 'http://purl.obolibrary.org/obo/NCBITa...   \n",
      "\n",
      "                                              ents  \n",
      "0                              [Intestinal e.coli]  \n",
      "1                         [Diseases, mycobacteria]  \n",
      "2  [Methicillin, sensitive, Staphylococcus aureus]  \n",
      "3  [Methicillin, resistant, Staphylococcus aureus]  \n",
      "4                                      [H. pylori]  \n"
     ]
    }
   ],
   "source": [
    "def get_ner(s: pd.Series) -> List:\n",
    "    echo_step = 200\n",
    "    total = len(s)\n",
    "    res = []\n",
    "    for idx, _ in enumerate(s.tolist()):\n",
    "        if idx % echo_step == 0:\n",
    "            logger.info(f\"#{idx}/{total}\")\n",
    "        doc = nlp(_)\n",
    "        item = [str(_) for _ in doc.ents]\n",
    "        res.append(item)\n",
    "    return res\n",
    "    \n",
    "\n",
    "ner_df = mapping_df.transform_column(\"label\", lambda s: get_ner(s), \"ents\", elementwise=False)\n",
    "\n",
    "print(ner_df.info())\n",
    "print(ner_df.head())"
   ]
  },
  {
   "cell_type": "code",
   "execution_count": 11,
   "id": "d0f63392-37a2-44f7-a480-9c3b501974a2",
   "metadata": {
    "execution": {
     "iopub.execute_input": "2022-06-08T13:47:55.515842Z",
     "iopub.status.busy": "2022-06-08T13:47:55.515700Z",
     "iopub.status.idle": "2022-06-08T13:49:47.286911Z",
     "shell.execute_reply": "2022-06-08T13:49:47.286091Z",
     "shell.execute_reply.started": "2022-06-08T13:47:55.515827Z"
    },
    "tags": []
   },
   "outputs": [
    {
     "name": "stderr",
     "output_type": "stream",
     "text": [
      "2022-06-08 14:47:55.533 | INFO     | __main__:search_epigraphdb_efo_wrapper:7 - #0/596\n",
      "2022-06-08 14:48:30.776 | INFO     | __main__:search_epigraphdb_efo_wrapper:7 - #200/596\n",
      "2022-06-08 14:49:07.335 | INFO     | __main__:search_epigraphdb_efo_wrapper:7 - #400/596\n"
     ]
    }
   ],
   "source": [
    "def search_epigraphdb_efo_wrapper(s: pd.Series) -> List[List[Dict[str, Any]]]:\n",
    "    echo_step = 200\n",
    "    total = len(s)\n",
    "    res = []\n",
    "    for idx, _ in enumerate(s.tolist()):\n",
    "        if idx % echo_step == 0:\n",
    "            logger.info(f\"#{idx}/{total}\")\n",
    "        item = [\n",
    "            {\n",
    "                \"ent\": __,\n",
    "                \"efo_cands\": fn.search_epigraphdb_efo(text=__.lower(), limit=3),\n",
    "            }\n",
    "            for __ in _ if __ is not None\n",
    "        ]\n",
    "        res.append(item)\n",
    "    return res\n",
    "\n",
    "ner_df = ner_df \\\n",
    "    .transform_column(\n",
    "        column_name=\"ents\",\n",
    "        dest_column_name=\"ent_efo_cands\",\n",
    "        function=search_epigraphdb_efo_wrapper, elementwise=False\n",
    "    )\n",
    "\n",
    "cache_path = Path(\".\") / \"ner_results.json\"\n",
    "with cache_path.open(\"w\") as f:\n",
    "    json.dump(ner_df.to_dict(orient=\"records\"), f)"
   ]
  },
  {
   "cell_type": "code",
   "execution_count": 12,
   "id": "fb23d7f8-160e-44f3-9753-418d8b4d0901",
   "metadata": {
    "execution": {
     "iopub.execute_input": "2022-06-08T13:49:47.288730Z",
     "iopub.status.busy": "2022-06-08T13:49:47.288093Z",
     "iopub.status.idle": "2022-06-08T13:49:47.373952Z",
     "shell.execute_reply": "2022-06-08T13:49:47.373275Z",
     "shell.execute_reply.started": "2022-06-08T13:49:47.288709Z"
    },
    "tags": []
   },
   "outputs": [],
   "source": [
    "def annotate_epigraphdb_url(item):\n",
    "    template = \"https://epigraphdb.org/ontology/efo?id={id}\"\n",
    "    new_item = item.copy()\n",
    "    new_item[\"epigraphdb_url\"] = template.format(id=new_item[\"id\"])\n",
    "    return new_item\n",
    "\n",
    "annotated_df = ner_df \\\n",
    "    .transform_column(\n",
    "        column_name=\"efo_cands\",\n",
    "        dest_column_name=\"efo_cands\",\n",
    "        function=lambda e: [annotate_epigraphdb_url(_) for _ in e],\n",
    "    ) \\\n",
    "    .transform_column(\n",
    "        column_name=\"ent_efo_cands\",\n",
    "        dest_column_name=\"ent_efo_cands\",\n",
    "        function=lambda e: [{\"ent\": _[\"ent\"], \"efo_cands\": [annotate_epigraphdb_url(__) for __ in _[\"efo_cands\"]]} for _ in e]\n",
    "    )\n",
    "\n",
    "\n",
    "cache_path = Path(\".\") / \"annotated_results.json\"\n",
    "with cache_path.open(\"w\") as f:\n",
    "    json.dump(annotated_df.to_dict(orient=\"records\"), f)"
   ]
  },
  {
   "cell_type": "code",
   "execution_count": 13,
   "id": "63e78049-6248-4dba-9a5c-0ec00880f78e",
   "metadata": {
    "execution": {
     "iopub.execute_input": "2022-06-08T13:49:47.375846Z",
     "iopub.status.busy": "2022-06-08T13:49:47.375590Z",
     "iopub.status.idle": "2022-06-08T13:49:47.439680Z",
     "shell.execute_reply": "2022-06-08T13:49:47.439091Z",
     "shell.execute_reply.started": "2022-06-08T13:49:47.375827Z"
    },
    "tags": []
   },
   "outputs": [
    {
     "data": {
      "text/html": [
       "<div>\n",
       "<style scoped>\n",
       "    .dataframe tbody tr th:only-of-type {\n",
       "        vertical-align: middle;\n",
       "    }\n",
       "\n",
       "    .dataframe tbody tr th {\n",
       "        vertical-align: top;\n",
       "    }\n",
       "\n",
       "    .dataframe thead th {\n",
       "        text-align: right;\n",
       "    }\n",
       "</style>\n",
       "<table border=\"1\" class=\"dataframe\">\n",
       "  <thead>\n",
       "    <tr style=\"text-align: right;\">\n",
       "      <th></th>\n",
       "      <th>id</th>\n",
       "      <th>label</th>\n",
       "      <th>clean_text</th>\n",
       "      <th>efo_cands</th>\n",
       "      <th>ents</th>\n",
       "      <th>ent_efo_cands</th>\n",
       "      <th>highest_score</th>\n",
       "      <th>score_bin</th>\n",
       "    </tr>\n",
       "  </thead>\n",
       "  <tbody>\n",
       "    <tr>\n",
       "      <th>0</th>\n",
       "      <td>8.51</td>\n",
       "      <td>Intestinal e.coli</td>\n",
       "      <td>intestinal e coli</td>\n",
       "      <td>[{'id': 'http://purl.obolibrary.org/obo/NCBITa...</td>\n",
       "      <td>[Intestinal e.coli]</td>\n",
       "      <td>[{'ent': 'Intestinal e.coli', 'efo_cands': [{'...</td>\n",
       "      <td>0.734050</td>\n",
       "      <td>(0.6, 0.8]</td>\n",
       "    </tr>\n",
       "    <tr>\n",
       "      <th>1</th>\n",
       "      <td>31.00</td>\n",
       "      <td>Diseases due to other mycobacteria</td>\n",
       "      <td>diseases due to other mycobacteria</td>\n",
       "      <td>[{'id': 'http://www.orpha.net/ORDO/Orphanet_18...</td>\n",
       "      <td>[Diseases, mycobacteria]</td>\n",
       "      <td>[{'ent': 'Diseases', 'efo_cands': [{'id': 'htt...</td>\n",
       "      <td>0.736293</td>\n",
       "      <td>(0.6, 0.8]</td>\n",
       "    </tr>\n",
       "    <tr>\n",
       "      <th>2</th>\n",
       "      <td>41.11</td>\n",
       "      <td>Methicillin sensitive Staphylococcus aureus</td>\n",
       "      <td>methicillin sensitive staphylococcus aureus</td>\n",
       "      <td>[{'id': 'http://purl.obolibrary.org/obo/NCBITa...</td>\n",
       "      <td>[Methicillin, sensitive, Staphylococcus aureus]</td>\n",
       "      <td>[{'ent': 'Methicillin', 'efo_cands': [{'id': '...</td>\n",
       "      <td>0.938938</td>\n",
       "      <td>(0.9, 1.0]</td>\n",
       "    </tr>\n",
       "    <tr>\n",
       "      <th>3</th>\n",
       "      <td>41.12</td>\n",
       "      <td>Methicillin resistant Staphylococcus aureus</td>\n",
       "      <td>methicillin resistant staphylococcus aureus</td>\n",
       "      <td>[{'id': 'http://purl.obolibrary.org/obo/NCBITa...</td>\n",
       "      <td>[Methicillin, resistant, Staphylococcus aureus]</td>\n",
       "      <td>[{'ent': 'Methicillin', 'efo_cands': [{'id': '...</td>\n",
       "      <td>0.940465</td>\n",
       "      <td>(0.9, 1.0]</td>\n",
       "    </tr>\n",
       "    <tr>\n",
       "      <th>4</th>\n",
       "      <td>41.80</td>\n",
       "      <td>H. pylori</td>\n",
       "      <td>h  pylori</td>\n",
       "      <td>[{'id': 'http://purl.obolibrary.org/obo/NCBITa...</td>\n",
       "      <td>[H. pylori]</td>\n",
       "      <td>[{'ent': 'H. pylori', 'efo_cands': [{'id': 'ht...</td>\n",
       "      <td>0.752023</td>\n",
       "      <td>(0.6, 0.8]</td>\n",
       "    </tr>\n",
       "    <tr>\n",
       "      <th>...</th>\n",
       "      <td>...</td>\n",
       "      <td>...</td>\n",
       "      <td>...</td>\n",
       "      <td>...</td>\n",
       "      <td>...</td>\n",
       "      <td>...</td>\n",
       "      <td>...</td>\n",
       "      <td>...</td>\n",
       "    </tr>\n",
       "    <tr>\n",
       "      <th>591</th>\n",
       "      <td>704.12</td>\n",
       "      <td>L65 Other nonscarring hair loss</td>\n",
       "      <td>other nonscarring hair loss</td>\n",
       "      <td>[{'id': 'http://purl.obolibrary.org/obo/HP_000...</td>\n",
       "      <td>[nonscarring hair]</td>\n",
       "      <td>[{'ent': 'nonscarring hair', 'efo_cands': [{'i...</td>\n",
       "      <td>0.693470</td>\n",
       "      <td>(0.6, 0.8]</td>\n",
       "    </tr>\n",
       "    <tr>\n",
       "      <th>592</th>\n",
       "      <td>620.00</td>\n",
       "      <td>N89 Other noninflammatory disorders of vagina</td>\n",
       "      <td>other noninflammatory disorders of vagina</td>\n",
       "      <td>[{'id': 'http://purl.obolibrary.org/obo/MONDO_...</td>\n",
       "      <td>[N89, noninflammatory disorders, vagina]</td>\n",
       "      <td>[{'ent': 'N89', 'efo_cands': []}, {'ent': 'non...</td>\n",
       "      <td>0.696924</td>\n",
       "      <td>(0.6, 0.8]</td>\n",
       "    </tr>\n",
       "    <tr>\n",
       "      <th>593</th>\n",
       "      <td>620.00</td>\n",
       "      <td>N90 Other noninflammatory disorders of vulva a...</td>\n",
       "      <td>other noninflammatory disorders of vulva and p...</td>\n",
       "      <td>[{'id': 'http://purl.obolibrary.org/obo/MONDO_...</td>\n",
       "      <td>[noninflammatory disorders, vulva, perineum]</td>\n",
       "      <td>[{'ent': 'noninflammatory disorders', 'efo_can...</td>\n",
       "      <td>0.683544</td>\n",
       "      <td>(0.6, 0.8]</td>\n",
       "    </tr>\n",
       "    <tr>\n",
       "      <th>594</th>\n",
       "      <td>790.10</td>\n",
       "      <td>R70 Elevated erythrocyte sedimentation rate an...</td>\n",
       "      <td>elevated erythrocyte sedimentation rate and ab...</td>\n",
       "      <td>[{'id': 'http://www.ebi.ac.uk/efo/EFO_0005047'...</td>\n",
       "      <td>[R70, Elevated, erythrocyte, rate, abnormality...</td>\n",
       "      <td>[{'ent': 'R70', 'efo_cands': [{'id': 'http://w...</td>\n",
       "      <td>0.766044</td>\n",
       "      <td>(0.6, 0.8]</td>\n",
       "    </tr>\n",
       "    <tr>\n",
       "      <th>595</th>\n",
       "      <td>942.00</td>\n",
       "      <td>Y65 Other misadventures during surgical and me...</td>\n",
       "      <td>other misadventures during surgical and medica...</td>\n",
       "      <td>[{'id': 'http://www.ebi.ac.uk/efo/EFO_0002571'...</td>\n",
       "      <td>[misadventures, surgical, medical care]</td>\n",
       "      <td>[{'ent': 'misadventures', 'efo_cands': [{'id':...</td>\n",
       "      <td>0.780891</td>\n",
       "      <td>(0.6, 0.8]</td>\n",
       "    </tr>\n",
       "  </tbody>\n",
       "</table>\n",
       "<p>596 rows × 8 columns</p>\n",
       "</div>"
      ],
      "text/plain": [
       "         id                                              label  \\\n",
       "0      8.51                                  Intestinal e.coli   \n",
       "1     31.00                 Diseases due to other mycobacteria   \n",
       "2     41.11        Methicillin sensitive Staphylococcus aureus   \n",
       "3     41.12        Methicillin resistant Staphylococcus aureus   \n",
       "4     41.80                                          H. pylori   \n",
       "..      ...                                                ...   \n",
       "591  704.12                    L65 Other nonscarring hair loss   \n",
       "592  620.00      N89 Other noninflammatory disorders of vagina   \n",
       "593  620.00  N90 Other noninflammatory disorders of vulva a...   \n",
       "594  790.10  R70 Elevated erythrocyte sedimentation rate an...   \n",
       "595  942.00  Y65 Other misadventures during surgical and me...   \n",
       "\n",
       "                                            clean_text  \\\n",
       "0                                    intestinal e coli   \n",
       "1                   diseases due to other mycobacteria   \n",
       "2          methicillin sensitive staphylococcus aureus   \n",
       "3          methicillin resistant staphylococcus aureus   \n",
       "4                                            h  pylori   \n",
       "..                                                 ...   \n",
       "591                        other nonscarring hair loss   \n",
       "592          other noninflammatory disorders of vagina   \n",
       "593  other noninflammatory disorders of vulva and p...   \n",
       "594  elevated erythrocyte sedimentation rate and ab...   \n",
       "595  other misadventures during surgical and medica...   \n",
       "\n",
       "                                             efo_cands  \\\n",
       "0    [{'id': 'http://purl.obolibrary.org/obo/NCBITa...   \n",
       "1    [{'id': 'http://www.orpha.net/ORDO/Orphanet_18...   \n",
       "2    [{'id': 'http://purl.obolibrary.org/obo/NCBITa...   \n",
       "3    [{'id': 'http://purl.obolibrary.org/obo/NCBITa...   \n",
       "4    [{'id': 'http://purl.obolibrary.org/obo/NCBITa...   \n",
       "..                                                 ...   \n",
       "591  [{'id': 'http://purl.obolibrary.org/obo/HP_000...   \n",
       "592  [{'id': 'http://purl.obolibrary.org/obo/MONDO_...   \n",
       "593  [{'id': 'http://purl.obolibrary.org/obo/MONDO_...   \n",
       "594  [{'id': 'http://www.ebi.ac.uk/efo/EFO_0005047'...   \n",
       "595  [{'id': 'http://www.ebi.ac.uk/efo/EFO_0002571'...   \n",
       "\n",
       "                                                  ents  \\\n",
       "0                                  [Intestinal e.coli]   \n",
       "1                             [Diseases, mycobacteria]   \n",
       "2      [Methicillin, sensitive, Staphylococcus aureus]   \n",
       "3      [Methicillin, resistant, Staphylococcus aureus]   \n",
       "4                                          [H. pylori]   \n",
       "..                                                 ...   \n",
       "591                                 [nonscarring hair]   \n",
       "592           [N89, noninflammatory disorders, vagina]   \n",
       "593       [noninflammatory disorders, vulva, perineum]   \n",
       "594  [R70, Elevated, erythrocyte, rate, abnormality...   \n",
       "595            [misadventures, surgical, medical care]   \n",
       "\n",
       "                                         ent_efo_cands  highest_score  \\\n",
       "0    [{'ent': 'Intestinal e.coli', 'efo_cands': [{'...       0.734050   \n",
       "1    [{'ent': 'Diseases', 'efo_cands': [{'id': 'htt...       0.736293   \n",
       "2    [{'ent': 'Methicillin', 'efo_cands': [{'id': '...       0.938938   \n",
       "3    [{'ent': 'Methicillin', 'efo_cands': [{'id': '...       0.940465   \n",
       "4    [{'ent': 'H. pylori', 'efo_cands': [{'id': 'ht...       0.752023   \n",
       "..                                                 ...            ...   \n",
       "591  [{'ent': 'nonscarring hair', 'efo_cands': [{'i...       0.693470   \n",
       "592  [{'ent': 'N89', 'efo_cands': []}, {'ent': 'non...       0.696924   \n",
       "593  [{'ent': 'noninflammatory disorders', 'efo_can...       0.683544   \n",
       "594  [{'ent': 'R70', 'efo_cands': [{'id': 'http://w...       0.766044   \n",
       "595  [{'ent': 'misadventures', 'efo_cands': [{'id':...       0.780891   \n",
       "\n",
       "      score_bin  \n",
       "0    (0.6, 0.8]  \n",
       "1    (0.6, 0.8]  \n",
       "2    (0.9, 1.0]  \n",
       "3    (0.9, 1.0]  \n",
       "4    (0.6, 0.8]  \n",
       "..          ...  \n",
       "591  (0.6, 0.8]  \n",
       "592  (0.6, 0.8]  \n",
       "593  (0.6, 0.8]  \n",
       "594  (0.6, 0.8]  \n",
       "595  (0.6, 0.8]  \n",
       "\n",
       "[596 rows x 8 columns]"
      ]
     },
     "execution_count": 13,
     "metadata": {},
     "output_type": "execute_result"
    }
   ],
   "source": [
    "annotated_df_1 = annotated_df \\\n",
    "    .transform_column(\n",
    "        column_name=\"efo_cands\",\n",
    "        dest_column_name=\"highest_score\",\n",
    "        function=lambda item: item[0][\"score\"] if len(item) > 0 else None\n",
    "    ) \\\n",
    "   .transform_column(\n",
    "        column_name=\"highest_score\",\n",
    "        dest_column_name=\"score_bin\",\n",
    "        elementwise=False,\n",
    "        function=lambda s: pd.cut(s, bins=[0, 0.6, 0.8, 0.9, 1.0])\n",
    "    ) \\\n",
    "   .transform_column(\n",
    "        column_name=\"score_bin\",\n",
    "        elementwise=True,\n",
    "        function=lambda e: None if e is None else str(e)\n",
    "    )\n",
    "annotated_df_1"
   ]
  },
  {
   "cell_type": "code",
   "execution_count": 14,
   "id": "f2393cdc-7836-4647-b94f-450c624b7059",
   "metadata": {
    "execution": {
     "iopub.execute_input": "2022-06-08T13:49:47.440776Z",
     "iopub.status.busy": "2022-06-08T13:49:47.440502Z",
     "iopub.status.idle": "2022-06-08T13:49:47.523327Z",
     "shell.execute_reply": "2022-06-08T13:49:47.522825Z",
     "shell.execute_reply.started": "2022-06-08T13:49:47.440756Z"
    },
    "tags": []
   },
   "outputs": [],
   "source": [
    "cache_path = Path(\".\") / \"res_full.json\"\n",
    "with cache_path.open(\"w\") as f:\n",
    "    json.dump(annotated_df_1.to_dict(orient=\"records\"), f)"
   ]
  },
  {
   "cell_type": "code",
   "execution_count": 15,
   "id": "5e03dbe1-345e-45be-8d13-0196af1fd95f",
   "metadata": {
    "execution": {
     "iopub.execute_input": "2022-06-08T13:49:47.524257Z",
     "iopub.status.busy": "2022-06-08T13:49:47.524100Z",
     "iopub.status.idle": "2022-06-08T13:49:47.546614Z",
     "shell.execute_reply": "2022-06-08T13:49:47.546047Z",
     "shell.execute_reply.started": "2022-06-08T13:49:47.524237Z"
    },
    "tags": []
   },
   "outputs": [
    {
     "data": {
      "text/plain": [
       "(0.6, 0.8]    258\n",
       "(0.8, 0.9]    182\n",
       "(0.9, 1.0]    138\n",
       "(0.0, 0.6]     18\n",
       "Name: score_bin, dtype: int64"
      ]
     },
     "execution_count": 15,
     "metadata": {},
     "output_type": "execute_result"
    }
   ],
   "source": [
    "annotated_df_1[\"score_bin\"].value_counts()"
   ]
  },
  {
   "cell_type": "code",
   "execution_count": 16,
   "id": "fd6f7477-7820-4090-b1f0-5cd76bb0816e",
   "metadata": {
    "execution": {
     "iopub.execute_input": "2022-06-08T13:49:47.547564Z",
     "iopub.status.busy": "2022-06-08T13:49:47.547435Z",
     "iopub.status.idle": "2022-06-08T13:49:47.629748Z",
     "shell.execute_reply": "2022-06-08T13:49:47.629179Z",
     "shell.execute_reply.started": "2022-06-08T13:49:47.547549Z"
    },
    "tags": []
   },
   "outputs": [
    {
     "name": "stdout",
     "output_type": "stream",
     "text": [
      "320\n",
      "258\n",
      "18\n"
     ]
    }
   ],
   "source": [
    "cache_path = Path(\".\") / \"res_high.json\"\n",
    "with cache_path.open(\"w\") as f:\n",
    "    df = annotated_df_1.filter_column_isin(column_name=\"score_bin\", iterable=[\"(0.9, 1.0]\", \"(0.8, 0.9]\"])\n",
    "    print(len(df))\n",
    "    json.dump(df.to_dict(orient=\"records\"), f)\n",
    "    \n",
    "cache_path = Path(\".\") / \"res_medium.json\"\n",
    "with cache_path.open(\"w\") as f:\n",
    "    df = annotated_df_1.filter_column_isin(column_name=\"score_bin\", iterable=[\"(0.6, 0.8]\"])\n",
    "    print(len(df))\n",
    "    json.dump(df.to_dict(orient=\"records\"), f)\n",
    "    \n",
    "cache_path = Path(\".\") / \"res_low.json\"\n",
    "with cache_path.open(\"w\") as f:\n",
    "    df = annotated_df_1.filter_column_isin(column_name=\"score_bin\", iterable=[\"(0.0, 0.6]\"])\n",
    "    print(len(df))\n",
    "    json.dump(df.to_dict(orient=\"records\"), f)"
   ]
  }
 ],
 "metadata": {
  "kernelspec": {
   "display_name": "Python 3 (ipykernel)",
   "language": "python",
   "name": "python3"
  },
  "language_info": {
   "codemirror_mode": {
    "name": "ipython",
    "version": 3
   },
   "file_extension": ".py",
   "mimetype": "text/x-python",
   "name": "python",
   "nbconvert_exporter": "python",
   "pygments_lexer": "ipython3",
   "version": "3.8.13"
  }
 },
 "nbformat": 4,
 "nbformat_minor": 5
}
