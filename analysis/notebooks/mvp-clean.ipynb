{
 "cells": [
  {
   "cell_type": "code",
   "execution_count": 1,
   "id": "88363475-b60b-4b97-aa89-9f7caefe4553",
   "metadata": {
    "execution": {
     "iopub.execute_input": "2022-07-04T10:02:03.035084Z",
     "iopub.status.busy": "2022-07-04T10:02:03.034357Z",
     "iopub.status.idle": "2022-07-04T10:02:03.062932Z",
     "shell.execute_reply": "2022-07-04T10:02:03.061362Z",
     "shell.execute_reply.started": "2022-07-04T10:02:03.034939Z"
    },
    "tags": []
   },
   "outputs": [],
   "source": [
    "%load_ext autoreload\n",
    "%autoreload 2"
   ]
  },
  {
   "cell_type": "code",
   "execution_count": 86,
   "id": "e858a9f3-a739-4cd6-8a50-20e33ad9200a",
   "metadata": {
    "execution": {
     "iopub.execute_input": "2022-07-04T16:14:23.904414Z",
     "iopub.status.busy": "2022-07-04T16:14:23.903631Z",
     "iopub.status.idle": "2022-07-04T16:14:23.928692Z",
     "shell.execute_reply": "2022-07-04T16:14:23.927989Z",
     "shell.execute_reply.started": "2022-07-04T16:14:23.904356Z"
    },
    "tags": []
   },
   "outputs": [],
   "source": [
    "from typing import List\n",
    "import re\n",
    "import json\n",
    "\n",
    "import pandas as pd\n",
    "import janitor\n",
    "import numpy as np\n",
    "from string import punctuation\n",
    "\n",
    "from funcs import utils, query"
   ]
  },
  {
   "cell_type": "markdown",
   "id": "91ac1afe-682c-4d3d-af86-73a2e6eb96f3",
   "metadata": {},
   "source": [
    "# init"
   ]
  },
  {
   "cell_type": "code",
   "execution_count": 6,
   "id": "e4f8dd71-e50f-4c49-8177-faef6ddbdcc2",
   "metadata": {
    "execution": {
     "iopub.execute_input": "2022-07-04T10:05:20.188302Z",
     "iopub.status.busy": "2022-07-04T10:05:20.187665Z",
     "iopub.status.idle": "2022-07-04T10:05:20.209881Z",
     "shell.execute_reply": "2022-07-04T10:05:20.208745Z",
     "shell.execute_reply.started": "2022-07-04T10:05:20.188247Z"
    },
    "tags": []
   },
   "outputs": [],
   "source": [
    "proj_root = utils.find_project_root(\"docker-compose.yml\")\n",
    "assert proj_root.exists(), proj_root\n",
    "\n",
    "data_path = proj_root / \"data\" / \"mvp\" / \"all_mapped_phenotypes_03JUN2022.csv\"\n",
    "assert data_path.exists(), data_path"
   ]
  },
  {
   "cell_type": "code",
   "execution_count": 8,
   "id": "8c0819dd-c716-4242-9f19-1424ef510a58",
   "metadata": {
    "execution": {
     "iopub.execute_input": "2022-07-04T10:06:18.080607Z",
     "iopub.status.busy": "2022-07-04T10:06:18.079951Z",
     "iopub.status.idle": "2022-07-04T10:06:18.126812Z",
     "shell.execute_reply": "2022-07-04T10:06:18.125977Z",
     "shell.execute_reply.started": "2022-07-04T10:06:18.080538Z"
    },
    "tags": []
   },
   "outputs": [
    {
     "name": "stdout",
     "output_type": "stream",
     "text": [
      "<class 'pandas.core.frame.DataFrame'>\n",
      "RangeIndex: 2081 entries, 0 to 2080\n",
      "Data columns (total 10 columns):\n",
      " #   Column         Non-Null Count  Dtype  \n",
      "---  ------         --------------  -----  \n",
      " 0   Phenotype      2081 non-null   object \n",
      " 1   description    2079 non-null   object \n",
      " 2   dataset        2081 non-null   object \n",
      " 3   MVP_Cases      2060 non-null   object \n",
      " 4   MVP_Controls   1977 non-null   float64\n",
      " 5   trait_type     2081 non-null   object \n",
      " 6   UKBB_filename  1506 non-null   object \n",
      " 7   UKBB_Cases     1505 non-null   float64\n",
      " 8   UKBB_Controls  1439 non-null   float64\n",
      " 9   unmapped_plan  648 non-null    object \n",
      "dtypes: float64(3), object(7)\n",
      "memory usage: 162.7+ KB\n"
     ]
    },
    {
     "data": {
      "text/html": [
       "<div>\n",
       "<style scoped>\n",
       "    .dataframe tbody tr th:only-of-type {\n",
       "        vertical-align: middle;\n",
       "    }\n",
       "\n",
       "    .dataframe tbody tr th {\n",
       "        vertical-align: top;\n",
       "    }\n",
       "\n",
       "    .dataframe thead th {\n",
       "        text-align: right;\n",
       "    }\n",
       "</style>\n",
       "<table border=\"1\" class=\"dataframe\">\n",
       "  <thead>\n",
       "    <tr style=\"text-align: right;\">\n",
       "      <th></th>\n",
       "      <th>Phenotype</th>\n",
       "      <th>description</th>\n",
       "      <th>dataset</th>\n",
       "      <th>MVP_Cases</th>\n",
       "      <th>MVP_Controls</th>\n",
       "      <th>trait_type</th>\n",
       "      <th>UKBB_filename</th>\n",
       "      <th>UKBB_Cases</th>\n",
       "      <th>UKBB_Controls</th>\n",
       "      <th>unmapped_plan</th>\n",
       "    </tr>\n",
       "  </thead>\n",
       "  <tbody>\n",
       "    <tr>\n",
       "      <th>0</th>\n",
       "      <td>8</td>\n",
       "      <td>Intestinal infection</td>\n",
       "      <td>UKBB+MVP</td>\n",
       "      <td>9351</td>\n",
       "      <td>454638.0</td>\n",
       "      <td>phecode</td>\n",
       "      <td>phecode-008-both_sexes.tsv.bgz</td>\n",
       "      <td>13044.0</td>\n",
       "      <td>407487.0</td>\n",
       "      <td>NaN</td>\n",
       "    </tr>\n",
       "    <tr>\n",
       "      <th>1</th>\n",
       "      <td>8.5</td>\n",
       "      <td>Bacterial enteritis</td>\n",
       "      <td>UKBB+MVP</td>\n",
       "      <td>5609</td>\n",
       "      <td>458380.0</td>\n",
       "      <td>phecode</td>\n",
       "      <td>phecode-008.5-both_sexes.tsv.bgz</td>\n",
       "      <td>3275.0</td>\n",
       "      <td>407487.0</td>\n",
       "      <td>NaN</td>\n",
       "    </tr>\n",
       "    <tr>\n",
       "      <th>2</th>\n",
       "      <td>8.51</td>\n",
       "      <td>Intestinal e.coli</td>\n",
       "      <td>MVP</td>\n",
       "      <td>57</td>\n",
       "      <td>463932.0</td>\n",
       "      <td>Phecode</td>\n",
       "      <td>NaN</td>\n",
       "      <td>NaN</td>\n",
       "      <td>NaN</td>\n",
       "      <td>use MVP only</td>\n",
       "    </tr>\n",
       "    <tr>\n",
       "      <th>3</th>\n",
       "      <td>8.52</td>\n",
       "      <td>Intestinal infection due to C. difficile</td>\n",
       "      <td>UKBB+MVP</td>\n",
       "      <td>4873</td>\n",
       "      <td>459116.0</td>\n",
       "      <td>phecode</td>\n",
       "      <td>phecode-008.52-both_sexes.tsv.bgz</td>\n",
       "      <td>858.0</td>\n",
       "      <td>407487.0</td>\n",
       "      <td>NaN</td>\n",
       "    </tr>\n",
       "    <tr>\n",
       "      <th>4</th>\n",
       "      <td>8.6</td>\n",
       "      <td>Viral Enteritis</td>\n",
       "      <td>UKBB+MVP</td>\n",
       "      <td>1347</td>\n",
       "      <td>462642.0</td>\n",
       "      <td>phecode</td>\n",
       "      <td>phecode-008.6-both_sexes.tsv.bgz</td>\n",
       "      <td>1114.0</td>\n",
       "      <td>407487.0</td>\n",
       "      <td>NaN</td>\n",
       "    </tr>\n",
       "    <tr>\n",
       "      <th>...</th>\n",
       "      <td>...</td>\n",
       "      <td>...</td>\n",
       "      <td>...</td>\n",
       "      <td>...</td>\n",
       "      <td>...</td>\n",
       "      <td>...</td>\n",
       "      <td>...</td>\n",
       "      <td>...</td>\n",
       "      <td>...</td>\n",
       "      <td>...</td>\n",
       "    </tr>\n",
       "    <tr>\n",
       "      <th>2076</th>\n",
       "      <td>DBP (at enrollment)</td>\n",
       "      <td>Diastolic blood pressure</td>\n",
       "      <td>UKBB+MVP</td>\n",
       "      <td>463,989</td>\n",
       "      <td>NaN</td>\n",
       "      <td>vital status</td>\n",
       "      <td>continuous-4079-both_sexes-irnt.tsv.bgz</td>\n",
       "      <td>396667.0</td>\n",
       "      <td>NaN</td>\n",
       "      <td>NaN</td>\n",
       "    </tr>\n",
       "    <tr>\n",
       "      <th>2077</th>\n",
       "      <td>P (Pulse at enrollment)</td>\n",
       "      <td>Heart rate</td>\n",
       "      <td>UKBB+MVP</td>\n",
       "      <td>463,989</td>\n",
       "      <td>NaN</td>\n",
       "      <td>vital status</td>\n",
       "      <td>continuous-102-both_sexes-irnt.tsv.bgz</td>\n",
       "      <td>396667.0</td>\n",
       "      <td>NaN</td>\n",
       "      <td>NaN</td>\n",
       "    </tr>\n",
       "    <tr>\n",
       "      <th>2078</th>\n",
       "      <td>Height (in)</td>\n",
       "      <td>Heigth</td>\n",
       "      <td>MVP</td>\n",
       "      <td>463,989</td>\n",
       "      <td>NaN</td>\n",
       "      <td>vital status</td>\n",
       "      <td>NaN</td>\n",
       "      <td>NaN</td>\n",
       "      <td>NaN</td>\n",
       "      <td>use MVP only</td>\n",
       "    </tr>\n",
       "    <tr>\n",
       "      <th>2079</th>\n",
       "      <td>Weight (lb)</td>\n",
       "      <td>Weight</td>\n",
       "      <td>UKBB+MVP</td>\n",
       "      <td>463,989</td>\n",
       "      <td>NaN</td>\n",
       "      <td>vital status</td>\n",
       "      <td>continuous-21002-both_sexes-irnt.tsv.bgz</td>\n",
       "      <td>419316.0</td>\n",
       "      <td>NaN</td>\n",
       "      <td>NaN</td>\n",
       "    </tr>\n",
       "    <tr>\n",
       "      <th>2080</th>\n",
       "      <td>BMI</td>\n",
       "      <td>Body Mass Index</td>\n",
       "      <td>UKBB+MVP</td>\n",
       "      <td>463,989</td>\n",
       "      <td>NaN</td>\n",
       "      <td>vital status</td>\n",
       "      <td>continuous-21001-both_sexes-irnt.tsv.bgz</td>\n",
       "      <td>419163.0</td>\n",
       "      <td>NaN</td>\n",
       "      <td>NaN</td>\n",
       "    </tr>\n",
       "  </tbody>\n",
       "</table>\n",
       "<p>2081 rows × 10 columns</p>\n",
       "</div>"
      ],
      "text/plain": [
       "                    Phenotype                               description  \\\n",
       "0                           8                      Intestinal infection   \n",
       "1                         8.5                       Bacterial enteritis   \n",
       "2                        8.51                         Intestinal e.coli   \n",
       "3                        8.52  Intestinal infection due to C. difficile   \n",
       "4                         8.6                           Viral Enteritis   \n",
       "...                       ...                                       ...   \n",
       "2076      DBP (at enrollment)                  Diastolic blood pressure   \n",
       "2077  P (Pulse at enrollment)                                Heart rate   \n",
       "2078              Height (in)                                    Heigth   \n",
       "2079              Weight (lb)                                    Weight   \n",
       "2080                      BMI                           Body Mass Index   \n",
       "\n",
       "       dataset MVP_Cases  MVP_Controls    trait_type  \\\n",
       "0     UKBB+MVP      9351      454638.0       phecode   \n",
       "1     UKBB+MVP      5609      458380.0       phecode   \n",
       "2          MVP        57      463932.0       Phecode   \n",
       "3     UKBB+MVP      4873      459116.0       phecode   \n",
       "4     UKBB+MVP      1347      462642.0       phecode   \n",
       "...        ...       ...           ...           ...   \n",
       "2076  UKBB+MVP   463,989           NaN  vital status   \n",
       "2077  UKBB+MVP   463,989           NaN  vital status   \n",
       "2078       MVP   463,989           NaN  vital status   \n",
       "2079  UKBB+MVP   463,989           NaN  vital status   \n",
       "2080  UKBB+MVP   463,989           NaN  vital status   \n",
       "\n",
       "                                 UKBB_filename  UKBB_Cases  UKBB_Controls  \\\n",
       "0               phecode-008-both_sexes.tsv.bgz     13044.0       407487.0   \n",
       "1             phecode-008.5-both_sexes.tsv.bgz      3275.0       407487.0   \n",
       "2                                          NaN         NaN            NaN   \n",
       "3            phecode-008.52-both_sexes.tsv.bgz       858.0       407487.0   \n",
       "4             phecode-008.6-both_sexes.tsv.bgz      1114.0       407487.0   \n",
       "...                                        ...         ...            ...   \n",
       "2076   continuous-4079-both_sexes-irnt.tsv.bgz    396667.0            NaN   \n",
       "2077    continuous-102-both_sexes-irnt.tsv.bgz    396667.0            NaN   \n",
       "2078                                       NaN         NaN            NaN   \n",
       "2079  continuous-21002-both_sexes-irnt.tsv.bgz    419316.0            NaN   \n",
       "2080  continuous-21001-both_sexes-irnt.tsv.bgz    419163.0            NaN   \n",
       "\n",
       "     unmapped_plan  \n",
       "0              NaN  \n",
       "1              NaN  \n",
       "2     use MVP only  \n",
       "3              NaN  \n",
       "4              NaN  \n",
       "...            ...  \n",
       "2076           NaN  \n",
       "2077           NaN  \n",
       "2078  use MVP only  \n",
       "2079           NaN  \n",
       "2080           NaN  \n",
       "\n",
       "[2081 rows x 10 columns]"
      ]
     },
     "execution_count": 8,
     "metadata": {},
     "output_type": "execute_result"
    }
   ],
   "source": [
    "df_raw = pd.read_csv(data_path)\n",
    "df_raw.info()\n",
    "df_raw"
   ]
  },
  {
   "cell_type": "markdown",
   "id": "6fa7c4fa-c040-4f08-a22d-b4169386db69",
   "metadata": {},
   "source": [
    "# raw diagnosis"
   ]
  },
  {
   "cell_type": "code",
   "execution_count": 10,
   "id": "ecb1d5ef-6522-4fef-b374-5732013fb720",
   "metadata": {
    "execution": {
     "iopub.execute_input": "2022-07-04T10:13:28.206180Z",
     "iopub.status.busy": "2022-07-04T10:13:28.205501Z",
     "iopub.status.idle": "2022-07-04T10:13:28.246073Z",
     "shell.execute_reply": "2022-07-04T10:13:28.245125Z",
     "shell.execute_reply.started": "2022-07-04T10:13:28.206123Z"
    },
    "tags": []
   },
   "outputs": [
    {
     "data": {
      "text/plain": [
       "dataset   trait_type      \n",
       "UKBB+MVP  phecode             1323\n",
       "MVP       Phecode              461\n",
       "          baseline_survey       66\n",
       "UKBB+MVP  Phecode               55\n",
       "          icd10                 43\n",
       "MVP       lab                   35\n",
       "UKBB+MVP  lab                   34\n",
       "          lifestyle_survey      23\n",
       "MVP       lifestyle_survey      14\n",
       "UKBB      lab                   14\n",
       "UKBB+MVP  baseline_survey        7\n",
       "          vital status           5\n",
       "MVP       vital status           1\n",
       "dtype: int64"
      ]
     },
     "execution_count": 10,
     "metadata": {},
     "output_type": "execute_result"
    }
   ],
   "source": [
    "df_raw.value_counts([\"dataset\", \"trait_type\"])"
   ]
  },
  {
   "cell_type": "markdown",
   "id": "4f6b1915-b759-4202-802c-a4a68202148e",
   "metadata": {},
   "source": [
    "---"
   ]
  },
  {
   "cell_type": "markdown",
   "id": "0bf69c9f-e352-403d-951a-7b2848e5e2bd",
   "metadata": {
    "tags": []
   },
   "source": [
    "# cleaning\n",
    "\n",
    "- trait_id: phenotype => lowercase, drop punct, replace whitespace with \"-\", trim\n",
    "- trait_type: lowercase, trim\n",
    "- trait_term: drop missing\n",
    "  - \"|\": manual annotation\n",
    "  \n",
    "\"|\" manual annotation\n",
    "- split multiple terms: e.g. \"Infestation (lice | mites)\" => [\"Infestation of lice\", \"Infestation of mites\"]\n",
    "- drop modifier: e.g. \"HIV infection | symptomatic\" => \"HIV infection\"\n",
    "- asis: \n",
    "  - clearly multiple terms \"Epilepsy | recurrent seizures | convulsions\"\n",
    "  - unclear terms (but drop the pipe)\n",
    "  \n",
    "post manual annotation\n",
    "- drop phrase e.g. \"G99\"\n",
    "- punctuation\n",
    "  - apostrophe: let tokenizer handle it\n",
    "  - replace with whitespace: \"/\", \"?\", \":\", \"[]\", \"()\", \";\""
   ]
  },
  {
   "cell_type": "markdown",
   "id": "48eba833-dafb-4ab2-8e6c-452b37e5b346",
   "metadata": {},
   "source": [
    "## stage 0 cleaning"
   ]
  },
  {
   "cell_type": "code",
   "execution_count": 54,
   "id": "4e74bdbc-41db-48ea-8212-a3ff7a6a3474",
   "metadata": {
    "execution": {
     "iopub.execute_input": "2022-07-04T15:51:06.154232Z",
     "iopub.status.busy": "2022-07-04T15:51:06.153328Z",
     "iopub.status.idle": "2022-07-04T15:51:06.177961Z",
     "shell.execute_reply": "2022-07-04T15:51:06.176955Z",
     "shell.execute_reply.started": "2022-07-04T15:51:06.154178Z"
    },
    "tags": []
   },
   "outputs": [],
   "source": [
    "def _clean_phenotype_id(text: str) -> str:\n",
    "    text = text.lower().strip()\n",
    "    for _ in punctuation:\n",
    "        text = text.replace(_, \"\")\n",
    "    text = text.replace(\" \", \"-\")\n",
    "    return text"
   ]
  },
  {
   "cell_type": "code",
   "execution_count": 55,
   "id": "a43a2344-ee8e-415b-9966-c60e32b5cbd8",
   "metadata": {
    "execution": {
     "iopub.execute_input": "2022-07-04T15:51:07.128875Z",
     "iopub.status.busy": "2022-07-04T15:51:07.128015Z",
     "iopub.status.idle": "2022-07-04T15:51:07.178502Z",
     "shell.execute_reply": "2022-07-04T15:51:07.177601Z",
     "shell.execute_reply.started": "2022-07-04T15:51:07.128820Z"
    },
    "tags": []
   },
   "outputs": [
    {
     "name": "stdout",
     "output_type": "stream",
     "text": [
      "<class 'pandas.core.frame.DataFrame'>\n",
      "Int64Index: 2079 entries, 0 to 2080\n",
      "Data columns (total 5 columns):\n",
      " #   Column      Non-Null Count  Dtype \n",
      "---  ------      --------------  ----- \n",
      " 0   trait_id    2079 non-null   object\n",
      " 1   trait_term  2079 non-null   object\n",
      " 2   phenotype   2079 non-null   object\n",
      " 3   dataset     2079 non-null   object\n",
      " 4   trait_type  2079 non-null   object\n",
      "dtypes: object(5)\n",
      "memory usage: 97.5+ KB\n"
     ]
    },
    {
     "data": {
      "text/html": [
       "<div>\n",
       "<style scoped>\n",
       "    .dataframe tbody tr th:only-of-type {\n",
       "        vertical-align: middle;\n",
       "    }\n",
       "\n",
       "    .dataframe tbody tr th {\n",
       "        vertical-align: top;\n",
       "    }\n",
       "\n",
       "    .dataframe thead th {\n",
       "        text-align: right;\n",
       "    }\n",
       "</style>\n",
       "<table border=\"1\" class=\"dataframe\">\n",
       "  <thead>\n",
       "    <tr style=\"text-align: right;\">\n",
       "      <th></th>\n",
       "      <th>trait_id</th>\n",
       "      <th>trait_term</th>\n",
       "      <th>phenotype</th>\n",
       "      <th>dataset</th>\n",
       "      <th>trait_type</th>\n",
       "    </tr>\n",
       "  </thead>\n",
       "  <tbody>\n",
       "    <tr>\n",
       "      <th>0</th>\n",
       "      <td>8-00</td>\n",
       "      <td>Intestinal infection</td>\n",
       "      <td>8</td>\n",
       "      <td>UKBB+MVP</td>\n",
       "      <td>phecode</td>\n",
       "    </tr>\n",
       "    <tr>\n",
       "      <th>1</th>\n",
       "      <td>85-01</td>\n",
       "      <td>Bacterial enteritis</td>\n",
       "      <td>85</td>\n",
       "      <td>UKBB+MVP</td>\n",
       "      <td>phecode</td>\n",
       "    </tr>\n",
       "    <tr>\n",
       "      <th>2</th>\n",
       "      <td>851-02</td>\n",
       "      <td>Intestinal e.coli</td>\n",
       "      <td>851</td>\n",
       "      <td>MVP</td>\n",
       "      <td>phecode</td>\n",
       "    </tr>\n",
       "    <tr>\n",
       "      <th>3</th>\n",
       "      <td>852-03</td>\n",
       "      <td>Intestinal infection due to C. difficile</td>\n",
       "      <td>852</td>\n",
       "      <td>UKBB+MVP</td>\n",
       "      <td>phecode</td>\n",
       "    </tr>\n",
       "    <tr>\n",
       "      <th>4</th>\n",
       "      <td>86-04</td>\n",
       "      <td>Viral Enteritis</td>\n",
       "      <td>86</td>\n",
       "      <td>UKBB+MVP</td>\n",
       "      <td>phecode</td>\n",
       "    </tr>\n",
       "    <tr>\n",
       "      <th>...</th>\n",
       "      <td>...</td>\n",
       "      <td>...</td>\n",
       "      <td>...</td>\n",
       "      <td>...</td>\n",
       "      <td>...</td>\n",
       "    </tr>\n",
       "    <tr>\n",
       "      <th>2076</th>\n",
       "      <td>dbp-at-enrollment-2076</td>\n",
       "      <td>Diastolic blood pressure</td>\n",
       "      <td>dbp-at-enrollment</td>\n",
       "      <td>UKBB+MVP</td>\n",
       "      <td>vital status</td>\n",
       "    </tr>\n",
       "    <tr>\n",
       "      <th>2077</th>\n",
       "      <td>p-pulse-at-enrollment-2077</td>\n",
       "      <td>Heart rate</td>\n",
       "      <td>p-pulse-at-enrollment</td>\n",
       "      <td>UKBB+MVP</td>\n",
       "      <td>vital status</td>\n",
       "    </tr>\n",
       "    <tr>\n",
       "      <th>2078</th>\n",
       "      <td>height-in-2078</td>\n",
       "      <td>Heigth</td>\n",
       "      <td>height-in</td>\n",
       "      <td>MVP</td>\n",
       "      <td>vital status</td>\n",
       "    </tr>\n",
       "    <tr>\n",
       "      <th>2079</th>\n",
       "      <td>weight-lb-2079</td>\n",
       "      <td>Weight</td>\n",
       "      <td>weight-lb</td>\n",
       "      <td>UKBB+MVP</td>\n",
       "      <td>vital status</td>\n",
       "    </tr>\n",
       "    <tr>\n",
       "      <th>2080</th>\n",
       "      <td>bmi-2080</td>\n",
       "      <td>Body Mass Index</td>\n",
       "      <td>bmi</td>\n",
       "      <td>UKBB+MVP</td>\n",
       "      <td>vital status</td>\n",
       "    </tr>\n",
       "  </tbody>\n",
       "</table>\n",
       "<p>2079 rows × 5 columns</p>\n",
       "</div>"
      ],
      "text/plain": [
       "                        trait_id                                trait_term  \\\n",
       "0                           8-00                      Intestinal infection   \n",
       "1                          85-01                       Bacterial enteritis   \n",
       "2                         851-02                         Intestinal e.coli   \n",
       "3                         852-03  Intestinal infection due to C. difficile   \n",
       "4                          86-04                           Viral Enteritis   \n",
       "...                          ...                                       ...   \n",
       "2076      dbp-at-enrollment-2076                  Diastolic blood pressure   \n",
       "2077  p-pulse-at-enrollment-2077                                Heart rate   \n",
       "2078              height-in-2078                                    Heigth   \n",
       "2079              weight-lb-2079                                    Weight   \n",
       "2080                    bmi-2080                           Body Mass Index   \n",
       "\n",
       "                  phenotype   dataset    trait_type  \n",
       "0                         8  UKBB+MVP       phecode  \n",
       "1                        85  UKBB+MVP       phecode  \n",
       "2                       851       MVP       phecode  \n",
       "3                       852  UKBB+MVP       phecode  \n",
       "4                        86  UKBB+MVP       phecode  \n",
       "...                     ...       ...           ...  \n",
       "2076      dbp-at-enrollment  UKBB+MVP  vital status  \n",
       "2077  p-pulse-at-enrollment  UKBB+MVP  vital status  \n",
       "2078              height-in       MVP  vital status  \n",
       "2079              weight-lb  UKBB+MVP  vital status  \n",
       "2080                    bmi  UKBB+MVP  vital status  \n",
       "\n",
       "[2079 rows x 5 columns]"
      ]
     },
     "execution_count": 55,
     "metadata": {},
     "output_type": "execute_result"
    }
   ],
   "source": [
    "df = df_raw \\\n",
    "    .rename(columns={\n",
    "        \"Phenotype\": \"phenotype\",\n",
    "        \"description\": \"trait_term\",\n",
    "    }) \\\n",
    "    .transform_column(\n",
    "        \"phenotype\",\n",
    "        _clean_phenotype_id,\n",
    "    ) \\\n",
    "    .assign(trait_id=lambda df: \n",
    "            [f\"{_}-{idx:02d}\" \n",
    "             for idx, _ in enumerate(df[\"phenotype\"].tolist())]\n",
    "    ) \\\n",
    "    [[\"trait_id\", \"trait_term\", \"phenotype\", \"dataset\", \"trait_type\"]] \\\n",
    "    .dropna() \\\n",
    "    .transform_column(\n",
    "        \"trait_type\",\n",
    "        lambda e: e.lower().strip()\n",
    "    )\n",
    "df.info()\n",
    "df"
   ]
  },
  {
   "cell_type": "code",
   "execution_count": 87,
   "id": "245f2d1d-e419-4567-b0c9-862bc3dffa02",
   "metadata": {
    "execution": {
     "iopub.execute_input": "2022-07-04T16:15:16.351802Z",
     "iopub.status.busy": "2022-07-04T16:15:16.351130Z",
     "iopub.status.idle": "2022-07-04T16:15:16.399460Z",
     "shell.execute_reply": "2022-07-04T16:15:16.398553Z",
     "shell.execute_reply.started": "2022-07-04T16:15:16.351756Z"
    },
    "tags": []
   },
   "outputs": [],
   "source": [
    "output_dir = proj_root / \"data\" / \"output\"\n",
    "assert output_dir.exists(), output_dir\n",
    "output_path = output_dir / \"mvp_traits_clean.json\"\n",
    "with output_path.open(\"w\") as f:\n",
    "    json.dump(\n",
    "        df1.to_dict(orient=\"records\"),\n",
    "        f\n",
    "    )"
   ]
  },
  {
   "cell_type": "code",
   "execution_count": 57,
   "id": "cf59999f-e4ef-4496-b66c-0459cdbb4845",
   "metadata": {
    "execution": {
     "iopub.execute_input": "2022-07-04T15:51:35.419701Z",
     "iopub.status.busy": "2022-07-04T15:51:35.419146Z",
     "iopub.status.idle": "2022-07-04T15:51:35.441303Z",
     "shell.execute_reply": "2022-07-04T15:51:35.440413Z",
     "shell.execute_reply.started": "2022-07-04T15:51:35.419666Z"
    },
    "tags": []
   },
   "outputs": [],
   "source": [
    "df_pipe = df[df[\"trait_term\"].apply(lambda e: \"|\" in e)] \\\n",
    "    .reset_index(drop=True)\n",
    "\n",
    "output_path = output_dir / \"mvp_traits_pipe.csv\"\n",
    "df_pipe.to_csv(output_path, index=False)"
   ]
  },
  {
   "cell_type": "code",
   "execution_count": 58,
   "id": "43186c65-3fd1-4065-ba16-18c626003a5b",
   "metadata": {
    "execution": {
     "iopub.execute_input": "2022-07-04T15:54:35.942590Z",
     "iopub.status.busy": "2022-07-04T15:54:35.941976Z",
     "iopub.status.idle": "2022-07-04T15:54:35.975988Z",
     "shell.execute_reply": "2022-07-04T15:54:35.975115Z",
     "shell.execute_reply.started": "2022-07-04T15:54:35.942538Z"
    },
    "tags": []
   },
   "outputs": [
    {
     "name": "stdout",
     "output_type": "stream",
     "text": [
      "<class 'pandas.core.frame.DataFrame'>\n",
      "RangeIndex: 143 entries, 0 to 142\n",
      "Data columns (total 6 columns):\n",
      " #   Column      Non-Null Count  Dtype \n",
      "---  ------      --------------  ----- \n",
      " 0   trait_id    143 non-null    object\n",
      " 1   trait_term  143 non-null    object\n",
      " 2   phenotype   143 non-null    int64 \n",
      " 3   dataset     143 non-null    object\n",
      " 4   trait_type  143 non-null    object\n",
      " 5   annotation  143 non-null    object\n",
      "dtypes: int64(1), object(5)\n",
      "memory usage: 6.8+ KB\n"
     ]
    }
   ],
   "source": [
    "annot_file_path = proj_root / \"data\" / \"mvp\" / \"mvp_traits_pipe_annotated.csv\"\n",
    "assert annot_file_path.exists(), annot_file_path\n",
    "\n",
    "annot_df = pd.read_csv(annot_file_path)\n",
    "annot_df.info()\n",
    "annot_df = annot_df.assign(trait_id=lambda df: df[\"trait_id\"].astype(str))"
   ]
  },
  {
   "cell_type": "markdown",
   "id": "7db9dfad-70eb-402a-ad89-642b5605453a",
   "metadata": {},
   "source": [
    "## stage 1 cleaning"
   ]
  },
  {
   "cell_type": "code",
   "execution_count": 80,
   "id": "7d8ac455-9fa6-4afd-bd4d-6c18b8f1ebce",
   "metadata": {
    "execution": {
     "iopub.execute_input": "2022-07-04T16:12:01.211663Z",
     "iopub.status.busy": "2022-07-04T16:12:01.210917Z",
     "iopub.status.idle": "2022-07-04T16:12:01.246703Z",
     "shell.execute_reply": "2022-07-04T16:12:01.245791Z",
     "shell.execute_reply.started": "2022-07-04T16:12:01.211609Z"
    },
    "tags": []
   },
   "outputs": [
    {
     "name": "stdout",
     "output_type": "stream",
     "text": [
      "<class 'pandas.core.frame.DataFrame'>\n",
      "Int64Index: 2079 entries, 0 to 2078\n",
      "Data columns (total 6 columns):\n",
      " #   Column      Non-Null Count  Dtype \n",
      "---  ------      --------------  ----- \n",
      " 0   trait_id    2079 non-null   object\n",
      " 1   trait_term  2079 non-null   object\n",
      " 2   phenotype   2079 non-null   object\n",
      " 3   dataset     2079 non-null   object\n",
      " 4   trait_type  2079 non-null   object\n",
      " 5   annotation  143 non-null    object\n",
      "dtypes: object(6)\n",
      "memory usage: 113.7+ KB\n"
     ]
    }
   ],
   "source": [
    "df1 = df.merge(annot_df[[\"trait_id\", \"annotation\"]], on=[\"trait_id\"], how=\"left\")\n",
    "df1.info()"
   ]
  },
  {
   "cell_type": "code",
   "execution_count": 81,
   "id": "06c2caab-4a18-44c2-9f24-4090671bf8e4",
   "metadata": {
    "execution": {
     "iopub.execute_input": "2022-07-04T16:12:03.282422Z",
     "iopub.status.busy": "2022-07-04T16:12:03.281477Z",
     "iopub.status.idle": "2022-07-04T16:12:03.310800Z",
     "shell.execute_reply": "2022-07-04T16:12:03.309937Z",
     "shell.execute_reply.started": "2022-07-04T16:12:03.282364Z"
    },
    "tags": []
   },
   "outputs": [
    {
     "data": {
      "text/html": [
       "<div>\n",
       "<style scoped>\n",
       "    .dataframe tbody tr th:only-of-type {\n",
       "        vertical-align: middle;\n",
       "    }\n",
       "\n",
       "    .dataframe tbody tr th {\n",
       "        vertical-align: top;\n",
       "    }\n",
       "\n",
       "    .dataframe thead th {\n",
       "        text-align: right;\n",
       "    }\n",
       "</style>\n",
       "<table border=\"1\" class=\"dataframe\">\n",
       "  <thead>\n",
       "    <tr style=\"text-align: right;\">\n",
       "      <th></th>\n",
       "      <th>trait_id</th>\n",
       "      <th>trait_term</th>\n",
       "      <th>phenotype</th>\n",
       "      <th>dataset</th>\n",
       "      <th>trait_type</th>\n",
       "      <th>annotation</th>\n",
       "    </tr>\n",
       "  </thead>\n",
       "  <tbody>\n",
       "  </tbody>\n",
       "</table>\n",
       "</div>"
      ],
      "text/plain": [
       "Empty DataFrame\n",
       "Columns: [trait_id, trait_term, phenotype, dataset, trait_type, annotation]\n",
       "Index: []"
      ]
     },
     "execution_count": 81,
     "metadata": {},
     "output_type": "execute_result"
    }
   ],
   "source": [
    "df1[df1.duplicated([\"trait_id\"], keep=False)]"
   ]
  },
  {
   "cell_type": "code",
   "execution_count": 82,
   "id": "e12a9c42-4dbb-423f-8c17-e26ae0e521b8",
   "metadata": {
    "execution": {
     "iopub.execute_input": "2022-07-04T16:12:03.969332Z",
     "iopub.status.busy": "2022-07-04T16:12:03.968226Z",
     "iopub.status.idle": "2022-07-04T16:12:03.992077Z",
     "shell.execute_reply": "2022-07-04T16:12:03.991039Z",
     "shell.execute_reply.started": "2022-07-04T16:12:03.969278Z"
    },
    "tags": []
   },
   "outputs": [],
   "source": [
    "assert len(df1) == len(df)"
   ]
  },
  {
   "cell_type": "code",
   "execution_count": 77,
   "id": "fe371764-8512-4c89-901e-d150ad5ae566",
   "metadata": {
    "execution": {
     "iopub.execute_input": "2022-07-04T16:11:01.953388Z",
     "iopub.status.busy": "2022-07-04T16:11:01.952635Z",
     "iopub.status.idle": "2022-07-04T16:11:01.978805Z",
     "shell.execute_reply": "2022-07-04T16:11:01.977986Z",
     "shell.execute_reply.started": "2022-07-04T16:11:01.953335Z"
    },
    "tags": []
   },
   "outputs": [],
   "source": [
    "def _clean_trait_term(text: str) -> List[str]:\n",
    "    text = text.strip()\n",
    "    # drop A123 like\n",
    "    pat = re.compile(r\"[A-Z]\\d+ \")\n",
    "    text = re.sub(pat, \"\", text)\n",
    "    # drop select punct\n",
    "    punct_list = [\"/\", \"?\", \":\", \"[\", \"]\", \"(\", \")\"]\n",
    "    for _ in punct_list:\n",
    "        text = text.replace(_, \" \")\n",
    "    # split into multiple terms\n",
    "    text_split = text.split(\"|\")\n",
    "    return text_split"
   ]
  },
  {
   "cell_type": "code",
   "execution_count": 83,
   "id": "e6bfca31-350f-4522-932e-cd71e12a7050",
   "metadata": {
    "execution": {
     "iopub.execute_input": "2022-07-04T16:12:06.246431Z",
     "iopub.status.busy": "2022-07-04T16:12:06.245825Z",
     "iopub.status.idle": "2022-07-04T16:12:06.310974Z",
     "shell.execute_reply": "2022-07-04T16:12:06.310059Z",
     "shell.execute_reply.started": "2022-07-04T16:12:06.246378Z"
    },
    "tags": []
   },
   "outputs": [
    {
     "name": "stdout",
     "output_type": "stream",
     "text": [
      "<class 'pandas.core.frame.DataFrame'>\n",
      "Int64Index: 2079 entries, 0 to 2078\n",
      "Data columns (total 6 columns):\n",
      " #   Column            Non-Null Count  Dtype \n",
      "---  ------            --------------  ----- \n",
      " 0   trait_id          2079 non-null   object\n",
      " 1   trait_term        2079 non-null   object\n",
      " 2   phenotype         2079 non-null   object\n",
      " 3   dataset           2079 non-null   object\n",
      " 4   trait_type        2079 non-null   object\n",
      " 5   trait_term_query  2079 non-null   object\n",
      "dtypes: object(6)\n",
      "memory usage: 113.7+ KB\n"
     ]
    },
    {
     "data": {
      "text/html": [
       "<div>\n",
       "<style scoped>\n",
       "    .dataframe tbody tr th:only-of-type {\n",
       "        vertical-align: middle;\n",
       "    }\n",
       "\n",
       "    .dataframe tbody tr th {\n",
       "        vertical-align: top;\n",
       "    }\n",
       "\n",
       "    .dataframe thead th {\n",
       "        text-align: right;\n",
       "    }\n",
       "</style>\n",
       "<table border=\"1\" class=\"dataframe\">\n",
       "  <thead>\n",
       "    <tr style=\"text-align: right;\">\n",
       "      <th></th>\n",
       "      <th>trait_id</th>\n",
       "      <th>trait_term</th>\n",
       "      <th>phenotype</th>\n",
       "      <th>dataset</th>\n",
       "      <th>trait_type</th>\n",
       "      <th>trait_term_query</th>\n",
       "    </tr>\n",
       "  </thead>\n",
       "  <tbody>\n",
       "    <tr>\n",
       "      <th>0</th>\n",
       "      <td>8-00</td>\n",
       "      <td>Intestinal infection</td>\n",
       "      <td>8</td>\n",
       "      <td>UKBB+MVP</td>\n",
       "      <td>phecode</td>\n",
       "      <td>[Intestinal infection]</td>\n",
       "    </tr>\n",
       "    <tr>\n",
       "      <th>1</th>\n",
       "      <td>85-01</td>\n",
       "      <td>Bacterial enteritis</td>\n",
       "      <td>85</td>\n",
       "      <td>UKBB+MVP</td>\n",
       "      <td>phecode</td>\n",
       "      <td>[Bacterial enteritis]</td>\n",
       "    </tr>\n",
       "    <tr>\n",
       "      <th>2</th>\n",
       "      <td>851-02</td>\n",
       "      <td>Intestinal e.coli</td>\n",
       "      <td>851</td>\n",
       "      <td>MVP</td>\n",
       "      <td>phecode</td>\n",
       "      <td>[Intestinal e.coli]</td>\n",
       "    </tr>\n",
       "    <tr>\n",
       "      <th>3</th>\n",
       "      <td>852-03</td>\n",
       "      <td>Intestinal infection due to C. difficile</td>\n",
       "      <td>852</td>\n",
       "      <td>UKBB+MVP</td>\n",
       "      <td>phecode</td>\n",
       "      <td>[Intestinal infection due to C. difficile]</td>\n",
       "    </tr>\n",
       "    <tr>\n",
       "      <th>4</th>\n",
       "      <td>86-04</td>\n",
       "      <td>Viral Enteritis</td>\n",
       "      <td>86</td>\n",
       "      <td>UKBB+MVP</td>\n",
       "      <td>phecode</td>\n",
       "      <td>[Viral Enteritis]</td>\n",
       "    </tr>\n",
       "  </tbody>\n",
       "</table>\n",
       "</div>"
      ],
      "text/plain": [
       "  trait_id                                trait_term phenotype   dataset  \\\n",
       "0     8-00                      Intestinal infection         8  UKBB+MVP   \n",
       "1    85-01                       Bacterial enteritis        85  UKBB+MVP   \n",
       "2   851-02                         Intestinal e.coli       851       MVP   \n",
       "3   852-03  Intestinal infection due to C. difficile       852  UKBB+MVP   \n",
       "4    86-04                           Viral Enteritis        86  UKBB+MVP   \n",
       "\n",
       "  trait_type                            trait_term_query  \n",
       "0    phecode                      [Intestinal infection]  \n",
       "1    phecode                       [Bacterial enteritis]  \n",
       "2    phecode                         [Intestinal e.coli]  \n",
       "3    phecode  [Intestinal infection due to C. difficile]  \n",
       "4    phecode                           [Viral Enteritis]  "
      ]
     },
     "execution_count": 83,
     "metadata": {},
     "output_type": "execute_result"
    }
   ],
   "source": [
    "df1 = df1 \\\n",
    "    .assign(annot_empty=lambda df: df[\"annotation\"].isna()) \\\n",
    "    .assign(\n",
    "        trait_term_query=lambda df: df.apply(\n",
    "            lambda row:\n",
    "                row[\"annotation\"] if not row[\"annot_empty\"] else row[\"trait_term\"],\n",
    "            axis=1\n",
    "        )\n",
    "    ) \\\n",
    "    .transform_column(\"trait_term_query\", _clean_trait_term) \\\n",
    "    .drop(columns=[\"annot_empty\", \"annotation\"])\n",
    "df1.info()\n",
    "df1.head()"
   ]
  },
  {
   "cell_type": "code",
   "execution_count": 87,
   "id": "21e9daba",
   "metadata": {
    "execution": {
     "iopub.execute_input": "2022-07-04T16:15:16.351802Z",
     "iopub.status.busy": "2022-07-04T16:15:16.351130Z",
     "iopub.status.idle": "2022-07-04T16:15:16.399460Z",
     "shell.execute_reply": "2022-07-04T16:15:16.398553Z",
     "shell.execute_reply.started": "2022-07-04T16:15:16.351756Z"
    },
    "tags": []
   },
   "outputs": [],
   "source": [
    "output_dir = proj_root / \"data\" / \"output\"\n",
    "assert output_dir.exists(), output_dir\n",
    "output_path = output_dir / \"mvp_traits_clean.json\"\n",
    "with output_path.open(\"w\") as f:\n",
    "    json.dump(\n",
    "        df1.to_dict(orient=\"records\"),\n",
    "        f\n",
    "    )"
   ]
  },
  {
   "cell_type": "markdown",
   "id": "7dd5e4a6-ac36-4366-ad81-d64eeb118cfa",
   "metadata": {},
   "source": [
    "---"
   ]
  },
  {
   "cell_type": "markdown",
   "id": "077a7c23-8c40-4508-ab1d-1a0f2de45cb6",
   "metadata": {},
   "source": [
    "# post cleaning diagnosis"
   ]
  },
  {
   "cell_type": "code",
   "execution_count": 22,
   "id": "86d1f818-67de-49ca-a027-160fab05d2c9",
   "metadata": {
    "execution": {
     "iopub.execute_input": "2022-07-04T10:32:27.124309Z",
     "iopub.status.busy": "2022-07-04T10:32:27.123647Z",
     "iopub.status.idle": "2022-07-04T10:32:27.152045Z",
     "shell.execute_reply": "2022-07-04T10:32:27.151343Z",
     "shell.execute_reply.started": "2022-07-04T10:32:27.124252Z"
    },
    "tags": []
   },
   "outputs": [
    {
     "data": {
      "text/plain": [
       "dataset   trait_type      \n",
       "UKBB+MVP  phecode             1378\n",
       "MVP       phecode              461\n",
       "          baseline_survey       66\n",
       "UKBB+MVP  icd10                 43\n",
       "MVP       lab                   35\n",
       "UKBB+MVP  lab                   34\n",
       "          lifestyle_survey      23\n",
       "MVP       lifestyle_survey      14\n",
       "UKBB      lab                   14\n",
       "UKBB+MVP  baseline_survey        7\n",
       "          vital status           5\n",
       "MVP       vital status           1\n",
       "dtype: int64"
      ]
     },
     "execution_count": 22,
     "metadata": {},
     "output_type": "execute_result"
    }
   ],
   "source": [
    "df.value_counts([\"dataset\", \"trait_type\"])"
   ]
  },
  {
   "cell_type": "code",
   "execution_count": 61,
   "id": "f54de647-67a1-4443-8688-da9a2c0c948b",
   "metadata": {
    "execution": {
     "iopub.execute_input": "2022-07-04T15:54:50.587225Z",
     "iopub.status.busy": "2022-07-04T15:54:50.586611Z",
     "iopub.status.idle": "2022-07-04T15:54:50.620031Z",
     "shell.execute_reply": "2022-07-04T15:54:50.618605Z",
     "shell.execute_reply.started": "2022-07-04T15:54:50.587172Z"
    },
    "tags": []
   },
   "outputs": [
    {
     "data": {
      "text/html": [
       "<div>\n",
       "<style scoped>\n",
       "    .dataframe tbody tr th:only-of-type {\n",
       "        vertical-align: middle;\n",
       "    }\n",
       "\n",
       "    .dataframe tbody tr th {\n",
       "        vertical-align: top;\n",
       "    }\n",
       "\n",
       "    .dataframe thead th {\n",
       "        text-align: right;\n",
       "    }\n",
       "</style>\n",
       "<table border=\"1\" class=\"dataframe\">\n",
       "  <thead>\n",
       "    <tr style=\"text-align: right;\">\n",
       "      <th></th>\n",
       "      <th>trait_id</th>\n",
       "      <th>trait_term</th>\n",
       "      <th>phenotype</th>\n",
       "      <th>dataset</th>\n",
       "      <th>trait_type</th>\n",
       "    </tr>\n",
       "  </thead>\n",
       "  <tbody>\n",
       "  </tbody>\n",
       "</table>\n",
       "</div>"
      ],
      "text/plain": [
       "Empty DataFrame\n",
       "Columns: [trait_id, trait_term, phenotype, dataset, trait_type]\n",
       "Index: []"
      ]
     },
     "execution_count": 61,
     "metadata": {},
     "output_type": "execute_result"
    }
   ],
   "source": [
    "df[df.duplicated([\"trait_id\"], keep=False)]"
   ]
  },
  {
   "cell_type": "code",
   "execution_count": 33,
   "id": "e001a5e2-2cd8-4873-a03e-cbba713f682a",
   "metadata": {
    "execution": {
     "iopub.execute_input": "2022-07-04T10:49:04.033834Z",
     "iopub.status.busy": "2022-07-04T10:49:04.033043Z",
     "iopub.status.idle": "2022-07-04T10:49:04.061973Z",
     "shell.execute_reply": "2022-07-04T10:49:04.061209Z",
     "shell.execute_reply.started": "2022-07-04T10:49:04.033776Z"
    },
    "tags": []
   },
   "outputs": [
    {
     "data": {
      "text/html": [
       "<div>\n",
       "<style scoped>\n",
       "    .dataframe tbody tr th:only-of-type {\n",
       "        vertical-align: middle;\n",
       "    }\n",
       "\n",
       "    .dataframe tbody tr th {\n",
       "        vertical-align: top;\n",
       "    }\n",
       "\n",
       "    .dataframe thead th {\n",
       "        text-align: right;\n",
       "    }\n",
       "</style>\n",
       "<table border=\"1\" class=\"dataframe\">\n",
       "  <thead>\n",
       "    <tr style=\"text-align: right;\">\n",
       "      <th></th>\n",
       "      <th>trait_id</th>\n",
       "      <th>trait_term</th>\n",
       "      <th>dataset</th>\n",
       "      <th>trait_type</th>\n",
       "    </tr>\n",
       "  </thead>\n",
       "  <tbody>\n",
       "  </tbody>\n",
       "</table>\n",
       "</div>"
      ],
      "text/plain": [
       "Empty DataFrame\n",
       "Columns: [trait_id, trait_term, dataset, trait_type]\n",
       "Index: []"
      ]
     },
     "execution_count": 33,
     "metadata": {},
     "output_type": "execute_result"
    }
   ],
   "source": [
    "df[df[\"trait_term\"].apply(lambda e: isinstance(e, float))]"
   ]
  },
  {
   "cell_type": "code",
   "execution_count": 34,
   "id": "73d96046-94b9-4369-8ae3-44af04ca76ef",
   "metadata": {
    "execution": {
     "iopub.execute_input": "2022-07-04T10:49:21.536797Z",
     "iopub.status.busy": "2022-07-04T10:49:21.536155Z",
     "iopub.status.idle": "2022-07-04T10:49:21.566616Z",
     "shell.execute_reply": "2022-07-04T10:49:21.565959Z",
     "shell.execute_reply.started": "2022-07-04T10:49:21.536743Z"
    },
    "tags": []
   },
   "outputs": [
    {
     "data": {
      "text/html": [
       "<div>\n",
       "<style scoped>\n",
       "    .dataframe tbody tr th:only-of-type {\n",
       "        vertical-align: middle;\n",
       "    }\n",
       "\n",
       "    .dataframe tbody tr th {\n",
       "        vertical-align: top;\n",
       "    }\n",
       "\n",
       "    .dataframe thead th {\n",
       "        text-align: right;\n",
       "    }\n",
       "</style>\n",
       "<table border=\"1\" class=\"dataframe\">\n",
       "  <thead>\n",
       "    <tr style=\"text-align: right;\">\n",
       "      <th></th>\n",
       "      <th>trait_id</th>\n",
       "      <th>trait_term</th>\n",
       "      <th>dataset</th>\n",
       "      <th>trait_type</th>\n",
       "    </tr>\n",
       "  </thead>\n",
       "  <tbody>\n",
       "    <tr>\n",
       "      <th>32</th>\n",
       "      <td>711</td>\n",
       "      <td>HIV infection | symptomatic</td>\n",
       "      <td>MVP</td>\n",
       "      <td>phecode</td>\n",
       "    </tr>\n",
       "    <tr>\n",
       "      <th>37</th>\n",
       "      <td>799</td>\n",
       "      <td>Viremia | NOS</td>\n",
       "      <td>MVP</td>\n",
       "      <td>phecode</td>\n",
       "    </tr>\n",
       "    <tr>\n",
       "      <th>62</th>\n",
       "      <td>132</td>\n",
       "      <td>Infestation (lice | mites)</td>\n",
       "      <td>MVP</td>\n",
       "      <td>phecode</td>\n",
       "    </tr>\n",
       "    <tr>\n",
       "      <th>74</th>\n",
       "      <td>149</td>\n",
       "      <td>Cancer of larynx | pharynx | nasal cavities</td>\n",
       "      <td>UKBB+MVP</td>\n",
       "      <td>phecode</td>\n",
       "    </tr>\n",
       "    <tr>\n",
       "      <th>85</th>\n",
       "      <td>1533</td>\n",
       "      <td>Malignant neoplasm of rectum | rectosigmoid ju...</td>\n",
       "      <td>UKBB+MVP</td>\n",
       "      <td>phecode</td>\n",
       "    </tr>\n",
       "    <tr>\n",
       "      <th>...</th>\n",
       "      <td>...</td>\n",
       "      <td>...</td>\n",
       "      <td>...</td>\n",
       "      <td>...</td>\n",
       "    </tr>\n",
       "    <tr>\n",
       "      <th>1846</th>\n",
       "      <td>1002</td>\n",
       "      <td>Symptoms concerning nutrition | metabolism | a...</td>\n",
       "      <td>UKBB+MVP</td>\n",
       "      <td>phecode</td>\n",
       "    </tr>\n",
       "    <tr>\n",
       "      <th>1853</th>\n",
       "      <td>1009</td>\n",
       "      <td>Injury | NOS</td>\n",
       "      <td>UKBB+MVP</td>\n",
       "      <td>phecode</td>\n",
       "    </tr>\n",
       "    <tr>\n",
       "      <th>1867</th>\n",
       "      <td>10107</td>\n",
       "      <td>Z63 Other problems related to primary support ...</td>\n",
       "      <td>UKBB+MVP</td>\n",
       "      <td>icd10</td>\n",
       "    </tr>\n",
       "    <tr>\n",
       "      <th>1868</th>\n",
       "      <td>10107</td>\n",
       "      <td>Z71 Persons encountering health services for o...</td>\n",
       "      <td>UKBB+MVP</td>\n",
       "      <td>icd10</td>\n",
       "    </tr>\n",
       "    <tr>\n",
       "      <th>1876</th>\n",
       "      <td>1014</td>\n",
       "      <td>Effects of heat | cold and air pressure</td>\n",
       "      <td>UKBB+MVP</td>\n",
       "      <td>phecode</td>\n",
       "    </tr>\n",
       "  </tbody>\n",
       "</table>\n",
       "<p>143 rows × 4 columns</p>\n",
       "</div>"
      ],
      "text/plain": [
       "     trait_id                                         trait_term   dataset  \\\n",
       "32        711                        HIV infection | symptomatic       MVP   \n",
       "37        799                                      Viremia | NOS       MVP   \n",
       "62        132                         Infestation (lice | mites)       MVP   \n",
       "74        149        Cancer of larynx | pharynx | nasal cavities  UKBB+MVP   \n",
       "85       1533  Malignant neoplasm of rectum | rectosigmoid ju...  UKBB+MVP   \n",
       "...       ...                                                ...       ...   \n",
       "1846     1002  Symptoms concerning nutrition | metabolism | a...  UKBB+MVP   \n",
       "1853     1009                                       Injury | NOS  UKBB+MVP   \n",
       "1867    10107  Z63 Other problems related to primary support ...  UKBB+MVP   \n",
       "1868    10107  Z71 Persons encountering health services for o...  UKBB+MVP   \n",
       "1876     1014            Effects of heat | cold and air pressure  UKBB+MVP   \n",
       "\n",
       "     trait_type  \n",
       "32      phecode  \n",
       "37      phecode  \n",
       "62      phecode  \n",
       "74      phecode  \n",
       "85      phecode  \n",
       "...         ...  \n",
       "1846    phecode  \n",
       "1853    phecode  \n",
       "1867      icd10  \n",
       "1868      icd10  \n",
       "1876    phecode  \n",
       "\n",
       "[143 rows x 4 columns]"
      ]
     },
     "execution_count": 34,
     "metadata": {},
     "output_type": "execute_result"
    }
   ],
   "source": [
    "df[df[\"trait_term\"].apply(lambda e: \"|\" in e)]"
   ]
  }
 ],
 "metadata": {
  "kernelspec": {
   "display_name": "Python 3 (ipykernel)",
   "language": "python",
   "name": "python3"
  },
  "language_info": {
   "codemirror_mode": {
    "name": "ipython",
    "version": 3
   },
   "file_extension": ".py",
   "mimetype": "text/x-python",
   "name": "python",
   "nbconvert_exporter": "python",
   "pygments_lexer": "ipython3",
   "version": "3.8.13"
  }
 },
 "nbformat": 4,
 "nbformat_minor": 5
}
