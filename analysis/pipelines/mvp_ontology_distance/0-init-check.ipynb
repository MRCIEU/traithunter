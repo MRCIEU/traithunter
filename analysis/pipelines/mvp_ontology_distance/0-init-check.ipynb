{
 "cells": [
  {
   "cell_type": "code",
   "execution_count": 1,
   "id": "2d6be9c8-470b-4203-8d18-ba1849bff5f8",
   "metadata": {
    "execution": {
     "iopub.execute_input": "2023-01-26T11:00:09.539317Z",
     "iopub.status.busy": "2023-01-26T11:00:09.538572Z",
     "iopub.status.idle": "2023-01-26T11:00:10.121233Z",
     "shell.execute_reply": "2023-01-26T11:00:10.120081Z",
     "shell.execute_reply.started": "2023-01-26T11:00:09.539169Z"
    },
    "tags": []
   },
   "outputs": [],
   "source": [
    "%load_ext autoreload\n",
    "%autoreload 2\n",
    "\n",
    "%load_ext lab_black"
   ]
  },
  {
   "cell_type": "code",
   "execution_count": 2,
   "id": "9c1244da-cfff-41b6-b872-dfa98345af44",
   "metadata": {
    "execution": {
     "iopub.execute_input": "2023-01-26T11:01:47.294103Z",
     "iopub.status.busy": "2023-01-26T11:01:47.293393Z",
     "iopub.status.idle": "2023-01-26T11:01:47.313846Z",
     "shell.execute_reply": "2023-01-26T11:01:47.312851Z",
     "shell.execute_reply.started": "2023-01-26T11:01:47.294047Z"
    },
    "tags": []
   },
   "outputs": [],
   "source": [
    "import sys\n",
    "from pathlib import Path"
   ]
  },
  {
   "cell_type": "code",
   "execution_count": 3,
   "id": "1e8e172c-9190-464d-b626-bb1c3104c06a",
   "metadata": {
    "execution": {
     "iopub.execute_input": "2023-01-26T11:02:11.026152Z",
     "iopub.status.busy": "2023-01-26T11:02:11.025306Z",
     "iopub.status.idle": "2023-01-26T11:02:11.052317Z",
     "shell.execute_reply": "2023-01-26T11:02:11.051361Z",
     "shell.execute_reply.started": "2023-01-26T11:02:11.026097Z"
    },
    "tags": []
   },
   "outputs": [
    {
     "name": "stdout",
     "output_type": "stream",
     "text": [
      "/data/ik18445_cache/projects/phenotype-mapping/analysis/pipelines/mvp_ontology_distance\n"
     ]
    }
   ],
   "source": [
    "_pwd = Path(\".\").resolve()\n",
    "print(_pwd)\n",
    "sys.path.append(str(_pwd))"
   ]
  },
  {
   "cell_type": "code",
   "execution_count": 4,
   "id": "9c2945dd-0cf3-4e15-aa3d-4f9a1027c10e",
   "metadata": {
    "execution": {
     "iopub.execute_input": "2023-01-26T11:02:29.243878Z",
     "iopub.status.busy": "2023-01-26T11:02:29.243191Z",
     "iopub.status.idle": "2023-01-26T11:02:34.836431Z",
     "shell.execute_reply": "2023-01-26T11:02:34.835212Z",
     "shell.execute_reply.started": "2023-01-26T11:02:29.243817Z"
    },
    "tags": []
   },
   "outputs": [],
   "source": [
    "import pandas as pd\n",
    "import janitor\n",
    "from pydash import py_"
   ]
  },
  {
   "cell_type": "code",
   "execution_count": 5,
   "id": "f64b622a-078b-4e09-a471-3c4f9e7edcd9",
   "metadata": {
    "execution": {
     "iopub.execute_input": "2023-01-26T11:02:38.000547Z",
     "iopub.status.busy": "2023-01-26T11:02:37.999438Z",
     "iopub.status.idle": "2023-01-26T11:02:38.052433Z",
     "shell.execute_reply": "2023-01-26T11:02:38.050984Z",
     "shell.execute_reply.started": "2023-01-26T11:02:38.000463Z"
    },
    "tags": []
   },
   "outputs": [],
   "source": [
    "from common_funcs import utils"
   ]
  },
  {
   "cell_type": "code",
   "execution_count": 6,
   "id": "bbe0ed15-a73d-4ece-aa6d-85b9e5f67ee1",
   "metadata": {
    "execution": {
     "iopub.execute_input": "2023-01-26T11:06:06.806245Z",
     "iopub.status.busy": "2023-01-26T11:06:06.805393Z",
     "iopub.status.idle": "2023-01-26T11:06:06.836360Z",
     "shell.execute_reply": "2023-01-26T11:06:06.835446Z",
     "shell.execute_reply.started": "2023-01-26T11:06:06.806188Z"
    },
    "tags": []
   },
   "outputs": [],
   "source": [
    "proj_root = utils.find_project_root(\"docker-compose.yml\")\n",
    "assert proj_root.exists(), proj_root\n",
    "data_dir = proj_root / \"data\"\n",
    "\n",
    "source_dir = data_dir / \"source\" / \"mvp-ontology-terms-2023-01\"\n",
    "assert source_dir.exists(), source_dir"
   ]
  },
  {
   "cell_type": "code",
   "execution_count": 7,
   "id": "1eb2da0d-147d-4ed6-9670-6784c8d10363",
   "metadata": {
    "execution": {
     "iopub.execute_input": "2023-01-26T11:07:09.985062Z",
     "iopub.status.busy": "2023-01-26T11:07:09.984380Z",
     "iopub.status.idle": "2023-01-26T11:07:10.128295Z",
     "shell.execute_reply": "2023-01-26T11:07:10.127179Z",
     "shell.execute_reply.started": "2023-01-26T11:07:09.985005Z"
    },
    "tags": []
   },
   "outputs": [
    {
     "name": "stdout",
     "output_type": "stream",
     "text": [
      "<class 'pandas.core.frame.DataFrame'>\n",
      "RangeIndex: 15436 entries, 0 to 15435\n",
      "Data columns (total 2 columns):\n",
      " #   Column    Non-Null Count  Dtype \n",
      "---  ------    --------------  ----- \n",
      " 0   EFO_ID    15436 non-null  object\n",
      " 1   EFO_Term  15436 non-null  object\n",
      "dtypes: object(2)\n",
      "memory usage: 241.3+ KB\n"
     ]
    },
    {
     "data": {
      "text/html": [
       "<div>\n",
       "<style scoped>\n",
       "    .dataframe tbody tr th:only-of-type {\n",
       "        vertical-align: middle;\n",
       "    }\n",
       "\n",
       "    .dataframe tbody tr th {\n",
       "        vertical-align: top;\n",
       "    }\n",
       "\n",
       "    .dataframe thead th {\n",
       "        text-align: right;\n",
       "    }\n",
       "</style>\n",
       "<table border=\"1\" class=\"dataframe\">\n",
       "  <thead>\n",
       "    <tr style=\"text-align: right;\">\n",
       "      <th></th>\n",
       "      <th>EFO_ID</th>\n",
       "      <th>EFO_Term</th>\n",
       "    </tr>\n",
       "  </thead>\n",
       "  <tbody>\n",
       "    <tr>\n",
       "      <th>0</th>\n",
       "      <td>CHEBI_16737</td>\n",
       "      <td>creatinine</td>\n",
       "    </tr>\n",
       "    <tr>\n",
       "      <th>1</th>\n",
       "      <td>CHEBI_16990</td>\n",
       "      <td>bilirubin</td>\n",
       "    </tr>\n",
       "    <tr>\n",
       "      <th>2</th>\n",
       "      <td>CHEBI_17347</td>\n",
       "      <td>testosterone</td>\n",
       "    </tr>\n",
       "    <tr>\n",
       "      <th>3</th>\n",
       "      <td>CHEBI_23965</td>\n",
       "      <td>estradiol</td>\n",
       "    </tr>\n",
       "    <tr>\n",
       "      <th>4</th>\n",
       "      <td>CHEBI_26020</td>\n",
       "      <td>phosphate</td>\n",
       "    </tr>\n",
       "    <tr>\n",
       "      <th>...</th>\n",
       "      <td>...</td>\n",
       "      <td>...</td>\n",
       "    </tr>\n",
       "    <tr>\n",
       "      <th>15431</th>\n",
       "      <td>MONDO_0018763</td>\n",
       "      <td>Tubulinopathy-associated dysgyria | TUBA1A-ass...</td>\n",
       "    </tr>\n",
       "    <tr>\n",
       "      <th>15432</th>\n",
       "      <td>MONDO_0014531</td>\n",
       "      <td>Amyotrophic lateral sclerosis type 22 | Amyotr...</td>\n",
       "    </tr>\n",
       "    <tr>\n",
       "      <th>15433</th>\n",
       "      <td>MONDO_0100154</td>\n",
       "      <td>TUBB2A-related tubulinopathy | TUBB3-related t...</td>\n",
       "    </tr>\n",
       "    <tr>\n",
       "      <th>15434</th>\n",
       "      <td>MONDO_0012408</td>\n",
       "      <td>Microphthalmia | cataracts | and iris abnormal...</td>\n",
       "    </tr>\n",
       "    <tr>\n",
       "      <th>15435</th>\n",
       "      <td>MONDO_0012409</td>\n",
       "      <td>Isolated microphthalmia 2 | VSX2-related Micro...</td>\n",
       "    </tr>\n",
       "  </tbody>\n",
       "</table>\n",
       "<p>15436 rows × 2 columns</p>\n",
       "</div>"
      ],
      "text/plain": [
       "              EFO_ID                                           EFO_Term\n",
       "0        CHEBI_16737                                         creatinine\n",
       "1        CHEBI_16990                                          bilirubin\n",
       "2        CHEBI_17347                                       testosterone\n",
       "3        CHEBI_23965                                          estradiol\n",
       "4        CHEBI_26020                                          phosphate\n",
       "...              ...                                                ...\n",
       "15431  MONDO_0018763  Tubulinopathy-associated dysgyria | TUBA1A-ass...\n",
       "15432  MONDO_0014531  Amyotrophic lateral sclerosis type 22 | Amyotr...\n",
       "15433  MONDO_0100154  TUBB2A-related tubulinopathy | TUBB3-related t...\n",
       "15434  MONDO_0012408  Microphthalmia | cataracts | and iris abnormal...\n",
       "15435  MONDO_0012409  Isolated microphthalmia 2 | VSX2-related Micro...\n",
       "\n",
       "[15436 rows x 2 columns]"
      ]
     },
     "execution_count": 7,
     "metadata": {},
     "output_type": "execute_result"
    }
   ],
   "source": [
    "input_file = source_dir / \"ont_codes_for_distance_25JAN2023.csv\"\n",
    "assert input_file.exists(), input_file\n",
    "\n",
    "raw_df = pd.read_csv(input_file)\n",
    "raw_df.info()\n",
    "raw_df"
   ]
  },
  {
   "cell_type": "code",
   "execution_count": 9,
   "id": "c8da55e1-5d77-4e00-ad2a-5b976e8500b1",
   "metadata": {
    "execution": {
     "iopub.execute_input": "2023-01-26T11:08:22.969298Z",
     "iopub.status.busy": "2023-01-26T11:08:22.968609Z",
     "iopub.status.idle": "2023-01-26T11:08:23.003619Z",
     "shell.execute_reply": "2023-01-26T11:08:23.001974Z",
     "shell.execute_reply.started": "2023-01-26T11:08:22.969241Z"
    },
    "tags": []
   },
   "outputs": [
    {
     "name": "stdout",
     "output_type": "stream",
     "text": [
      "15436\n",
      "15436\n"
     ]
    }
   ],
   "source": [
    "print(raw_df.__len__())\n",
    "print(raw_df[\"EFO_ID\"].drop_duplicates().__len__())"
   ]
  },
  {
   "cell_type": "code",
   "execution_count": 10,
   "id": "e99f4a9c-6f6d-45e6-ba7e-a587f2c8532b",
   "metadata": {
    "execution": {
     "iopub.execute_input": "2023-01-26T11:08:53.148296Z",
     "iopub.status.busy": "2023-01-26T11:08:53.147476Z",
     "iopub.status.idle": "2023-01-26T11:08:53.178615Z",
     "shell.execute_reply": "2023-01-26T11:08:53.177905Z",
     "shell.execute_reply.started": "2023-01-26T11:08:53.148240Z"
    },
    "tags": []
   },
   "outputs": [
    {
     "data": {
      "text/plain": [
       "15436"
      ]
     },
     "execution_count": 10,
     "metadata": {},
     "output_type": "execute_result"
    }
   ],
   "source": [
    "raw_df[\"EFO_Term\"].dropna().__len__()"
   ]
  }
 ],
 "metadata": {
  "kernelspec": {
   "display_name": "Python 3 (ipykernel)",
   "language": "python",
   "name": "python3"
  },
  "language_info": {
   "codemirror_mode": {
    "name": "ipython",
    "version": 3
   },
   "file_extension": ".py",
   "mimetype": "text/x-python",
   "name": "python",
   "nbconvert_exporter": "python",
   "pygments_lexer": "ipython3",
   "version": "3.8.13"
  }
 },
 "nbformat": 4,
 "nbformat_minor": 5
}
