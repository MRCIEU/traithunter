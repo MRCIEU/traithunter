{
 "cells": [
  {
   "cell_type": "code",
   "execution_count": 1,
   "id": "e1d21281-8a35-4fa1-ae35-6c531feccd30",
   "metadata": {
    "execution": {
     "iopub.execute_input": "2022-12-30T13:31:09.502713Z",
     "iopub.status.busy": "2022-12-30T13:31:09.502048Z",
     "iopub.status.idle": "2022-12-30T13:31:09.886832Z",
     "shell.execute_reply": "2022-12-30T13:31:09.885429Z",
     "shell.execute_reply.started": "2022-12-30T13:31:09.502576Z"
    },
    "tags": []
   },
   "outputs": [],
   "source": [
    "%load_ext autoreload\n",
    "%autoreload 2\n",
    "\n",
    "%load_ext lab_black"
   ]
  },
  {
   "cell_type": "code",
   "execution_count": 2,
   "id": "4855659f-4c8b-4647-8492-78f0cab173b0",
   "metadata": {
    "execution": {
     "iopub.execute_input": "2022-12-30T13:31:10.916076Z",
     "iopub.status.busy": "2022-12-30T13:31:10.915474Z",
     "iopub.status.idle": "2022-12-30T13:31:10.936317Z",
     "shell.execute_reply": "2022-12-30T13:31:10.935359Z",
     "shell.execute_reply.started": "2022-12-30T13:31:10.916022Z"
    },
    "tags": []
   },
   "outputs": [],
   "source": [
    "import sys\n",
    "from pathlib import Path"
   ]
  },
  {
   "cell_type": "code",
   "execution_count": 3,
   "id": "e94e87c9-7890-4861-b74c-7f64ac5ca15d",
   "metadata": {
    "execution": {
     "iopub.execute_input": "2022-12-30T13:31:11.797404Z",
     "iopub.status.busy": "2022-12-30T13:31:11.796809Z",
     "iopub.status.idle": "2022-12-30T13:31:11.820760Z",
     "shell.execute_reply": "2022-12-30T13:31:11.819587Z",
     "shell.execute_reply.started": "2022-12-30T13:31:11.797352Z"
    },
    "tags": []
   },
   "outputs": [
    {
     "name": "stdout",
     "output_type": "stream",
     "text": [
      "/data/ik18445_cache/projects/phenotype-mapping/analysis/notebooks/mvp_ontology_distance\n"
     ]
    }
   ],
   "source": [
    "_pwd = Path(\".\").resolve()\n",
    "print(_pwd)\n",
    "sys.path.append(str(_pwd))"
   ]
  },
  {
   "cell_type": "code",
   "execution_count": 4,
   "id": "383ff1cd-ec3f-4a19-a99e-806e646b4a22",
   "metadata": {
    "execution": {
     "iopub.execute_input": "2022-12-30T13:31:12.841018Z",
     "iopub.status.busy": "2022-12-30T13:31:12.840422Z",
     "iopub.status.idle": "2022-12-30T13:31:13.537932Z",
     "shell.execute_reply": "2022-12-30T13:31:13.537010Z",
     "shell.execute_reply.started": "2022-12-30T13:31:12.840965Z"
    },
    "tags": []
   },
   "outputs": [],
   "source": [
    "import pandas as pd\n",
    "import janitor\n",
    "from pydash import py_"
   ]
  },
  {
   "cell_type": "code",
   "execution_count": 5,
   "id": "d07d3140-1512-4e8a-9ff2-a47ad8f544a9",
   "metadata": {
    "execution": {
     "iopub.execute_input": "2022-12-30T13:31:18.884738Z",
     "iopub.status.busy": "2022-12-30T13:31:18.883788Z",
     "iopub.status.idle": "2022-12-30T13:31:18.910191Z",
     "shell.execute_reply": "2022-12-30T13:31:18.909275Z",
     "shell.execute_reply.started": "2022-12-30T13:31:18.884678Z"
    },
    "tags": []
   },
   "outputs": [],
   "source": [
    "from common_funcs import utils"
   ]
  },
  {
   "cell_type": "code",
   "execution_count": 6,
   "id": "37e79f53-5b7e-4bd1-8e9f-005aeb617a6f",
   "metadata": {
    "execution": {
     "iopub.execute_input": "2022-12-30T13:31:19.676663Z",
     "iopub.status.busy": "2022-12-30T13:31:19.676042Z",
     "iopub.status.idle": "2022-12-30T13:31:19.704050Z",
     "shell.execute_reply": "2022-12-30T13:31:19.703237Z",
     "shell.execute_reply.started": "2022-12-30T13:31:19.676595Z"
    },
    "tags": []
   },
   "outputs": [],
   "source": [
    "proj_root = utils.find_project_root(\"docker-compose.yml\")\n",
    "assert proj_root.exists(), proj_root\n",
    "\n",
    "data_dir = proj_root / \"data\"\n",
    "input_data_path = (\n",
    "    data_dir / \"mvp-efo-terms-2022-12\" / \"efo_all_sources_wide_22DEC2022.csv\"\n",
    ")\n",
    "assert input_data_path.exists(), input_data_path"
   ]
  },
  {
   "cell_type": "code",
   "execution_count": 7,
   "id": "4cfa581c-2349-4672-9777-72c7d89d7d03",
   "metadata": {
    "execution": {
     "iopub.execute_input": "2022-12-30T13:31:20.836622Z",
     "iopub.status.busy": "2022-12-30T13:31:20.835999Z",
     "iopub.status.idle": "2022-12-30T13:31:20.967125Z",
     "shell.execute_reply": "2022-12-30T13:31:20.966136Z",
     "shell.execute_reply.started": "2022-12-30T13:31:20.836567Z"
    },
    "tags": []
   },
   "outputs": [
    {
     "name": "stdout",
     "output_type": "stream",
     "text": [
      "<class 'pandas.core.frame.DataFrame'>\n",
      "RangeIndex: 11091 entries, 0 to 11090\n",
      "Data columns (total 12 columns):\n",
      " #   Column             Non-Null Count  Dtype \n",
      "---  ------             --------------  ----- \n",
      " 0   EFO_ID             11091 non-null  object\n",
      " 1   EFO_Term           11091 non-null  object\n",
      " 2   Adverse_events     11091 non-null  int64 \n",
      " 3   Box_warnings       11091 non-null  int64 \n",
      " 4   Drug_indications   11091 non-null  int64 \n",
      " 5   FinnGen            11091 non-null  int64 \n",
      " 6   GWAS_Catalog       11091 non-null  int64 \n",
      " 7   MVP/UKBB           11091 non-null  int64 \n",
      " 8   OMIM               11091 non-null  int64 \n",
      " 9   Safety_literature  11091 non-null  int64 \n",
      " 10  adverse_events     11091 non-null  int64 \n",
      " 11  pLOF               11091 non-null  int64 \n",
      "dtypes: int64(10), object(2)\n",
      "memory usage: 1.0+ MB\n",
      "None\n"
     ]
    },
    {
     "data": {
      "text/html": [
       "<div>\n",
       "<style scoped>\n",
       "    .dataframe tbody tr th:only-of-type {\n",
       "        vertical-align: middle;\n",
       "    }\n",
       "\n",
       "    .dataframe tbody tr th {\n",
       "        vertical-align: top;\n",
       "    }\n",
       "\n",
       "    .dataframe thead th {\n",
       "        text-align: right;\n",
       "    }\n",
       "</style>\n",
       "<table border=\"1\" class=\"dataframe\">\n",
       "  <thead>\n",
       "    <tr style=\"text-align: right;\">\n",
       "      <th></th>\n",
       "      <th>EFO_ID</th>\n",
       "      <th>EFO_Term</th>\n",
       "      <th>Adverse_events</th>\n",
       "      <th>Box_warnings</th>\n",
       "      <th>Drug_indications</th>\n",
       "      <th>FinnGen</th>\n",
       "      <th>GWAS_Catalog</th>\n",
       "      <th>MVP/UKBB</th>\n",
       "      <th>OMIM</th>\n",
       "      <th>Safety_literature</th>\n",
       "      <th>adverse_events</th>\n",
       "      <th>pLOF</th>\n",
       "    </tr>\n",
       "  </thead>\n",
       "  <tbody>\n",
       "    <tr>\n",
       "      <th>0</th>\n",
       "      <td>CHEBI_16737</td>\n",
       "      <td>creatinine</td>\n",
       "      <td>0</td>\n",
       "      <td>0</td>\n",
       "      <td>0</td>\n",
       "      <td>0</td>\n",
       "      <td>0</td>\n",
       "      <td>1</td>\n",
       "      <td>0</td>\n",
       "      <td>0</td>\n",
       "      <td>0</td>\n",
       "      <td>0</td>\n",
       "    </tr>\n",
       "    <tr>\n",
       "      <th>1</th>\n",
       "      <td>CHEBI_16990</td>\n",
       "      <td>bilirubin</td>\n",
       "      <td>0</td>\n",
       "      <td>0</td>\n",
       "      <td>0</td>\n",
       "      <td>0</td>\n",
       "      <td>0</td>\n",
       "      <td>1</td>\n",
       "      <td>0</td>\n",
       "      <td>0</td>\n",
       "      <td>0</td>\n",
       "      <td>0</td>\n",
       "    </tr>\n",
       "    <tr>\n",
       "      <th>2</th>\n",
       "      <td>CHEBI_17347</td>\n",
       "      <td>testosterone</td>\n",
       "      <td>0</td>\n",
       "      <td>0</td>\n",
       "      <td>0</td>\n",
       "      <td>0</td>\n",
       "      <td>0</td>\n",
       "      <td>1</td>\n",
       "      <td>0</td>\n",
       "      <td>0</td>\n",
       "      <td>0</td>\n",
       "      <td>0</td>\n",
       "    </tr>\n",
       "    <tr>\n",
       "      <th>3</th>\n",
       "      <td>CHEBI_23965</td>\n",
       "      <td>estradiol</td>\n",
       "      <td>0</td>\n",
       "      <td>0</td>\n",
       "      <td>0</td>\n",
       "      <td>0</td>\n",
       "      <td>0</td>\n",
       "      <td>1</td>\n",
       "      <td>0</td>\n",
       "      <td>0</td>\n",
       "      <td>0</td>\n",
       "      <td>0</td>\n",
       "    </tr>\n",
       "    <tr>\n",
       "      <th>4</th>\n",
       "      <td>CHEBI_26020</td>\n",
       "      <td>phosphate</td>\n",
       "      <td>0</td>\n",
       "      <td>0</td>\n",
       "      <td>0</td>\n",
       "      <td>0</td>\n",
       "      <td>0</td>\n",
       "      <td>1</td>\n",
       "      <td>0</td>\n",
       "      <td>0</td>\n",
       "      <td>0</td>\n",
       "      <td>0</td>\n",
       "    </tr>\n",
       "    <tr>\n",
       "      <th>...</th>\n",
       "      <td>...</td>\n",
       "      <td>...</td>\n",
       "      <td>...</td>\n",
       "      <td>...</td>\n",
       "      <td>...</td>\n",
       "      <td>...</td>\n",
       "      <td>...</td>\n",
       "      <td>...</td>\n",
       "      <td>...</td>\n",
       "      <td>...</td>\n",
       "      <td>...</td>\n",
       "      <td>...</td>\n",
       "    </tr>\n",
       "    <tr>\n",
       "      <th>11086</th>\n",
       "      <td>UBERON_0000947</td>\n",
       "      <td>aorta</td>\n",
       "      <td>0</td>\n",
       "      <td>0</td>\n",
       "      <td>0</td>\n",
       "      <td>1</td>\n",
       "      <td>0</td>\n",
       "      <td>0</td>\n",
       "      <td>0</td>\n",
       "      <td>0</td>\n",
       "      <td>0</td>\n",
       "      <td>0</td>\n",
       "    </tr>\n",
       "    <tr>\n",
       "      <th>11087</th>\n",
       "      <td>UBERON_0001467</td>\n",
       "      <td>shoulder</td>\n",
       "      <td>0</td>\n",
       "      <td>0</td>\n",
       "      <td>0</td>\n",
       "      <td>1</td>\n",
       "      <td>0</td>\n",
       "      <td>0</td>\n",
       "      <td>0</td>\n",
       "      <td>0</td>\n",
       "      <td>0</td>\n",
       "      <td>0</td>\n",
       "    </tr>\n",
       "    <tr>\n",
       "      <th>11088</th>\n",
       "      <td>UBERON_0002198</td>\n",
       "      <td>neurohypophysis</td>\n",
       "      <td>0</td>\n",
       "      <td>0</td>\n",
       "      <td>0</td>\n",
       "      <td>0</td>\n",
       "      <td>0</td>\n",
       "      <td>1</td>\n",
       "      <td>0</td>\n",
       "      <td>0</td>\n",
       "      <td>0</td>\n",
       "      <td>0</td>\n",
       "    </tr>\n",
       "    <tr>\n",
       "      <th>11089</th>\n",
       "      <td>UBERON_0002384</td>\n",
       "      <td>connective tissue</td>\n",
       "      <td>0</td>\n",
       "      <td>0</td>\n",
       "      <td>0</td>\n",
       "      <td>1</td>\n",
       "      <td>0</td>\n",
       "      <td>0</td>\n",
       "      <td>0</td>\n",
       "      <td>0</td>\n",
       "      <td>0</td>\n",
       "      <td>0</td>\n",
       "    </tr>\n",
       "    <tr>\n",
       "      <th>11090</th>\n",
       "      <td>UBERON_0010996</td>\n",
       "      <td>articular cartilage of joint</td>\n",
       "      <td>0</td>\n",
       "      <td>0</td>\n",
       "      <td>0</td>\n",
       "      <td>0</td>\n",
       "      <td>1</td>\n",
       "      <td>0</td>\n",
       "      <td>0</td>\n",
       "      <td>0</td>\n",
       "      <td>0</td>\n",
       "      <td>0</td>\n",
       "    </tr>\n",
       "  </tbody>\n",
       "</table>\n",
       "<p>11091 rows × 12 columns</p>\n",
       "</div>"
      ],
      "text/plain": [
       "               EFO_ID                      EFO_Term  Adverse_events  \\\n",
       "0         CHEBI_16737                    creatinine               0   \n",
       "1         CHEBI_16990                     bilirubin               0   \n",
       "2         CHEBI_17347                  testosterone               0   \n",
       "3         CHEBI_23965                     estradiol               0   \n",
       "4         CHEBI_26020                     phosphate               0   \n",
       "...               ...                           ...             ...   \n",
       "11086  UBERON_0000947                         aorta               0   \n",
       "11087  UBERON_0001467                      shoulder               0   \n",
       "11088  UBERON_0002198               neurohypophysis               0   \n",
       "11089  UBERON_0002384             connective tissue               0   \n",
       "11090  UBERON_0010996  articular cartilage of joint               0   \n",
       "\n",
       "       Box_warnings  Drug_indications  FinnGen  GWAS_Catalog  MVP/UKBB  OMIM  \\\n",
       "0                 0                 0        0             0         1     0   \n",
       "1                 0                 0        0             0         1     0   \n",
       "2                 0                 0        0             0         1     0   \n",
       "3                 0                 0        0             0         1     0   \n",
       "4                 0                 0        0             0         1     0   \n",
       "...             ...               ...      ...           ...       ...   ...   \n",
       "11086             0                 0        1             0         0     0   \n",
       "11087             0                 0        1             0         0     0   \n",
       "11088             0                 0        0             0         1     0   \n",
       "11089             0                 0        1             0         0     0   \n",
       "11090             0                 0        0             1         0     0   \n",
       "\n",
       "       Safety_literature  adverse_events  pLOF  \n",
       "0                      0               0     0  \n",
       "1                      0               0     0  \n",
       "2                      0               0     0  \n",
       "3                      0               0     0  \n",
       "4                      0               0     0  \n",
       "...                  ...             ...   ...  \n",
       "11086                  0               0     0  \n",
       "11087                  0               0     0  \n",
       "11088                  0               0     0  \n",
       "11089                  0               0     0  \n",
       "11090                  0               0     0  \n",
       "\n",
       "[11091 rows x 12 columns]"
      ]
     },
     "execution_count": 7,
     "metadata": {},
     "output_type": "execute_result"
    }
   ],
   "source": [
    "raw_df = pd.read_csv(input_data_path)\n",
    "print(raw_df.info())\n",
    "raw_df"
   ]
  },
  {
   "cell_type": "code",
   "execution_count": 8,
   "id": "334778fd-ad52-4b06-bf91-3bdd9a3570e6",
   "metadata": {
    "execution": {
     "iopub.execute_input": "2022-12-30T13:31:23.007440Z",
     "iopub.status.busy": "2022-12-30T13:31:23.006827Z",
     "iopub.status.idle": "2022-12-30T13:31:23.035788Z",
     "shell.execute_reply": "2022-12-30T13:31:23.034952Z",
     "shell.execute_reply.started": "2022-12-30T13:31:23.007386Z"
    },
    "tags": []
   },
   "outputs": [
    {
     "data": {
      "text/plain": [
       "11091"
      ]
     },
     "execution_count": 8,
     "metadata": {},
     "output_type": "execute_result"
    }
   ],
   "source": [
    "raw_df[\"EFO_ID\"].drop_duplicates().__len__()"
   ]
  },
  {
   "cell_type": "code",
   "execution_count": 9,
   "id": "32bb3605-5d90-4f28-b6ab-8aca4674c3ba",
   "metadata": {
    "execution": {
     "iopub.execute_input": "2022-12-30T13:31:24.322578Z",
     "iopub.status.busy": "2022-12-30T13:31:24.321829Z",
     "iopub.status.idle": "2022-12-30T13:31:24.355011Z",
     "shell.execute_reply": "2022-12-30T13:31:24.354075Z",
     "shell.execute_reply.started": "2022-12-30T13:31:24.322522Z"
    },
    "tags": []
   },
   "outputs": [
    {
     "data": {
      "text/plain": [
       "11091"
      ]
     },
     "execution_count": 9,
     "metadata": {},
     "output_type": "execute_result"
    }
   ],
   "source": [
    "raw_df[[\"EFO_ID\", \"EFO_Term\"]].drop_duplicates().__len__()"
   ]
  },
  {
   "cell_type": "code",
   "execution_count": 10,
   "id": "05bfbaf3-6dcc-4885-9a5c-4a850399a2c6",
   "metadata": {
    "execution": {
     "iopub.execute_input": "2022-12-30T13:31:27.558847Z",
     "iopub.status.busy": "2022-12-30T13:31:27.558235Z",
     "iopub.status.idle": "2022-12-30T13:31:27.590102Z",
     "shell.execute_reply": "2022-12-30T13:31:27.589174Z",
     "shell.execute_reply.started": "2022-12-30T13:31:27.558794Z"
    },
    "tags": []
   },
   "outputs": [
    {
     "data": {
      "text/plain": [
       "10847"
      ]
     },
     "execution_count": 10,
     "metadata": {},
     "output_type": "execute_result"
    }
   ],
   "source": [
    "raw_df[[\"EFO_Term\"]].drop_duplicates().__len__()"
   ]
  },
  {
   "cell_type": "code",
   "execution_count": 11,
   "id": "2d0ce8a8-7dbb-4ead-a351-e8bc23ca9e1d",
   "metadata": {
    "execution": {
     "iopub.execute_input": "2022-12-30T13:31:30.257220Z",
     "iopub.status.busy": "2022-12-30T13:31:30.256469Z",
     "iopub.status.idle": "2022-12-30T13:31:30.290125Z",
     "shell.execute_reply": "2022-12-30T13:31:30.289310Z",
     "shell.execute_reply.started": "2022-12-30T13:31:30.257164Z"
    },
    "tags": []
   },
   "outputs": [
    {
     "data": {
      "text/html": [
       "<div>\n",
       "<style scoped>\n",
       "    .dataframe tbody tr th:only-of-type {\n",
       "        vertical-align: middle;\n",
       "    }\n",
       "\n",
       "    .dataframe tbody tr th {\n",
       "        vertical-align: top;\n",
       "    }\n",
       "\n",
       "    .dataframe thead th {\n",
       "        text-align: right;\n",
       "    }\n",
       "</style>\n",
       "<table border=\"1\" class=\"dataframe\">\n",
       "  <thead>\n",
       "    <tr style=\"text-align: right;\">\n",
       "      <th></th>\n",
       "      <th>EFO_ID</th>\n",
       "      <th>EFO_Term</th>\n",
       "      <th>Adverse_events</th>\n",
       "      <th>Box_warnings</th>\n",
       "      <th>Drug_indications</th>\n",
       "      <th>FinnGen</th>\n",
       "      <th>GWAS_Catalog</th>\n",
       "      <th>MVP/UKBB</th>\n",
       "      <th>OMIM</th>\n",
       "      <th>Safety_literature</th>\n",
       "      <th>adverse_events</th>\n",
       "      <th>pLOF</th>\n",
       "    </tr>\n",
       "  </thead>\n",
       "  <tbody>\n",
       "  </tbody>\n",
       "</table>\n",
       "</div>"
      ],
      "text/plain": [
       "Empty DataFrame\n",
       "Columns: [EFO_ID, EFO_Term, Adverse_events, Box_warnings, Drug_indications, FinnGen, GWAS_Catalog, MVP/UKBB, OMIM, Safety_literature, adverse_events, pLOF]\n",
       "Index: []"
      ]
     },
     "execution_count": 11,
     "metadata": {},
     "output_type": "execute_result"
    }
   ],
   "source": [
    "dupes = raw_df[raw_df.duplicated([\"EFO_ID\"], keep=False)]\n",
    "dupes"
   ]
  },
  {
   "cell_type": "code",
   "execution_count": 18,
   "id": "99b76d8c-1865-4f4a-81bb-e620c0f238fe",
   "metadata": {
    "execution": {
     "iopub.execute_input": "2022-12-22T12:46:42.537899Z",
     "iopub.status.busy": "2022-12-22T12:46:42.537288Z",
     "iopub.status.idle": "2022-12-22T12:46:42.585838Z",
     "shell.execute_reply": "2022-12-22T12:46:42.584282Z",
     "shell.execute_reply.started": "2022-12-22T12:46:42.537865Z"
    },
    "tags": []
   },
   "outputs": [],
   "source": [
    "dupes.to_csv(\"duplicated.csv\", index=True)"
   ]
  }
 ],
 "metadata": {
  "kernelspec": {
   "display_name": "Python 3 (ipykernel)",
   "language": "python",
   "name": "python3"
  },
  "language_info": {
   "codemirror_mode": {
    "name": "ipython",
    "version": 3
   },
   "file_extension": ".py",
   "mimetype": "text/x-python",
   "name": "python",
   "nbconvert_exporter": "python",
   "pygments_lexer": "ipython3",
   "version": "3.8.13"
  }
 },
 "nbformat": 4,
 "nbformat_minor": 5
}
