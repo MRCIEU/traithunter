{
 "cells": [
  {
   "cell_type": "code",
   "execution_count": 1,
   "id": "24c1e76d-a5fe-4cea-bf43-c7ea4a233735",
   "metadata": {
    "execution": {
     "iopub.execute_input": "2022-06-08T13:46:17.268283Z",
     "iopub.status.busy": "2022-06-08T13:46:17.267809Z",
     "iopub.status.idle": "2022-06-08T13:46:17.292007Z",
     "shell.execute_reply": "2022-06-08T13:46:17.291395Z",
     "shell.execute_reply.started": "2022-06-08T13:46:17.268145Z"
    },
    "tags": []
   },
   "outputs": [],
   "source": [
    "%load_ext autoreload\n",
    "%autoreload 2"
   ]
  },
  {
   "cell_type": "code",
   "execution_count": 2,
   "id": "ab7b881c-9076-4611-9477-c77680def2ec",
   "metadata": {
    "execution": {
     "iopub.execute_input": "2022-06-08T13:46:17.293776Z",
     "iopub.status.busy": "2022-06-08T13:46:17.293199Z",
     "iopub.status.idle": "2022-06-08T13:46:18.140338Z",
     "shell.execute_reply": "2022-06-08T13:46:18.139834Z",
     "shell.execute_reply.started": "2022-06-08T13:46:17.293739Z"
    },
    "tags": []
   },
   "outputs": [],
   "source": [
    "import re\n",
    "import json\n",
    "from pathlib import Path\n",
    "from typing import Any, Dict, List\n",
    "\n",
    "import requests\n",
    "import pandas as pd\n",
    "import janitor\n",
    "import numpy as np\n",
    "from loguru import logger"
   ]
  },
  {
   "cell_type": "code",
   "execution_count": 3,
   "id": "34c1f004-656c-471b-849d-4948fa0cdd4e",
   "metadata": {
    "execution": {
     "iopub.execute_input": "2022-06-08T13:46:18.141177Z",
     "iopub.status.busy": "2022-06-08T13:46:18.141036Z",
     "iopub.status.idle": "2022-06-08T13:46:18.157485Z",
     "shell.execute_reply": "2022-06-08T13:46:18.156828Z",
     "shell.execute_reply.started": "2022-06-08T13:46:18.141159Z"
    },
    "tags": []
   },
   "outputs": [],
   "source": [
    "import sys\n",
    "sys.path.append(\".\")\n",
    "\n",
    "import fn"
   ]
  },
  {
   "cell_type": "code",
   "execution_count": 4,
   "id": "79cb33d1-ac78-4654-b049-5ca20aadd078",
   "metadata": {
    "execution": {
     "iopub.execute_input": "2022-06-08T13:46:18.158830Z",
     "iopub.status.busy": "2022-06-08T13:46:18.158683Z",
     "iopub.status.idle": "2022-06-08T13:46:18.200382Z",
     "shell.execute_reply": "2022-06-08T13:46:18.199894Z",
     "shell.execute_reply.started": "2022-06-08T13:46:18.158811Z"
    },
    "tags": []
   },
   "outputs": [
    {
     "name": "stdout",
     "output_type": "stream",
     "text": [
      "<class 'pandas.core.frame.DataFrame'>\n",
      "RangeIndex: 596 entries, 0 to 595\n",
      "Data columns (total 9 columns):\n",
      " #   Column         Non-Null Count  Dtype  \n",
      "---  ------         --------------  -----  \n",
      " 0   Phecode        596 non-null    float64\n",
      " 1   description    596 non-null    object \n",
      " 2   dataset        596 non-null    object \n",
      " 3   MVP_Cases      596 non-null    float64\n",
      " 4   MVP_Controls   596 non-null    float64\n",
      " 5   trait_type     596 non-null    object \n",
      " 6   UKBB_filename  371 non-null    object \n",
      " 7   UKBB_Cases     371 non-null    float64\n",
      " 8   UKBB_Controls  371 non-null    float64\n",
      "dtypes: float64(5), object(4)\n",
      "memory usage: 42.0+ KB\n",
      "None\n"
     ]
    },
    {
     "data": {
      "text/html": [
       "<div>\n",
       "<style scoped>\n",
       "    .dataframe tbody tr th:only-of-type {\n",
       "        vertical-align: middle;\n",
       "    }\n",
       "\n",
       "    .dataframe tbody tr th {\n",
       "        vertical-align: top;\n",
       "    }\n",
       "\n",
       "    .dataframe thead th {\n",
       "        text-align: right;\n",
       "    }\n",
       "</style>\n",
       "<table border=\"1\" class=\"dataframe\">\n",
       "  <thead>\n",
       "    <tr style=\"text-align: right;\">\n",
       "      <th></th>\n",
       "      <th>Phecode</th>\n",
       "      <th>description</th>\n",
       "      <th>dataset</th>\n",
       "      <th>MVP_Cases</th>\n",
       "      <th>MVP_Controls</th>\n",
       "      <th>trait_type</th>\n",
       "      <th>UKBB_filename</th>\n",
       "      <th>UKBB_Cases</th>\n",
       "      <th>UKBB_Controls</th>\n",
       "    </tr>\n",
       "  </thead>\n",
       "  <tbody>\n",
       "    <tr>\n",
       "      <th>0</th>\n",
       "      <td>8.51</td>\n",
       "      <td>Intestinal e.coli</td>\n",
       "      <td>MVP</td>\n",
       "      <td>57.0</td>\n",
       "      <td>463932.0</td>\n",
       "      <td>Phecode</td>\n",
       "      <td>NaN</td>\n",
       "      <td>NaN</td>\n",
       "      <td>NaN</td>\n",
       "    </tr>\n",
       "    <tr>\n",
       "      <th>1</th>\n",
       "      <td>31.00</td>\n",
       "      <td>Diseases due to other mycobacteria</td>\n",
       "      <td>MVP</td>\n",
       "      <td>790.0</td>\n",
       "      <td>463199.0</td>\n",
       "      <td>Phecode</td>\n",
       "      <td>NaN</td>\n",
       "      <td>NaN</td>\n",
       "      <td>NaN</td>\n",
       "    </tr>\n",
       "    <tr>\n",
       "      <th>2</th>\n",
       "      <td>41.11</td>\n",
       "      <td>Methicillin sensitive Staphylococcus aureus</td>\n",
       "      <td>MVP</td>\n",
       "      <td>4227.0</td>\n",
       "      <td>459762.0</td>\n",
       "      <td>Phecode</td>\n",
       "      <td>NaN</td>\n",
       "      <td>NaN</td>\n",
       "      <td>NaN</td>\n",
       "    </tr>\n",
       "    <tr>\n",
       "      <th>3</th>\n",
       "      <td>41.12</td>\n",
       "      <td>Methicillin resistant Staphylococcus aureus</td>\n",
       "      <td>MVP</td>\n",
       "      <td>4266.0</td>\n",
       "      <td>459723.0</td>\n",
       "      <td>Phecode</td>\n",
       "      <td>NaN</td>\n",
       "      <td>NaN</td>\n",
       "      <td>NaN</td>\n",
       "    </tr>\n",
       "    <tr>\n",
       "      <th>4</th>\n",
       "      <td>41.80</td>\n",
       "      <td>H. pylori</td>\n",
       "      <td>MVP</td>\n",
       "      <td>2616.0</td>\n",
       "      <td>461373.0</td>\n",
       "      <td>Phecode</td>\n",
       "      <td>NaN</td>\n",
       "      <td>NaN</td>\n",
       "      <td>NaN</td>\n",
       "    </tr>\n",
       "  </tbody>\n",
       "</table>\n",
       "</div>"
      ],
      "text/plain": [
       "   Phecode                                  description dataset  MVP_Cases  \\\n",
       "0     8.51                            Intestinal e.coli     MVP       57.0   \n",
       "1    31.00           Diseases due to other mycobacteria     MVP      790.0   \n",
       "2    41.11  Methicillin sensitive Staphylococcus aureus     MVP     4227.0   \n",
       "3    41.12  Methicillin resistant Staphylococcus aureus     MVP     4266.0   \n",
       "4    41.80                                    H. pylori     MVP     2616.0   \n",
       "\n",
       "   MVP_Controls trait_type UKBB_filename  UKBB_Cases  UKBB_Controls  \n",
       "0      463932.0    Phecode           NaN         NaN            NaN  \n",
       "1      463199.0    Phecode           NaN         NaN            NaN  \n",
       "2      459762.0    Phecode           NaN         NaN            NaN  \n",
       "3      459723.0    Phecode           NaN         NaN            NaN  \n",
       "4      461373.0    Phecode           NaN         NaN            NaN  "
      ]
     },
     "execution_count": 4,
     "metadata": {},
     "output_type": "execute_result"
    }
   ],
   "source": [
    "file_path = Path(\".\") / \"data\" / \"unmapped_to_EFO.csv\"\n",
    "assert file_path.exists(), file_path\n",
    "\n",
    "orig_df = pd.read_csv(file_path)\n",
    "print(orig_df.info())\n",
    "orig_df.head()"
   ]
  },
  {
   "cell_type": "code",
   "execution_count": 5,
   "id": "32527b53-e277-409a-b5ab-bb532e1029da",
   "metadata": {
    "execution": {
     "iopub.execute_input": "2022-06-08T13:46:18.201370Z",
     "iopub.status.busy": "2022-06-08T13:46:18.201099Z",
     "iopub.status.idle": "2022-06-08T13:46:18.225976Z",
     "shell.execute_reply": "2022-06-08T13:46:18.225252Z",
     "shell.execute_reply.started": "2022-06-08T13:46:18.201348Z"
    },
    "tags": []
   },
   "outputs": [
    {
     "name": "stdout",
     "output_type": "stream",
     "text": [
      "595\n"
     ]
    },
    {
     "data": {
      "text/html": [
       "<div>\n",
       "<style scoped>\n",
       "    .dataframe tbody tr th:only-of-type {\n",
       "        vertical-align: middle;\n",
       "    }\n",
       "\n",
       "    .dataframe tbody tr th {\n",
       "        vertical-align: top;\n",
       "    }\n",
       "\n",
       "    .dataframe thead th {\n",
       "        text-align: right;\n",
       "    }\n",
       "</style>\n",
       "<table border=\"1\" class=\"dataframe\">\n",
       "  <thead>\n",
       "    <tr style=\"text-align: right;\">\n",
       "      <th></th>\n",
       "      <th>Phecode</th>\n",
       "      <th>description</th>\n",
       "      <th>dataset</th>\n",
       "      <th>MVP_Cases</th>\n",
       "      <th>MVP_Controls</th>\n",
       "      <th>trait_type</th>\n",
       "      <th>UKBB_filename</th>\n",
       "      <th>UKBB_Cases</th>\n",
       "      <th>UKBB_Controls</th>\n",
       "    </tr>\n",
       "  </thead>\n",
       "  <tbody>\n",
       "    <tr>\n",
       "      <th>592</th>\n",
       "      <td>620.0</td>\n",
       "      <td>N89 Other noninflammatory disorders of vagina</td>\n",
       "      <td>UKBB+MVP</td>\n",
       "      <td>492.0</td>\n",
       "      <td>463497.0</td>\n",
       "      <td>icd10</td>\n",
       "      <td>icd10-N89-both_sexes.tsv.bgz</td>\n",
       "      <td>1692.0</td>\n",
       "      <td>418839.0</td>\n",
       "    </tr>\n",
       "    <tr>\n",
       "      <th>593</th>\n",
       "      <td>620.0</td>\n",
       "      <td>N90 Other noninflammatory disorders of vulva a...</td>\n",
       "      <td>UKBB+MVP</td>\n",
       "      <td>492.0</td>\n",
       "      <td>463497.0</td>\n",
       "      <td>icd10</td>\n",
       "      <td>icd10-N90-both_sexes.tsv.bgz</td>\n",
       "      <td>2175.0</td>\n",
       "      <td>418356.0</td>\n",
       "    </tr>\n",
       "  </tbody>\n",
       "</table>\n",
       "</div>"
      ],
      "text/plain": [
       "     Phecode                                        description   dataset  \\\n",
       "592    620.0      N89 Other noninflammatory disorders of vagina  UKBB+MVP   \n",
       "593    620.0  N90 Other noninflammatory disorders of vulva a...  UKBB+MVP   \n",
       "\n",
       "     MVP_Cases  MVP_Controls trait_type                 UKBB_filename  \\\n",
       "592      492.0      463497.0      icd10  icd10-N89-both_sexes.tsv.bgz   \n",
       "593      492.0      463497.0      icd10  icd10-N90-both_sexes.tsv.bgz   \n",
       "\n",
       "     UKBB_Cases  UKBB_Controls  \n",
       "592      1692.0       418839.0  \n",
       "593      2175.0       418356.0  "
      ]
     },
     "execution_count": 5,
     "metadata": {},
     "output_type": "execute_result"
    }
   ],
   "source": [
    "# check dupes\n",
    "\n",
    "print(orig_df[\"Phecode\"].drop_duplicates().pipe(len))\n",
    "orig_df[orig_df[\"Phecode\"].duplicated(keep=False)]"
   ]
  },
  {
   "cell_type": "code",
   "execution_count": 6,
   "id": "6a4e9609-6b8c-4894-b02b-4e1e5c117853",
   "metadata": {
    "execution": {
     "iopub.execute_input": "2022-06-08T13:46:18.226874Z",
     "iopub.status.busy": "2022-06-08T13:46:18.226715Z",
     "iopub.status.idle": "2022-06-08T13:46:18.244904Z",
     "shell.execute_reply": "2022-06-08T13:46:18.244406Z",
     "shell.execute_reply.started": "2022-06-08T13:46:18.226854Z"
    },
    "tags": []
   },
   "outputs": [
    {
     "name": "stdout",
     "output_type": "stream",
     "text": [
      "other misadventures\n",
      "dieseases due to other mycobacteria\n",
      "foo bar\n",
      "foo   bar\n"
     ]
    }
   ],
   "source": [
    "TERMS = [\"Y65 Other misadventures\", \"Dieseases due to other mycobacteria\", \"foo/bar\", \"foo / bar\"]\n",
    "\n",
    "for _ in TERMS:\n",
    "    print(fn.clean_text(_))"
   ]
  },
  {
   "cell_type": "code",
   "execution_count": 7,
   "id": "73a40e29-7525-4d7b-87e8-940448a5ce93",
   "metadata": {
    "execution": {
     "iopub.execute_input": "2022-06-08T13:46:18.246203Z",
     "iopub.status.busy": "2022-06-08T13:46:18.245622Z",
     "iopub.status.idle": "2022-06-08T13:46:18.463247Z",
     "shell.execute_reply": "2022-06-08T13:46:18.462314Z",
     "shell.execute_reply.started": "2022-06-08T13:46:18.246181Z"
    },
    "tags": []
   },
   "outputs": [
    {
     "name": "stdout",
     "output_type": "stream",
     "text": [
      "0 [{'id': 'http://purl.obolibrary.org/obo/MONDO_0016677', 'name': 'toxic or drug-related embryofetopathy', 'score': 0.38665379999999994}, {'id': 'http://purl.obolibrary.org/obo/CHEBI_50177', 'name': 'dermatologic drug', 'score': 0.3778478999999999}, {'id': 'http://www.ebi.ac.uk/efo/EFO_0006405', 'name': 'G142', 'score': 0.358098}] \n",
      "\n",
      "1 [{'id': 'http://www.orpha.net/ORDO/Orphanet_183710', 'name': 'Genetic susceptibility to infections due to particular pathogens', 'score': 0.7555482}, {'id': 'http://purl.obolibrary.org/obo/MONDO_0020636', 'name': 'mendelian susceptibility to mycobacterial diseases due to a complete deficiency', 'score': 0.6545917000000001}, {'id': 'http://www.orpha.net/ORDO/Orphanet_99898', 'name': 'Mendelian susceptibility to mycobacterial diseases due to complete IFNgammaR1 deficiency', 'score': 0.6521646000000001}] \n",
      "\n"
     ]
    }
   ],
   "source": [
    "TERMS = [\"Y65 Other misadventures\", \"Dieseases due to other mycobacteria\"]\n",
    "\n",
    "for idx, _ in enumerate(TERMS):\n",
    "    print(idx, fn.search_epigraphdb_efo(_), \"\\n\")"
   ]
  },
  {
   "cell_type": "code",
   "execution_count": 8,
   "id": "3fe6c456-e623-44fb-9d1e-9f0ce67bc28e",
   "metadata": {
    "execution": {
     "iopub.execute_input": "2022-06-08T13:46:18.465049Z",
     "iopub.status.busy": "2022-06-08T13:46:18.464611Z",
     "iopub.status.idle": "2022-06-08T13:46:18.503229Z",
     "shell.execute_reply": "2022-06-08T13:46:18.502637Z",
     "shell.execute_reply.started": "2022-06-08T13:46:18.465008Z"
    },
    "tags": []
   },
   "outputs": [
    {
     "name": "stdout",
     "output_type": "stream",
     "text": [
      "<class 'pandas.core.frame.DataFrame'>\n",
      "RangeIndex: 596 entries, 0 to 595\n",
      "Data columns (total 3 columns):\n",
      " #   Column      Non-Null Count  Dtype  \n",
      "---  ------      --------------  -----  \n",
      " 0   id          596 non-null    float64\n",
      " 1   label       596 non-null    object \n",
      " 2   clean_text  596 non-null    object \n",
      "dtypes: float64(1), object(2)\n",
      "memory usage: 14.1+ KB\n",
      "None\n"
     ]
    },
    {
     "data": {
      "text/html": [
       "<div>\n",
       "<style scoped>\n",
       "    .dataframe tbody tr th:only-of-type {\n",
       "        vertical-align: middle;\n",
       "    }\n",
       "\n",
       "    .dataframe tbody tr th {\n",
       "        vertical-align: top;\n",
       "    }\n",
       "\n",
       "    .dataframe thead th {\n",
       "        text-align: right;\n",
       "    }\n",
       "</style>\n",
       "<table border=\"1\" class=\"dataframe\">\n",
       "  <thead>\n",
       "    <tr style=\"text-align: right;\">\n",
       "      <th></th>\n",
       "      <th>id</th>\n",
       "      <th>label</th>\n",
       "      <th>clean_text</th>\n",
       "    </tr>\n",
       "  </thead>\n",
       "  <tbody>\n",
       "    <tr>\n",
       "      <th>0</th>\n",
       "      <td>8.51</td>\n",
       "      <td>Intestinal e.coli</td>\n",
       "      <td>intestinal e coli</td>\n",
       "    </tr>\n",
       "    <tr>\n",
       "      <th>1</th>\n",
       "      <td>31.00</td>\n",
       "      <td>Diseases due to other mycobacteria</td>\n",
       "      <td>diseases due to other mycobacteria</td>\n",
       "    </tr>\n",
       "    <tr>\n",
       "      <th>2</th>\n",
       "      <td>41.11</td>\n",
       "      <td>Methicillin sensitive Staphylococcus aureus</td>\n",
       "      <td>methicillin sensitive staphylococcus aureus</td>\n",
       "    </tr>\n",
       "    <tr>\n",
       "      <th>3</th>\n",
       "      <td>41.12</td>\n",
       "      <td>Methicillin resistant Staphylococcus aureus</td>\n",
       "      <td>methicillin resistant staphylococcus aureus</td>\n",
       "    </tr>\n",
       "    <tr>\n",
       "      <th>4</th>\n",
       "      <td>41.80</td>\n",
       "      <td>H. pylori</td>\n",
       "      <td>h  pylori</td>\n",
       "    </tr>\n",
       "    <tr>\n",
       "      <th>...</th>\n",
       "      <td>...</td>\n",
       "      <td>...</td>\n",
       "      <td>...</td>\n",
       "    </tr>\n",
       "    <tr>\n",
       "      <th>591</th>\n",
       "      <td>704.12</td>\n",
       "      <td>L65 Other nonscarring hair loss</td>\n",
       "      <td>other nonscarring hair loss</td>\n",
       "    </tr>\n",
       "    <tr>\n",
       "      <th>592</th>\n",
       "      <td>620.00</td>\n",
       "      <td>N89 Other noninflammatory disorders of vagina</td>\n",
       "      <td>other noninflammatory disorders of vagina</td>\n",
       "    </tr>\n",
       "    <tr>\n",
       "      <th>593</th>\n",
       "      <td>620.00</td>\n",
       "      <td>N90 Other noninflammatory disorders of vulva a...</td>\n",
       "      <td>other noninflammatory disorders of vulva and p...</td>\n",
       "    </tr>\n",
       "    <tr>\n",
       "      <th>594</th>\n",
       "      <td>790.10</td>\n",
       "      <td>R70 Elevated erythrocyte sedimentation rate an...</td>\n",
       "      <td>elevated erythrocyte sedimentation rate and ab...</td>\n",
       "    </tr>\n",
       "    <tr>\n",
       "      <th>595</th>\n",
       "      <td>942.00</td>\n",
       "      <td>Y65 Other misadventures during surgical and me...</td>\n",
       "      <td>other misadventures during surgical and medica...</td>\n",
       "    </tr>\n",
       "  </tbody>\n",
       "</table>\n",
       "<p>596 rows × 3 columns</p>\n",
       "</div>"
      ],
      "text/plain": [
       "         id                                              label  \\\n",
       "0      8.51                                  Intestinal e.coli   \n",
       "1     31.00                 Diseases due to other mycobacteria   \n",
       "2     41.11        Methicillin sensitive Staphylococcus aureus   \n",
       "3     41.12        Methicillin resistant Staphylococcus aureus   \n",
       "4     41.80                                          H. pylori   \n",
       "..      ...                                                ...   \n",
       "591  704.12                    L65 Other nonscarring hair loss   \n",
       "592  620.00      N89 Other noninflammatory disorders of vagina   \n",
       "593  620.00  N90 Other noninflammatory disorders of vulva a...   \n",
       "594  790.10  R70 Elevated erythrocyte sedimentation rate an...   \n",
       "595  942.00  Y65 Other misadventures during surgical and me...   \n",
       "\n",
       "                                            clean_text  \n",
       "0                                    intestinal e coli  \n",
       "1                   diseases due to other mycobacteria  \n",
       "2          methicillin sensitive staphylococcus aureus  \n",
       "3          methicillin resistant staphylococcus aureus  \n",
       "4                                            h  pylori  \n",
       "..                                                 ...  \n",
       "591                        other nonscarring hair loss  \n",
       "592          other noninflammatory disorders of vagina  \n",
       "593  other noninflammatory disorders of vulva and p...  \n",
       "594  elevated erythrocyte sedimentation rate and ab...  \n",
       "595  other misadventures during surgical and medica...  \n",
       "\n",
       "[596 rows x 3 columns]"
      ]
     },
     "execution_count": 8,
     "metadata": {},
     "output_type": "execute_result"
    }
   ],
   "source": [
    "mapping_df = orig_df \\\n",
    "    .rename_column(\"Phecode\", \"id\") \\\n",
    "    .rename_column(\"description\", \"label\") \\\n",
    "    .select_columns([\"id\", \"label\"]) \\\n",
    "    .transform_column(\"label\", fn.clean_text, \"clean_text\")\n",
    "print(mapping_df.info())\n",
    "mapping_df"
   ]
  },
  {
   "cell_type": "code",
   "execution_count": 9,
   "id": "a0bce259-b94a-477e-b448-76b6ce7b8114",
   "metadata": {
    "execution": {
     "iopub.execute_input": "2022-06-08T13:46:18.504220Z",
     "iopub.status.busy": "2022-06-08T13:46:18.504078Z",
     "iopub.status.idle": "2022-06-08T13:47:14.212258Z",
     "shell.execute_reply": "2022-06-08T13:47:14.211155Z",
     "shell.execute_reply.started": "2022-06-08T13:46:18.504203Z"
    },
    "tags": []
   },
   "outputs": [
    {
     "name": "stderr",
     "output_type": "stream",
     "text": [
      "2022-06-08 14:46:18.522 | INFO     | __main__:search_epigraphdb_efo_wrapper:7 - #0/596\n",
      "2022-06-08 14:46:37.805 | INFO     | __main__:search_epigraphdb_efo_wrapper:7 - #200/596\n",
      "2022-06-08 14:46:56.132 | INFO     | __main__:search_epigraphdb_efo_wrapper:7 - #400/596\n"
     ]
    }
   ],
   "source": [
    "def search_epigraphdb_efo_wrapper(s: pd.Series) -> List[List[Dict[str, Any]]]:\n",
    "    echo_step = 200\n",
    "    total = len(s)\n",
    "    res = []\n",
    "    for idx, _ in enumerate(s.tolist()):\n",
    "        if idx % echo_step == 0:\n",
    "            logger.info(f\"#{idx}/{total}\")\n",
    "        item = fn.search_epigraphdb_efo(text=_)\n",
    "        res.append(item)\n",
    "    return res\n",
    "\n",
    "mapping_df = mapping_df \\\n",
    "    .transform_column(\n",
    "        column_name=\"clean_text\", \n",
    "        dest_column_name=\"efo_cands\", \n",
    "        function=search_epigraphdb_efo_wrapper, elementwise=False)\n",
    "\n",
    "cache_path = Path(\".\") / \"mapping_results.json\"\n",
    "with cache_path.open(\"w\") as f:\n",
    "    json.dump(mapping_df.to_dict(orient=\"records\"), f)"
   ]
  },
  {
   "cell_type": "code",
   "execution_count": 10,
   "id": "d8313c9d-7813-4cc2-9bb7-69101748b3f8",
   "metadata": {
    "execution": {
     "iopub.execute_input": "2022-06-08T13:47:14.213887Z",
     "iopub.status.busy": "2022-06-08T13:47:14.213692Z",
     "iopub.status.idle": "2022-06-08T13:47:14.245782Z",
     "shell.execute_reply": "2022-06-08T13:47:14.245155Z",
     "shell.execute_reply.started": "2022-06-08T13:47:14.213869Z"
    },
    "tags": []
   },
   "outputs": [
    {
     "data": {
      "text/html": [
       "<div>\n",
       "<style scoped>\n",
       "    .dataframe tbody tr th:only-of-type {\n",
       "        vertical-align: middle;\n",
       "    }\n",
       "\n",
       "    .dataframe tbody tr th {\n",
       "        vertical-align: top;\n",
       "    }\n",
       "\n",
       "    .dataframe thead th {\n",
       "        text-align: right;\n",
       "    }\n",
       "</style>\n",
       "<table border=\"1\" class=\"dataframe\">\n",
       "  <thead>\n",
       "    <tr style=\"text-align: right;\">\n",
       "      <th></th>\n",
       "      <th>id</th>\n",
       "      <th>label</th>\n",
       "      <th>clean_text</th>\n",
       "      <th>efo_cands</th>\n",
       "    </tr>\n",
       "  </thead>\n",
       "  <tbody>\n",
       "    <tr>\n",
       "      <th>0</th>\n",
       "      <td>8.51</td>\n",
       "      <td>Intestinal e.coli</td>\n",
       "      <td>intestinal e coli</td>\n",
       "      <td>[{'id': 'http://purl.obolibrary.org/obo/NCBITa...</td>\n",
       "    </tr>\n",
       "    <tr>\n",
       "      <th>1</th>\n",
       "      <td>31.00</td>\n",
       "      <td>Diseases due to other mycobacteria</td>\n",
       "      <td>diseases due to other mycobacteria</td>\n",
       "      <td>[{'id': 'http://www.orpha.net/ORDO/Orphanet_18...</td>\n",
       "    </tr>\n",
       "    <tr>\n",
       "      <th>2</th>\n",
       "      <td>41.11</td>\n",
       "      <td>Methicillin sensitive Staphylococcus aureus</td>\n",
       "      <td>methicillin sensitive staphylococcus aureus</td>\n",
       "      <td>[{'id': 'http://purl.obolibrary.org/obo/NCBITa...</td>\n",
       "    </tr>\n",
       "    <tr>\n",
       "      <th>3</th>\n",
       "      <td>41.12</td>\n",
       "      <td>Methicillin resistant Staphylococcus aureus</td>\n",
       "      <td>methicillin resistant staphylococcus aureus</td>\n",
       "      <td>[{'id': 'http://purl.obolibrary.org/obo/NCBITa...</td>\n",
       "    </tr>\n",
       "    <tr>\n",
       "      <th>4</th>\n",
       "      <td>41.80</td>\n",
       "      <td>H. pylori</td>\n",
       "      <td>h  pylori</td>\n",
       "      <td>[{'id': 'http://purl.obolibrary.org/obo/NCBITa...</td>\n",
       "    </tr>\n",
       "  </tbody>\n",
       "</table>\n",
       "</div>"
      ],
      "text/plain": [
       "      id                                        label  \\\n",
       "0   8.51                            Intestinal e.coli   \n",
       "1  31.00           Diseases due to other mycobacteria   \n",
       "2  41.11  Methicillin sensitive Staphylococcus aureus   \n",
       "3  41.12  Methicillin resistant Staphylococcus aureus   \n",
       "4  41.80                                    H. pylori   \n",
       "\n",
       "                                    clean_text  \\\n",
       "0                            intestinal e coli   \n",
       "1           diseases due to other mycobacteria   \n",
       "2  methicillin sensitive staphylococcus aureus   \n",
       "3  methicillin resistant staphylococcus aureus   \n",
       "4                                    h  pylori   \n",
       "\n",
       "                                           efo_cands  \n",
       "0  [{'id': 'http://purl.obolibrary.org/obo/NCBITa...  \n",
       "1  [{'id': 'http://www.orpha.net/ORDO/Orphanet_18...  \n",
       "2  [{'id': 'http://purl.obolibrary.org/obo/NCBITa...  \n",
       "3  [{'id': 'http://purl.obolibrary.org/obo/NCBITa...  \n",
       "4  [{'id': 'http://purl.obolibrary.org/obo/NCBITa...  "
      ]
     },
     "execution_count": 10,
     "metadata": {},
     "output_type": "execute_result"
    }
   ],
   "source": [
    "mapping_df.head()"
   ]
  },
  {
   "cell_type": "code",
   "execution_count": 11,
   "id": "63e78049-6248-4dba-9a5c-0ec00880f78e",
   "metadata": {
    "execution": {
     "iopub.execute_input": "2022-06-08T13:47:14.246882Z",
     "iopub.status.busy": "2022-06-08T13:47:14.246749Z",
     "iopub.status.idle": "2022-06-08T13:47:14.284351Z",
     "shell.execute_reply": "2022-06-08T13:47:14.283734Z",
     "shell.execute_reply.started": "2022-06-08T13:47:14.246866Z"
    },
    "tags": []
   },
   "outputs": [
    {
     "data": {
      "text/html": [
       "<div>\n",
       "<style scoped>\n",
       "    .dataframe tbody tr th:only-of-type {\n",
       "        vertical-align: middle;\n",
       "    }\n",
       "\n",
       "    .dataframe tbody tr th {\n",
       "        vertical-align: top;\n",
       "    }\n",
       "\n",
       "    .dataframe thead th {\n",
       "        text-align: right;\n",
       "    }\n",
       "</style>\n",
       "<table border=\"1\" class=\"dataframe\">\n",
       "  <thead>\n",
       "    <tr style=\"text-align: right;\">\n",
       "      <th></th>\n",
       "      <th>id</th>\n",
       "      <th>label</th>\n",
       "      <th>clean_text</th>\n",
       "      <th>efo_cands</th>\n",
       "      <th>highest_score</th>\n",
       "      <th>score_bin</th>\n",
       "    </tr>\n",
       "  </thead>\n",
       "  <tbody>\n",
       "    <tr>\n",
       "      <th>0</th>\n",
       "      <td>8.51</td>\n",
       "      <td>Intestinal e.coli</td>\n",
       "      <td>intestinal e coli</td>\n",
       "      <td>[{'id': 'http://purl.obolibrary.org/obo/NCBITa...</td>\n",
       "      <td>0.734050</td>\n",
       "      <td>(0.6, 0.8]</td>\n",
       "    </tr>\n",
       "    <tr>\n",
       "      <th>1</th>\n",
       "      <td>31.00</td>\n",
       "      <td>Diseases due to other mycobacteria</td>\n",
       "      <td>diseases due to other mycobacteria</td>\n",
       "      <td>[{'id': 'http://www.orpha.net/ORDO/Orphanet_18...</td>\n",
       "      <td>0.736293</td>\n",
       "      <td>(0.6, 0.8]</td>\n",
       "    </tr>\n",
       "    <tr>\n",
       "      <th>2</th>\n",
       "      <td>41.11</td>\n",
       "      <td>Methicillin sensitive Staphylococcus aureus</td>\n",
       "      <td>methicillin sensitive staphylococcus aureus</td>\n",
       "      <td>[{'id': 'http://purl.obolibrary.org/obo/NCBITa...</td>\n",
       "      <td>0.938938</td>\n",
       "      <td>(0.9, 1.0]</td>\n",
       "    </tr>\n",
       "    <tr>\n",
       "      <th>3</th>\n",
       "      <td>41.12</td>\n",
       "      <td>Methicillin resistant Staphylococcus aureus</td>\n",
       "      <td>methicillin resistant staphylococcus aureus</td>\n",
       "      <td>[{'id': 'http://purl.obolibrary.org/obo/NCBITa...</td>\n",
       "      <td>0.940465</td>\n",
       "      <td>(0.9, 1.0]</td>\n",
       "    </tr>\n",
       "    <tr>\n",
       "      <th>4</th>\n",
       "      <td>41.80</td>\n",
       "      <td>H. pylori</td>\n",
       "      <td>h  pylori</td>\n",
       "      <td>[{'id': 'http://purl.obolibrary.org/obo/NCBITa...</td>\n",
       "      <td>0.752023</td>\n",
       "      <td>(0.6, 0.8]</td>\n",
       "    </tr>\n",
       "    <tr>\n",
       "      <th>...</th>\n",
       "      <td>...</td>\n",
       "      <td>...</td>\n",
       "      <td>...</td>\n",
       "      <td>...</td>\n",
       "      <td>...</td>\n",
       "      <td>...</td>\n",
       "    </tr>\n",
       "    <tr>\n",
       "      <th>591</th>\n",
       "      <td>704.12</td>\n",
       "      <td>L65 Other nonscarring hair loss</td>\n",
       "      <td>other nonscarring hair loss</td>\n",
       "      <td>[{'id': 'http://purl.obolibrary.org/obo/HP_000...</td>\n",
       "      <td>0.693470</td>\n",
       "      <td>(0.6, 0.8]</td>\n",
       "    </tr>\n",
       "    <tr>\n",
       "      <th>592</th>\n",
       "      <td>620.00</td>\n",
       "      <td>N89 Other noninflammatory disorders of vagina</td>\n",
       "      <td>other noninflammatory disorders of vagina</td>\n",
       "      <td>[{'id': 'http://purl.obolibrary.org/obo/MONDO_...</td>\n",
       "      <td>0.696924</td>\n",
       "      <td>(0.6, 0.8]</td>\n",
       "    </tr>\n",
       "    <tr>\n",
       "      <th>593</th>\n",
       "      <td>620.00</td>\n",
       "      <td>N90 Other noninflammatory disorders of vulva a...</td>\n",
       "      <td>other noninflammatory disorders of vulva and p...</td>\n",
       "      <td>[{'id': 'http://purl.obolibrary.org/obo/MONDO_...</td>\n",
       "      <td>0.683544</td>\n",
       "      <td>(0.6, 0.8]</td>\n",
       "    </tr>\n",
       "    <tr>\n",
       "      <th>594</th>\n",
       "      <td>790.10</td>\n",
       "      <td>R70 Elevated erythrocyte sedimentation rate an...</td>\n",
       "      <td>elevated erythrocyte sedimentation rate and ab...</td>\n",
       "      <td>[{'id': 'http://www.ebi.ac.uk/efo/EFO_0005047'...</td>\n",
       "      <td>0.766044</td>\n",
       "      <td>(0.6, 0.8]</td>\n",
       "    </tr>\n",
       "    <tr>\n",
       "      <th>595</th>\n",
       "      <td>942.00</td>\n",
       "      <td>Y65 Other misadventures during surgical and me...</td>\n",
       "      <td>other misadventures during surgical and medica...</td>\n",
       "      <td>[{'id': 'http://www.ebi.ac.uk/efo/EFO_0002571'...</td>\n",
       "      <td>0.780891</td>\n",
       "      <td>(0.6, 0.8]</td>\n",
       "    </tr>\n",
       "  </tbody>\n",
       "</table>\n",
       "<p>596 rows × 6 columns</p>\n",
       "</div>"
      ],
      "text/plain": [
       "         id                                              label  \\\n",
       "0      8.51                                  Intestinal e.coli   \n",
       "1     31.00                 Diseases due to other mycobacteria   \n",
       "2     41.11        Methicillin sensitive Staphylococcus aureus   \n",
       "3     41.12        Methicillin resistant Staphylococcus aureus   \n",
       "4     41.80                                          H. pylori   \n",
       "..      ...                                                ...   \n",
       "591  704.12                    L65 Other nonscarring hair loss   \n",
       "592  620.00      N89 Other noninflammatory disorders of vagina   \n",
       "593  620.00  N90 Other noninflammatory disorders of vulva a...   \n",
       "594  790.10  R70 Elevated erythrocyte sedimentation rate an...   \n",
       "595  942.00  Y65 Other misadventures during surgical and me...   \n",
       "\n",
       "                                            clean_text  \\\n",
       "0                                    intestinal e coli   \n",
       "1                   diseases due to other mycobacteria   \n",
       "2          methicillin sensitive staphylococcus aureus   \n",
       "3          methicillin resistant staphylococcus aureus   \n",
       "4                                            h  pylori   \n",
       "..                                                 ...   \n",
       "591                        other nonscarring hair loss   \n",
       "592          other noninflammatory disorders of vagina   \n",
       "593  other noninflammatory disorders of vulva and p...   \n",
       "594  elevated erythrocyte sedimentation rate and ab...   \n",
       "595  other misadventures during surgical and medica...   \n",
       "\n",
       "                                             efo_cands  highest_score  \\\n",
       "0    [{'id': 'http://purl.obolibrary.org/obo/NCBITa...       0.734050   \n",
       "1    [{'id': 'http://www.orpha.net/ORDO/Orphanet_18...       0.736293   \n",
       "2    [{'id': 'http://purl.obolibrary.org/obo/NCBITa...       0.938938   \n",
       "3    [{'id': 'http://purl.obolibrary.org/obo/NCBITa...       0.940465   \n",
       "4    [{'id': 'http://purl.obolibrary.org/obo/NCBITa...       0.752023   \n",
       "..                                                 ...            ...   \n",
       "591  [{'id': 'http://purl.obolibrary.org/obo/HP_000...       0.693470   \n",
       "592  [{'id': 'http://purl.obolibrary.org/obo/MONDO_...       0.696924   \n",
       "593  [{'id': 'http://purl.obolibrary.org/obo/MONDO_...       0.683544   \n",
       "594  [{'id': 'http://www.ebi.ac.uk/efo/EFO_0005047'...       0.766044   \n",
       "595  [{'id': 'http://www.ebi.ac.uk/efo/EFO_0002571'...       0.780891   \n",
       "\n",
       "      score_bin  \n",
       "0    (0.6, 0.8]  \n",
       "1    (0.6, 0.8]  \n",
       "2    (0.9, 1.0]  \n",
       "3    (0.9, 1.0]  \n",
       "4    (0.6, 0.8]  \n",
       "..          ...  \n",
       "591  (0.6, 0.8]  \n",
       "592  (0.6, 0.8]  \n",
       "593  (0.6, 0.8]  \n",
       "594  (0.6, 0.8]  \n",
       "595  (0.6, 0.8]  \n",
       "\n",
       "[596 rows x 6 columns]"
      ]
     },
     "execution_count": 11,
     "metadata": {},
     "output_type": "execute_result"
    }
   ],
   "source": [
    "mapping_df_1 = mapping_df \\\n",
    "    .transform_column(\n",
    "        column_name=\"efo_cands\",\n",
    "        dest_column_name=\"highest_score\",\n",
    "        function=lambda item: item[0][\"score\"] if len(item) > 0 else None\n",
    "    ) \\\n",
    "   .transform_column(\n",
    "        column_name=\"highest_score\",\n",
    "        dest_column_name=\"score_bin\",\n",
    "        elementwise=False,\n",
    "        function=lambda s: pd.cut(s, bins=[0, 0.6, 0.8, 0.9, 1.0])\n",
    "    ) \\\n",
    "   .transform_column(\n",
    "        column_name=\"score_bin\",\n",
    "        elementwise=True,\n",
    "        function=lambda e: None if e is None else str(e)\n",
    "    )\n",
    "mapping_df_1"
   ]
  },
  {
   "cell_type": "code",
   "execution_count": 12,
   "id": "a8aa096b-f68c-4e9d-8755-be807c5f6d4c",
   "metadata": {
    "execution": {
     "iopub.execute_input": "2022-06-08T13:47:14.285478Z",
     "iopub.status.busy": "2022-06-08T13:47:14.285087Z",
     "iopub.status.idle": "2022-06-08T13:47:14.301051Z",
     "shell.execute_reply": "2022-06-08T13:47:14.300268Z",
     "shell.execute_reply.started": "2022-06-08T13:47:14.285460Z"
    },
    "tags": []
   },
   "outputs": [
    {
     "data": {
      "text/plain": [
       "(0.6, 0.8]    258\n",
       "(0.8, 0.9]    182\n",
       "(0.9, 1.0]    138\n",
       "(0.0, 0.6]     18\n",
       "Name: score_bin, dtype: int64"
      ]
     },
     "execution_count": 12,
     "metadata": {},
     "output_type": "execute_result"
    }
   ],
   "source": [
    "mapping_df_1[\"score_bin\"].value_counts()"
   ]
  },
  {
   "cell_type": "code",
   "execution_count": 13,
   "id": "3606214d-affc-4149-b8a9-ffc6ff2f368b",
   "metadata": {
    "execution": {
     "iopub.execute_input": "2022-06-08T13:47:14.302796Z",
     "iopub.status.busy": "2022-06-08T13:47:14.302565Z",
     "iopub.status.idle": "2022-06-08T13:47:14.317365Z",
     "shell.execute_reply": "2022-06-08T13:47:14.316610Z",
     "shell.execute_reply.started": "2022-06-08T13:47:14.302780Z"
    },
    "tags": []
   },
   "outputs": [
    {
     "data": {
      "text/plain": [
       "0"
      ]
     },
     "execution_count": 13,
     "metadata": {},
     "output_type": "execute_result"
    }
   ],
   "source": [
    "mapping_df_1[\"score_bin\"].isna().pipe(sum)"
   ]
  },
  {
   "cell_type": "code",
   "execution_count": 14,
   "id": "7a3e5a7e-d1b4-402f-98f8-1ae2bda19304",
   "metadata": {
    "execution": {
     "iopub.execute_input": "2022-06-08T13:47:14.318189Z",
     "iopub.status.busy": "2022-06-08T13:47:14.318065Z",
     "iopub.status.idle": "2022-06-08T13:47:14.334784Z",
     "shell.execute_reply": "2022-06-08T13:47:14.334154Z",
     "shell.execute_reply.started": "2022-06-08T13:47:14.318175Z"
    },
    "tags": []
   },
   "outputs": [
    {
     "data": {
      "text/html": [
       "<div>\n",
       "<style scoped>\n",
       "    .dataframe tbody tr th:only-of-type {\n",
       "        vertical-align: middle;\n",
       "    }\n",
       "\n",
       "    .dataframe tbody tr th {\n",
       "        vertical-align: top;\n",
       "    }\n",
       "\n",
       "    .dataframe thead th {\n",
       "        text-align: right;\n",
       "    }\n",
       "</style>\n",
       "<table border=\"1\" class=\"dataframe\">\n",
       "  <thead>\n",
       "    <tr style=\"text-align: right;\">\n",
       "      <th></th>\n",
       "      <th>id</th>\n",
       "      <th>label</th>\n",
       "      <th>clean_text</th>\n",
       "      <th>efo_cands</th>\n",
       "      <th>highest_score</th>\n",
       "      <th>score_bin</th>\n",
       "    </tr>\n",
       "  </thead>\n",
       "  <tbody>\n",
       "  </tbody>\n",
       "</table>\n",
       "</div>"
      ],
      "text/plain": [
       "Empty DataFrame\n",
       "Columns: [id, label, clean_text, efo_cands, highest_score, score_bin]\n",
       "Index: []"
      ]
     },
     "execution_count": 14,
     "metadata": {},
     "output_type": "execute_result"
    }
   ],
   "source": [
    "mapping_df_1.filter_column_isin(\"score_bin\", [None])"
   ]
  }
 ],
 "metadata": {
  "kernelspec": {
   "display_name": "Python 3 (ipykernel)",
   "language": "python",
   "name": "python3"
  },
  "language_info": {
   "codemirror_mode": {
    "name": "ipython",
    "version": 3
   },
   "file_extension": ".py",
   "mimetype": "text/x-python",
   "name": "python",
   "nbconvert_exporter": "python",
   "pygments_lexer": "ipython3",
   "version": "3.8.13"
  }
 },
 "nbformat": 4,
 "nbformat_minor": 5
}
